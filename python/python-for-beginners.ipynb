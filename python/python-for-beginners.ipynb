{
 "cells": [
  {
   "cell_type": "markdown",
   "metadata": {
    "id": "tAmvMp1Twv7-",
    "lines_to_next_cell": 2
   },
   "source": [
    "# Python, Installation, Jupyter, NumPy, & Matplotlib\n",
    "\n",
    "A refresher for getting started with Python\n",
    "\n",
    "Matt Harrison - metasnake.com @\\_\\_mharrison\\_\\_\n"
   ]
  },
  {
   "cell_type": "markdown",
   "metadata": {
    "id": "e56evGV4wv8A"
   },
   "source": [
    "# Overview\n",
    "\n",
    "- Why Python?\n",
    "- Jupyter\n",
    "- Python\n",
    "- NumPy\n",
    "- Matplotlib\n"
   ]
  },
  {
   "cell_type": "markdown",
   "metadata": {
    "id": "eeyLzbLDwv8A"
   },
   "source": [
    "# Why?\n",
    "\n",
    "- People who aren\\'t CS can pick it up quickly. (Engineers, admins,\n",
    "  scientists)\n",
    "- 300,000+ packages!\n",
    "- Easy to get started\n",
    "- Taught at Schools (MIT, Stanford, etc)\n"
   ]
  },
  {
   "cell_type": "markdown",
   "metadata": {
    "id": "7A1JAXsWwv8A"
   },
   "source": [
    "## For What?\n",
    "\n",
    "- Cloud/Admin\n",
    "- Embedded Logic\n",
    "- Micro-controllers\n",
    "- Web development\n",
    "- Data Science\n"
   ]
  },
  {
   "cell_type": "markdown",
   "metadata": {
    "id": "UzV_UjiTwv8B"
   },
   "source": [
    "# Installation\n",
    "\n",
    "Two options:\n",
    "\n",
    "- Anaconda\n",
    "- Python.org\n"
   ]
  },
  {
   "cell_type": "markdown",
   "metadata": {
    "id": "aLuLaxadwv8B"
   },
   "source": [
    "## Anaconda\n",
    "\n",
    "- Pre-compiled meta-distribution\n",
    "- Includes many scientific libraries\n",
    "- Can create \\\"environments\\\"\n"
   ]
  },
  {
   "cell_type": "markdown",
   "metadata": {
    "id": "SOk071bRwv8B"
   },
   "source": [
    "## Basic Setup Steps\n",
    "\n",
    "- Install Anaconda (for Python 3) from anaconda.org\n",
    "- Launch Ananconda Prompt (or terminal) and create an environment:\n",
    "\n",
    "      conda create --name condaenv python=3.9\n",
    "\n",
    "- Activate the environment:\n",
    "\n",
    "      conda activate condaenv\n",
    "\n",
    "- Install libraries:\n",
    "\n",
    "      conda install notebook numpy matplotlib\n",
    "\n",
    "- Launch Jupyter:\n",
    "\n",
    "      jupyter notebook\n"
   ]
  },
  {
   "cell_type": "markdown",
   "metadata": {
    "id": "gFamTXWHwv8C"
   },
   "source": [
    "## Python from python.org\n",
    "\n",
    "- Just \\\"Python\\\" (including standard library)\n",
    "- Need to install libraries into virtual environments\n"
   ]
  },
  {
   "cell_type": "markdown",
   "metadata": {
    "id": "w6n7y40vwv8C"
   },
   "source": [
    "## Basic Setup Steps\n",
    "\n",
    "- Install Python 3\n",
    "- Launch a terminal or command prompt and create a virtual\n",
    "  environment:\n",
    "\n",
    "      python3 -m venv pyenv\n",
    "\n",
    "- Activate virtual environment\n",
    "\n",
    "  - Windows:\n",
    "\n",
    "        pyenv\\Scripts\\activate\n",
    "\n",
    "  - Unix (Mac/Linux):\n",
    "\n",
    "        source pyenv/bin/activate\n",
    "\n",
    "- Install libraries:\n",
    "\n",
    "      pip install notebook numpy matplotlib\n",
    "\n",
    "- Launch Jupyter:\n",
    "\n",
    "      jupyter notebook\n"
   ]
  },
  {
   "cell_type": "markdown",
   "metadata": {
    "id": "vHBe95tGwv8C"
   },
   "source": [
    "## Pros/Cons\n",
    "\n",
    "- Traditionally setting up system to build libraries as painful\n",
    "  (especially on Windows)\n",
    "- For \\\"basic\\\" libraries doesn\\'t really matter\n",
    "- For some libraries (GPU) might be easier with Conda\n"
   ]
  },
  {
   "cell_type": "markdown",
   "metadata": {
    "id": "Y_BIATwDwv8C"
   },
   "source": [
    "# Jupyter\n",
    "\n",
    "A REPL with two modes:\n",
    "\n",
    "- Command\n",
    "- Edit\n"
   ]
  },
  {
   "cell_type": "markdown",
   "metadata": {
    "id": "JqyRnNWhwv8D"
   },
   "source": [
    "## Command Mode\n",
    "\n",
    "- `a` - Above\n",
    "- `b` - Below\n",
    "- `CTL-Enter` - Run\n",
    "  - `c`, `x`, `v` - Copy, cut, paste\n",
    "- `ii` - Interrupt Kernel\n",
    "- `00` - Restart Kernel (zero two times)\n"
   ]
  },
  {
   "cell_type": "markdown",
   "metadata": {
    "id": "8qmgNvS4wv8D"
   },
   "source": [
    "## Edit Mode\n",
    "\n",
    "- `TAB` - Completion\n",
    "- `Shift-TAB` - Documentation (hit 4x to popup)\n",
    "- `ESC` - Back to command mode w/o running\n",
    "- `CTL-Enter` - Run\n"
   ]
  },
  {
   "cell_type": "markdown",
   "metadata": {
    "id": "Tb_guaAdwv8D"
   },
   "source": [
    "## Hints\n",
    "\n",
    "- Add `?` to functions and methods to see docs\n",
    "- Add `??` to functions and methods to see source\n",
    "- Add cell magic to make matplotlib plots show up:\n",
    "\n",
    "      %matplotlib inline\n",
    "\n",
    "- See cell magics:\n",
    "\n",
    "      %lsmagic\n"
   ]
  },
  {
   "cell_type": "code",
   "execution_count": 135,
   "metadata": {
    "colab": {
     "base_uri": "https://localhost:8080/",
     "height": 156
    },
    "executionInfo": {
     "elapsed": 13,
     "status": "ok",
     "timestamp": 1629702057256,
     "user": {
      "displayName": "OpenCV Courses",
      "photoUrl": "https://lh3.googleusercontent.com/a-/AOh14Gj89OzY5qxoefxqem3cjnHs8L3Eg0702oSx1wTRHQ=s64",
      "userId": "10948873180869590219"
     },
     "user_tz": -330
    },
    "id": "41xCChtzwv8D",
    "outputId": "f7ca7f58-6899-4fa6-ea85-c665d96daf8e"
   },
   "outputs": [
    {
     "data": {
      "application/json": {
       "cell": {
        "!": "OSMagics",
        "HTML": "Other",
        "SVG": "Other",
        "bash": "Other",
        "capture": "ExecutionMagics",
        "code_wrap": "ExecutionMagics",
        "debug": "ExecutionMagics",
        "file": "Other",
        "html": "DisplayMagics",
        "javascript": "DisplayMagics",
        "js": "DisplayMagics",
        "latex": "DisplayMagics",
        "markdown": "DisplayMagics",
        "perl": "Other",
        "prun": "ExecutionMagics",
        "pypy": "Other",
        "python": "Other",
        "python2": "Other",
        "python3": "Other",
        "ruby": "Other",
        "script": "ScriptMagics",
        "sh": "Other",
        "svg": "DisplayMagics",
        "sx": "OSMagics",
        "system": "OSMagics",
        "time": "ExecutionMagics",
        "timeit": "ExecutionMagics",
        "writefile": "OSMagics"
       },
       "line": {
        "alias": "OSMagics",
        "alias_magic": "BasicMagics",
        "autoawait": "AsyncMagics",
        "autocall": "AutoMagics",
        "automagic": "AutoMagics",
        "autosave": "KernelMagics",
        "bookmark": "OSMagics",
        "cat": "Other",
        "cd": "OSMagics",
        "clear": "KernelMagics",
        "code_wrap": "ExecutionMagics",
        "colors": "BasicMagics",
        "conda": "PackagingMagics",
        "config": "ConfigMagics",
        "connect_info": "KernelMagics",
        "cp": "Other",
        "debug": "ExecutionMagics",
        "dhist": "OSMagics",
        "dirs": "OSMagics",
        "doctest_mode": "BasicMagics",
        "ed": "Other",
        "edit": "KernelMagics",
        "env": "OSMagics",
        "gui": "BasicMagics",
        "hist": "Other",
        "history": "HistoryMagics",
        "killbgscripts": "ScriptMagics",
        "ldir": "Other",
        "less": "KernelMagics",
        "lf": "Other",
        "lk": "Other",
        "ll": "Other",
        "load": "CodeMagics",
        "load_ext": "ExtensionMagics",
        "loadpy": "CodeMagics",
        "logoff": "LoggingMagics",
        "logon": "LoggingMagics",
        "logstart": "LoggingMagics",
        "logstate": "LoggingMagics",
        "logstop": "LoggingMagics",
        "ls": "Other",
        "lsmagic": "BasicMagics",
        "lx": "Other",
        "macro": "ExecutionMagics",
        "magic": "BasicMagics",
        "man": "KernelMagics",
        "matplotlib": "PylabMagics",
        "mkdir": "Other",
        "more": "KernelMagics",
        "mv": "Other",
        "notebook": "BasicMagics",
        "page": "BasicMagics",
        "pastebin": "CodeMagics",
        "pdb": "ExecutionMagics",
        "pdef": "NamespaceMagics",
        "pdoc": "NamespaceMagics",
        "pfile": "NamespaceMagics",
        "pinfo": "NamespaceMagics",
        "pinfo2": "NamespaceMagics",
        "pip": "PackagingMagics",
        "popd": "OSMagics",
        "pprint": "BasicMagics",
        "precision": "BasicMagics",
        "prun": "ExecutionMagics",
        "psearch": "NamespaceMagics",
        "psource": "NamespaceMagics",
        "pushd": "OSMagics",
        "pwd": "OSMagics",
        "pycat": "OSMagics",
        "pylab": "PylabMagics",
        "qtconsole": "KernelMagics",
        "quickref": "BasicMagics",
        "recall": "HistoryMagics",
        "rehashx": "OSMagics",
        "reload_ext": "ExtensionMagics",
        "rep": "Other",
        "rerun": "HistoryMagics",
        "reset": "NamespaceMagics",
        "reset_selective": "NamespaceMagics",
        "rm": "Other",
        "rmdir": "Other",
        "run": "ExecutionMagics",
        "save": "CodeMagics",
        "sc": "OSMagics",
        "set_env": "OSMagics",
        "store": "StoreMagics",
        "sx": "OSMagics",
        "system": "OSMagics",
        "tb": "ExecutionMagics",
        "time": "ExecutionMagics",
        "timeit": "ExecutionMagics",
        "unalias": "OSMagics",
        "unload_ext": "ExtensionMagics",
        "who": "NamespaceMagics",
        "who_ls": "NamespaceMagics",
        "whos": "NamespaceMagics",
        "xdel": "NamespaceMagics",
        "xmode": "BasicMagics"
       }
      },
      "text/plain": [
       "Available line magics:\n",
       "%alias  %alias_magic  %autoawait  %autocall  %automagic  %autosave  %bookmark  %cat  %cd  %clear  %code_wrap  %colors  %conda  %config  %connect_info  %cp  %debug  %dhist  %dirs  %doctest_mode  %ed  %edit  %env  %gui  %hist  %history  %killbgscripts  %ldir  %less  %lf  %lk  %ll  %load  %load_ext  %loadpy  %logoff  %logon  %logstart  %logstate  %logstop  %ls  %lsmagic  %lx  %macro  %magic  %man  %matplotlib  %mkdir  %more  %mv  %notebook  %page  %pastebin  %pdb  %pdef  %pdoc  %pfile  %pinfo  %pinfo2  %pip  %popd  %pprint  %precision  %prun  %psearch  %psource  %pushd  %pwd  %pycat  %pylab  %qtconsole  %quickref  %recall  %rehashx  %reload_ext  %rep  %rerun  %reset  %reset_selective  %rm  %rmdir  %run  %save  %sc  %set_env  %store  %sx  %system  %tb  %time  %timeit  %unalias  %unload_ext  %who  %who_ls  %whos  %xdel  %xmode\n",
       "\n",
       "Available cell magics:\n",
       "%%!  %%HTML  %%SVG  %%bash  %%capture  %%code_wrap  %%debug  %%file  %%html  %%javascript  %%js  %%latex  %%markdown  %%perl  %%prun  %%pypy  %%python  %%python2  %%python3  %%ruby  %%script  %%sh  %%svg  %%sx  %%system  %%time  %%timeit  %%writefile\n",
       "\n",
       "Automagic is ON, % prefix IS NOT needed for line magics."
      ]
     },
     "execution_count": 135,
     "metadata": {},
     "output_type": "execute_result"
    }
   ],
   "source": [
    "%lsmagic"
   ]
  },
  {
   "cell_type": "code",
   "execution_count": 136,
   "metadata": {
    "executionInfo": {
     "elapsed": 7,
     "status": "ok",
     "timestamp": 1629702057256,
     "user": {
      "displayName": "OpenCV Courses",
      "photoUrl": "https://lh3.googleusercontent.com/a-/AOh14Gj89OzY5qxoefxqem3cjnHs8L3Eg0702oSx1wTRHQ=s64",
      "userId": "10948873180869590219"
     },
     "user_tz": -330
    },
    "id": "pqfDyqurwv8E"
   },
   "outputs": [
    {
     "name": "stdout",
     "output_type": "stream",
     "text": [
      "\u001b[0;31mDocstring:\u001b[0m\n",
      "Time execution of a Python statement or expression\n",
      "\n",
      "Usage, in line mode:\n",
      "  %timeit [-n<N> -r<R> [-t|-c] -q -p<P> -o] statement\n",
      "or in cell mode:\n",
      "  %%timeit [-n<N> -r<R> [-t|-c] -q -p<P> -o] setup_code\n",
      "  code\n",
      "  code...\n",
      "\n",
      "Time execution of a Python statement or expression using the timeit\n",
      "module.  This function can be used both as a line and cell magic:\n",
      "\n",
      "- In line mode you can time a single-line statement (though multiple\n",
      "  ones can be chained with using semicolons).\n",
      "\n",
      "- In cell mode, the statement in the first line is used as setup code\n",
      "  (executed but not timed) and the body of the cell is timed.  The cell\n",
      "  body has access to any variables created in the setup code.\n",
      "\n",
      "Options:\n",
      "-n<N>: execute the given statement <N> times in a loop. If <N> is not\n",
      "provided, <N> is determined so as to get sufficient accuracy.\n",
      "\n",
      "-r<R>: number of repeats <R>, each consisting of <N> loops, and take the\n",
      "average result.\n",
      "Default: 7\n",
      "\n",
      "-t: use time.time to measure the time, which is the default on Unix.\n",
      "This function measures wall time.\n",
      "\n",
      "-c: use time.clock to measure the time, which is the default on\n",
      "Windows and measures wall time. On Unix, resource.getrusage is used\n",
      "instead and returns the CPU user time.\n",
      "\n",
      "-p<P>: use a precision of <P> digits to display the timing result.\n",
      "Default: 3\n",
      "\n",
      "-q: Quiet, do not print result.\n",
      "\n",
      "-o: return a TimeitResult that can be stored in a variable to inspect\n",
      "    the result in more details.\n",
      "\n",
      ".. versionchanged:: 7.3\n",
      "    User variables are no longer expanded,\n",
      "    the magic line is always left unmodified.\n",
      "\n",
      "Examples\n",
      "--------\n",
      "::\n",
      "\n",
      "  In [1]: %timeit pass\n",
      "  8.26 ns ± 0.12 ns per loop (mean ± std. dev. of 7 runs, 100000000 loops each)\n",
      "\n",
      "  In [2]: u = None\n",
      "\n",
      "  In [3]: %timeit u is None\n",
      "  29.9 ns ± 0.643 ns per loop (mean ± std. dev. of 7 runs, 10000000 loops each)\n",
      "\n",
      "  In [4]: %timeit -r 4 u == None\n",
      "\n",
      "  In [5]: import time\n",
      "\n",
      "  In [6]: %timeit -n1 time.sleep(2)\n",
      "\n",
      "The times reported by %timeit will be slightly higher than those\n",
      "reported by the timeit.py script when variables are accessed. This is\n",
      "due to the fact that %timeit executes the statement in the namespace\n",
      "of the shell, compared with timeit.py, which uses a single setup\n",
      "statement to import function or create variables. Generally, the bias\n",
      "does not matter as long as results from timeit.py are not mixed with\n",
      "those from %timeit.\n",
      "\u001b[0;31mFile:\u001b[0m      ~/.local/lib/python3.10/site-packages/IPython/core/magics/execution.py"
     ]
    }
   ],
   "source": [
    "%%timeit?"
   ]
  },
  {
   "cell_type": "markdown",
   "metadata": {
    "id": "YXIVc4pTwv8E"
   },
   "source": [
    "## Not really an editor\n",
    "\n",
    "When I\\'m writing code to deploy I use an editor. When I\\'m exploring\n",
    "data, I use Jupyter.\n"
   ]
  },
  {
   "cell_type": "markdown",
   "metadata": {
    "id": "YaTFfnK9wv8E"
   },
   "source": [
    "## Other Options\n",
    "\n",
    "- Jupyterlab\n",
    "- VSCode\n",
    "- Pycharm\n",
    "- Emacs\n"
   ]
  },
  {
   "cell_type": "code",
   "execution_count": null,
   "metadata": {
    "id": "6948cgBkwv8E",
    "lines_to_next_cell": 0
   },
   "outputs": [],
   "source": []
  },
  {
   "cell_type": "code",
   "execution_count": null,
   "metadata": {
    "id": "y4nKGZvkwv8E"
   },
   "outputs": [],
   "source": []
  },
  {
   "cell_type": "code",
   "execution_count": null,
   "metadata": {
    "id": "oQO-GbNLwv8E"
   },
   "outputs": [],
   "source": []
  },
  {
   "cell_type": "code",
   "execution_count": null,
   "metadata": {
    "id": "og3B9snOwv8E"
   },
   "outputs": [],
   "source": []
  },
  {
   "cell_type": "code",
   "execution_count": null,
   "metadata": {
    "id": "65oi1q2Nwv8E"
   },
   "outputs": [],
   "source": []
  },
  {
   "cell_type": "code",
   "execution_count": null,
   "metadata": {
    "id": "pz4gGMIQwv8E"
   },
   "outputs": [],
   "source": []
  },
  {
   "cell_type": "code",
   "execution_count": null,
   "metadata": {
    "id": "9P5oojE6wv8E",
    "lines_to_next_cell": 2
   },
   "outputs": [],
   "source": []
  },
  {
   "cell_type": "markdown",
   "metadata": {
    "id": "Wy5EsTPzwv8E"
   },
   "source": [
    "# Python\n"
   ]
  },
  {
   "cell_type": "code",
   "execution_count": 137,
   "metadata": {
    "id": "R6E2bW_8wv8E",
    "lines_to_next_cell": 2,
    "outputId": "60b24a72-ec9c-4d99-e333-6095e0ef3123"
   },
   "outputs": [
    {
     "name": "stdout",
     "output_type": "stream",
     "text": [
      "hello world\n"
     ]
    }
   ],
   "source": [
    "print('hello world') "
   ]
  },
  {
   "cell_type": "code",
   "execution_count": 138,
   "metadata": {
    "id": "HNe1NX_Nwv8F",
    "outputId": "17d01e88-707a-42a4-8171-b4ee30e7ca8e"
   },
   "outputs": [],
   "source": [
    "import this"
   ]
  },
  {
   "cell_type": "code",
   "execution_count": 139,
   "metadata": {
    "id": "-rMDpuq_wv8F",
    "lines_to_next_cell": 2
   },
   "outputs": [],
   "source": [
    "status = 'off'"
   ]
  },
  {
   "cell_type": "markdown",
   "metadata": {
    "id": "2sRVDeYhwv8F"
   },
   "source": [
    "Variables don't have a type (note `a` is a horrible variable name)\n"
   ]
  },
  {
   "cell_type": "code",
   "execution_count": 140,
   "metadata": {
    "id": "kiiq9ogTwv8F"
   },
   "outputs": [],
   "source": [
    "a = 400"
   ]
  },
  {
   "cell_type": "code",
   "execution_count": 141,
   "metadata": {
    "id": "pj0QI88twv8F"
   },
   "outputs": [],
   "source": [
    "a = '400'"
   ]
  },
  {
   "cell_type": "markdown",
   "metadata": {
    "id": "CDarzc_qwv8F",
    "lines_to_next_cell": 2
   },
   "source": [
    "Everything in _Python_ is an object that has:\n",
    "\n",
    "- an _identity_ (`id`)\n",
    "- a _type_ (`type`). Determines what operations object can perform.\n",
    "- a _value_ (mutable or immutable)\n",
    "- a _reference count_\n"
   ]
  },
  {
   "cell_type": "code",
   "execution_count": 142,
   "metadata": {
    "id": "TB7UpT_4wv8F",
    "lines_to_next_cell": 2,
    "outputId": "cfe30078-4b48-4f48-bc93-c0972fae75ef"
   },
   "outputs": [
    {
     "data": {
      "text/plain": [
       "140363229027248"
      ]
     },
     "execution_count": 142,
     "metadata": {},
     "output_type": "execute_result"
    }
   ],
   "source": [
    "id(a)"
   ]
  },
  {
   "cell_type": "code",
   "execution_count": 143,
   "metadata": {
    "id": "OfNWJCO5wv8F",
    "lines_to_next_cell": 2,
    "outputId": "ae2baff6-8bbf-4fe0-ec72-bd9f7fde33ed"
   },
   "outputs": [
    {
     "data": {
      "text/plain": [
       "str"
      ]
     },
     "execution_count": 143,
     "metadata": {},
     "output_type": "execute_result"
    }
   ],
   "source": [
    "type(a)"
   ]
  },
  {
   "cell_type": "code",
   "execution_count": 144,
   "metadata": {
    "id": "dlIOym5Owv8F",
    "lines_to_next_cell": 2,
    "outputId": "f4ce2ed3-a309-4871-a11a-c1398bb1c110"
   },
   "outputs": [
    {
     "data": {
      "text/plain": [
       "'400'"
      ]
     },
     "execution_count": 144,
     "metadata": {},
     "output_type": "execute_result"
    }
   ],
   "source": [
    "a"
   ]
  },
  {
   "cell_type": "code",
   "execution_count": 145,
   "metadata": {
    "id": "YvY4TBv5wv8F",
    "lines_to_next_cell": 2,
    "outputId": "1490d5a1-5a7e-49fc-ab9d-a4a49aee8c7d"
   },
   "outputs": [
    {
     "data": {
      "text/plain": [
       "12"
      ]
     },
     "execution_count": 145,
     "metadata": {},
     "output_type": "execute_result"
    }
   ],
   "source": [
    "import sys\n",
    "sys.getrefcount(a)"
   ]
  },
  {
   "cell_type": "code",
   "execution_count": null,
   "metadata": {
    "id": "zuTUWD0Twv8F"
   },
   "outputs": [],
   "source": []
  },
  {
   "cell_type": "code",
   "execution_count": null,
   "metadata": {
    "id": "NxdY-LhZwv8F"
   },
   "outputs": [],
   "source": []
  },
  {
   "cell_type": "code",
   "execution_count": null,
   "metadata": {
    "id": "Pxi81qaswv8F"
   },
   "outputs": [],
   "source": []
  },
  {
   "cell_type": "code",
   "execution_count": null,
   "metadata": {
    "id": "iZ5C_N0xwv8F"
   },
   "outputs": [],
   "source": []
  },
  {
   "cell_type": "code",
   "execution_count": null,
   "metadata": {
    "id": "vLpviTjIwv8G",
    "lines_to_next_cell": 2
   },
   "outputs": [],
   "source": []
  },
  {
   "cell_type": "code",
   "execution_count": null,
   "metadata": {
    "id": "CMosqm2Ywv8G"
   },
   "outputs": [],
   "source": []
  },
  {
   "cell_type": "markdown",
   "metadata": {
    "id": "3rx5nWjMwv8G"
   },
   "source": [
    "## Literals\n"
   ]
  },
  {
   "cell_type": "code",
   "execution_count": 146,
   "metadata": {
    "id": "EIOgP3yxwv8G",
    "lines_to_next_cell": 2,
    "outputId": "74680272-20ae-4062-de35-8a2b52870a7d"
   },
   "outputs": [
    {
     "ename": "TypeError",
     "evalue": "'str' object is not callable",
     "output_type": "error",
     "traceback": [
      "\u001b[0;31m---------------------------------------------------------------------------\u001b[0m",
      "\u001b[0;31mTypeError\u001b[0m                                 Traceback (most recent call last)",
      "\u001b[1;32m/home/yibotian/Downloads/python-for-beginners.ipynb Cell 45\u001b[0m line \u001b[0;36m2\n\u001b[1;32m      <a href='vscode-notebook-cell:/home/yibotian/Downloads/python-for-beginners.ipynb#Z2541sZmlsZQ%3D%3D?line=0'>1</a>\u001b[0m name \u001b[39m=\u001b[39m \u001b[39m'\u001b[39m\u001b[39mmatt \u001b[39m\u001b[39m\\N{GRINNING FACE}\u001b[39;00m\u001b[39m'\u001b[39m  \u001b[39m# literal\u001b[39;00m\n\u001b[0;32m----> <a href='vscode-notebook-cell:/home/yibotian/Downloads/python-for-beginners.ipynb#Z2541sZmlsZQ%3D%3D?line=1'>2</a>\u001b[0m age_string \u001b[39m=\u001b[39m \u001b[39mstr\u001b[39;49m(\u001b[39m40\u001b[39;49m)  \u001b[39m# using str constructor\u001b[39;00m\n\u001b[1;32m      <a href='vscode-notebook-cell:/home/yibotian/Downloads/python-for-beginners.ipynb#Z2541sZmlsZQ%3D%3D?line=2'>3</a>\u001b[0m name\n",
      "\u001b[0;31mTypeError\u001b[0m: 'str' object is not callable"
     ]
    }
   ],
   "source": [
    "name = 'matt \\N{GRINNING FACE}'  # literal\n",
    "age_string = str(40)  # using str constructor\n",
    "name"
   ]
  },
  {
   "cell_type": "code",
   "execution_count": null,
   "metadata": {
    "id": "_x1gbev-wv8G",
    "lines_to_next_cell": 2
   },
   "outputs": [],
   "source": [
    "# Constructor in parens\n",
    "age = 40   # integer literal (int)\n",
    "cost = 5.5   # float literal (float)\n",
    "loc = 1+0j   # complex literal (complex)"
   ]
  },
  {
   "cell_type": "code",
   "execution_count": null,
   "metadata": {
    "id": "9R0fbR2nwv8G",
    "lines_to_next_cell": 2
   },
   "outputs": [],
   "source": [
    "# List literal\n",
    "names = [name, 'suzy', 'fred']\n",
    "characters = list('aeiou')  # constructor"
   ]
  },
  {
   "cell_type": "code",
   "execution_count": null,
   "metadata": {
    "id": "hwRPHdZYwv8G",
    "lines_to_next_cell": 2,
    "outputId": "ab63bed0-1c84-4835-b85c-5421945d18ac"
   },
   "outputs": [
    {
     "data": {
      "text/plain": [
       "['a', 'e', 'i', 'o', 'u']"
      ]
     },
     "execution_count": 48,
     "metadata": {},
     "output_type": "execute_result"
    }
   ],
   "source": [
    "# Constructor is different than literal\n",
    "characters = list('aeiou')  # constructor\n",
    "characters"
   ]
  },
  {
   "cell_type": "code",
   "execution_count": null,
   "metadata": {
    "id": "gi7_Iue6wv8G",
    "lines_to_next_cell": 2,
    "outputId": "19b37767-4ae2-446a-fb12-b782c50fc56d"
   },
   "outputs": [
    {
     "data": {
      "text/plain": [
       "['aeiou']"
      ]
     },
     "execution_count": 49,
     "metadata": {},
     "output_type": "execute_result"
    }
   ],
   "source": [
    "['aeiou']"
   ]
  },
  {
   "cell_type": "code",
   "execution_count": null,
   "metadata": {
    "id": "VSAeZ_6Jwv8H",
    "lines_to_next_cell": 2
   },
   "outputs": [],
   "source": [
    "# Tuple literal\n",
    "person = ('fred', 42, '123-432-0943', '123 North Street')\n",
    "person2 = tuple(['susan', 43, '213-123-0987', '789 West Ave'])"
   ]
  },
  {
   "cell_type": "code",
   "execution_count": null,
   "metadata": {
    "id": "5_wLhhbewv8H",
    "lines_to_next_cell": 2,
    "outputId": "14730f23-1728-492f-fd90-40e9bb02a534"
   },
   "outputs": [
    {
     "data": {
      "text/plain": [
       "('susan', 43, '213-123-0987', '789 West Ave')"
      ]
     },
     "execution_count": 51,
     "metadata": {},
     "output_type": "execute_result"
    }
   ],
   "source": [
    "person2"
   ]
  },
  {
   "cell_type": "code",
   "execution_count": null,
   "metadata": {
    "id": "u1OWOOsnwv8H",
    "lines_to_next_cell": 2
   },
   "outputs": [],
   "source": [
    "# Dictionary\n",
    "types = {'name': 'string', 'age': 'int'}\n",
    "ages = dict(zip(['fred', 'suzy'], [20, 21]))\n",
    "types2 = dict(name='string', age='int')"
   ]
  },
  {
   "cell_type": "code",
   "execution_count": null,
   "metadata": {
    "id": "koPCmYghwv8H"
   },
   "outputs": [
    {
     "data": {
      "text/plain": [
       "\u001b[0;31mInit signature:\u001b[0m \u001b[0mdict\u001b[0m\u001b[0;34m(\u001b[0m\u001b[0mself\u001b[0m\u001b[0;34m,\u001b[0m \u001b[0;34m/\u001b[0m\u001b[0;34m,\u001b[0m \u001b[0;34m*\u001b[0m\u001b[0margs\u001b[0m\u001b[0;34m,\u001b[0m \u001b[0;34m**\u001b[0m\u001b[0mkwargs\u001b[0m\u001b[0;34m)\u001b[0m\u001b[0;34m\u001b[0m\u001b[0;34m\u001b[0m\u001b[0m\n",
       "\u001b[0;31mDocstring:\u001b[0m     \n",
       "dict() -> new empty dictionary\n",
       "dict(mapping) -> new dictionary initialized from a mapping object's\n",
       "    (key, value) pairs\n",
       "dict(iterable) -> new dictionary initialized as if via:\n",
       "    d = {}\n",
       "    for k, v in iterable:\n",
       "        d[k] = v\n",
       "dict(**kwargs) -> new dictionary initialized with the name=value pairs\n",
       "    in the keyword argument list.  For example:  dict(one=1, two=2)\n",
       "\u001b[0;31mType:\u001b[0m           type\n",
       "\u001b[0;31mSubclasses:\u001b[0m     OrderedDict, defaultdict, Counter, _EnumDict, StgDict, Bunch, ObjectDict, ConvertingDict, Config, _DefaultOptionDict, ..."
      ]
     },
     "metadata": {},
     "output_type": "display_data"
    }
   ],
   "source": [
    "dict?"
   ]
  },
  {
   "cell_type": "code",
   "execution_count": null,
   "metadata": {
    "id": "e1M5Jf6swv8H",
    "lines_to_next_cell": 2,
    "outputId": "bb1fefdf-2f0c-4f31-a9e5-ee7a42ad546a"
   },
   "outputs": [
    {
     "data": {
      "text/plain": [
       "{'fred': 20, 'suzy': 21}"
      ]
     },
     "execution_count": 54,
     "metadata": {},
     "output_type": "execute_result"
    }
   ],
   "source": [
    "ages"
   ]
  },
  {
   "cell_type": "code",
   "execution_count": null,
   "metadata": {
    "id": "XvRwHGAWwv8H",
    "lines_to_next_cell": 2,
    "outputId": "e470fd73-cd17-4ec3-a925-4c4367ee4208"
   },
   "outputs": [
    {
     "data": {
      "text/plain": [
       "{'name': 'string', 'age': 'int'}"
      ]
     },
     "execution_count": 55,
     "metadata": {},
     "output_type": "execute_result"
    }
   ],
   "source": [
    "types2"
   ]
  },
  {
   "cell_type": "code",
   "execution_count": null,
   "metadata": {
    "id": "lbYJoPHNwv8H",
    "lines_to_next_cell": 2,
    "outputId": "95b1210d-b6e7-46c0-f376-b484ae9c5ee9"
   },
   "outputs": [
    {
     "data": {
      "text/plain": [
       "{' ', 'd', 'e', 'i', 'l', 'm', 'o', 'p', 'r', 's', 'u'}"
      ]
     },
     "execution_count": 56,
     "metadata": {},
     "output_type": "execute_result"
    }
   ],
   "source": [
    "# Set\n",
    "digits = {0, 1, 2, 3, 4, 5, 6, 7, 8, 9}\n",
    "unique_chars = set('lorem ipsum dolor')\n",
    "unique_chars"
   ]
  },
  {
   "cell_type": "code",
   "execution_count": null,
   "metadata": {},
   "outputs": [
    {
     "name": "stdout",
     "output_type": "stream",
     "text": [
      "\u001b[0;31mInit signature:\u001b[0m \u001b[0mset\u001b[0m\u001b[0;34m(\u001b[0m\u001b[0mself\u001b[0m\u001b[0;34m,\u001b[0m \u001b[0;34m/\u001b[0m\u001b[0;34m,\u001b[0m \u001b[0;34m*\u001b[0m\u001b[0margs\u001b[0m\u001b[0;34m,\u001b[0m \u001b[0;34m**\u001b[0m\u001b[0mkwargs\u001b[0m\u001b[0;34m)\u001b[0m\u001b[0;34m\u001b[0m\u001b[0;34m\u001b[0m\u001b[0m\n",
      "\u001b[0;31mDocstring:\u001b[0m     \n",
      "set() -> new empty set object\n",
      "set(iterable) -> new set object\n",
      "\n",
      "Build an unordered collection of unique elements.\n",
      "\u001b[0;31mType:\u001b[0m           type\n",
      "\u001b[0;31mSubclasses:\u001b[0m     LazySet"
     ]
    }
   ],
   "source": [
    "set?"
   ]
  },
  {
   "cell_type": "code",
   "execution_count": null,
   "metadata": {
    "id": "E1rqDLsDwv8H",
    "lines_to_next_cell": 2,
    "outputId": "528c3b72-62f2-44c5-e2bc-748ddcf3d686"
   },
   "outputs": [
    {
     "name": "stdout",
     "output_type": "stream",
     "text": [
      "['ArithmeticError', 'AssertionError', 'AttributeError', 'BaseException', 'BlockingIOError', 'BrokenPipeError', 'BufferError', 'BytesWarning', 'ChildProcessError', 'ConnectionAbortedError', 'ConnectionError', 'ConnectionRefusedError', 'ConnectionResetError', 'DeprecationWarning', 'EOFError', 'Ellipsis', 'EncodingWarning', 'EnvironmentError', 'Exception', 'False', 'FileExistsError', 'FileNotFoundError', 'FloatingPointError', 'FutureWarning', 'GeneratorExit', 'IOError', 'ImportError', 'ImportWarning', 'IndentationError', 'IndexError', 'InterruptedError', 'IsADirectoryError', 'KeyError', 'KeyboardInterrupt', 'LookupError', 'MemoryError', 'ModuleNotFoundError', 'NameError', 'None', 'NotADirectoryError', 'NotImplemented', 'NotImplementedError', 'OSError', 'OverflowError', 'PendingDeprecationWarning', 'PermissionError', 'ProcessLookupError', 'RecursionError', 'ReferenceError', 'ResourceWarning', 'RuntimeError', 'RuntimeWarning', 'StopAsyncIteration', 'StopIteration', 'SyntaxError', 'SyntaxWarning', 'SystemError', 'SystemExit', 'TabError', 'TimeoutError', 'True', 'TypeError', 'UnboundLocalError', 'UnicodeDecodeError', 'UnicodeEncodeError', 'UnicodeError', 'UnicodeTranslateError', 'UnicodeWarning', 'UserWarning', 'ValueError', 'Warning', 'ZeroDivisionError', '__IPYTHON__', '__build_class__', '__debug__', '__doc__', '__import__', '__loader__', '__name__', '__package__', '__spec__', 'abs', 'aiter', 'all', 'anext', 'any', 'ascii', 'bin', 'bool', 'breakpoint', 'bytearray', 'bytes', 'callable', 'chr', 'classmethod', 'compile', 'complex', 'copyright', 'credits', 'delattr', 'dict', 'dir', 'display', 'divmod', 'enumerate', 'eval', 'exec', 'execfile', 'filter', 'float', 'format', 'frozenset', 'get_ipython', 'getattr', 'globals', 'hasattr', 'hash', 'help', 'hex', 'id', 'input', 'int', 'isinstance', 'issubclass', 'iter', 'len', 'license', 'list', 'locals', 'map', 'max', 'memoryview', 'min', 'next', 'object', 'oct', 'open', 'ord', 'pow', 'print', 'property', 'range', 'repr', 'reversed', 'round', 'runfile', 'set', 'setattr', 'slice', 'sorted', 'staticmethod', 'str', 'sum', 'super', 'tuple', 'type', 'vars', 'zip']\n"
     ]
    }
   ],
   "source": [
    "# Where are the built-in constructors?\n",
    "print(dir(__builtins__))"
   ]
  },
  {
   "cell_type": "markdown",
   "metadata": {},
   "source": []
  },
  {
   "cell_type": "markdown",
   "metadata": {
    "id": "s6cj1bYLwv8H"
   },
   "source": [
    "### Lookup hierarchy\n",
    "\n",
    "- Local - function/method\n",
    "- Enclosed - nested function/method\n",
    "- Global\n",
    "- Builtin\n",
    "- Name error!\n"
   ]
  },
  {
   "cell_type": "code",
   "execution_count": null,
   "metadata": {
    "id": "l3Jx6o7Nwv8H",
    "outputId": "8c20d56a-97c5-44b0-b14d-fe004ed55b9b"
   },
   "outputs": [
    {
     "ename": "NameError",
     "evalue": "name 'missing' is not defined",
     "output_type": "error",
     "traceback": [
      "\u001b[0;31m---------------------------------------------------------------------------\u001b[0m",
      "\u001b[0;31mNameError\u001b[0m                                 Traceback (most recent call last)",
      "Cell \u001b[0;32mIn[58], line 2\u001b[0m\n\u001b[1;32m      1\u001b[0m \u001b[38;5;66;03m# NameError\u001b[39;00m\n\u001b[0;32m----> 2\u001b[0m \u001b[43mmissing\u001b[49m\n",
      "\u001b[0;31mNameError\u001b[0m: name 'missing' is not defined"
     ]
    }
   ],
   "source": [
    "# NameError\n",
    "missing"
   ]
  },
  {
   "cell_type": "markdown",
   "metadata": {
    "id": "KRH7Qc2rwv8H"
   },
   "source": [
    "### Naming\n",
    "\n",
    "See PEP 8 http://legacy.python.org/dev/peps/pep-0008/\n",
    "\n",
    "- lowercase\n",
    "- underscore_between_words\n",
    "- don't start with numbers\n"
   ]
  },
  {
   "cell_type": "code",
   "execution_count": null,
   "metadata": {
    "id": "7Jx1b8SIwv8H"
   },
   "outputs": [],
   "source": []
  },
  {
   "cell_type": "code",
   "execution_count": null,
   "metadata": {
    "id": "9pS2GK3qwv8H"
   },
   "outputs": [],
   "source": []
  },
  {
   "cell_type": "code",
   "execution_count": null,
   "metadata": {
    "id": "BaF2ABkVwv8H"
   },
   "outputs": [],
   "source": []
  },
  {
   "cell_type": "code",
   "execution_count": null,
   "metadata": {
    "id": "PP3ebmvMwv8H"
   },
   "outputs": [],
   "source": []
  },
  {
   "cell_type": "code",
   "execution_count": null,
   "metadata": {
    "id": "9QcFFfXowv8H"
   },
   "outputs": [],
   "source": []
  },
  {
   "cell_type": "markdown",
   "metadata": {
    "id": "xwzJavZnwv8H"
   },
   "source": [
    "## Math\n"
   ]
  },
  {
   "cell_type": "code",
   "execution_count": null,
   "metadata": {
    "id": "0pVr6FX5wv8H",
    "lines_to_next_cell": 2,
    "outputId": "e82fea15-a486-4f1a-c4af-0baba19d201a"
   },
   "outputs": [
    {
     "data": {
      "text/plain": [
       "52"
      ]
     },
     "execution_count": 29,
     "metadata": {},
     "output_type": "execute_result"
    }
   ],
   "source": [
    "# Addition, subtraction, multiplication, division, modulus\n",
    "42 + 10"
   ]
  },
  {
   "cell_type": "code",
   "execution_count": null,
   "metadata": {
    "id": "QNtf5hUmwv8H",
    "lines_to_next_cell": 2,
    "outputId": "d178a068-e481-4bf9-e8f6-e3f4f7b15730"
   },
   "outputs": [
    {
     "data": {
      "text/plain": [
       "0"
      ]
     },
     "execution_count": 36,
     "metadata": {},
     "output_type": "execute_result"
    }
   ],
   "source": [
    "42 ** 3-42*42*42"
   ]
  },
  {
   "cell_type": "code",
   "execution_count": null,
   "metadata": {
    "id": "8dVuKrn5wv8H",
    "lines_to_next_cell": 2,
    "outputId": "dbc4c1a3-0a57-4852-efc9-e3d0258e1c2c"
   },
   "outputs": [
    {
     "data": {
      "text/plain": [
       "1"
      ]
     },
     "execution_count": 32,
     "metadata": {},
     "output_type": "execute_result"
    }
   ],
   "source": [
    "57 % 2  # modulus (remainder)"
   ]
  },
  {
   "cell_type": "code",
   "execution_count": null,
   "metadata": {
    "id": "s_Oar83zwv8H",
    "lines_to_next_cell": 2,
    "outputId": "06a8a44c-ace1-4607-e329-e95ecff10a09"
   },
   "outputs": [
    {
     "data": {
      "text/plain": [
       "7.5"
      ]
     },
     "execution_count": 33,
     "metadata": {},
     "output_type": "execute_result"
    }
   ],
   "source": [
    "# Number Tower Hierarchy: int, float, complex\n",
    "3 + 4.5"
   ]
  },
  {
   "cell_type": "code",
   "execution_count": null,
   "metadata": {
    "id": "ufs4P1DYwv8I",
    "lines_to_next_cell": 2,
    "outputId": "5b45761b-57dd-44b5-b588-8540c5d28978"
   },
   "outputs": [
    {
     "data": {
      "text/plain": [
       "(-1-4j)"
      ]
     },
     "execution_count": 34,
     "metadata": {},
     "output_type": "execute_result"
    }
   ],
   "source": [
    "1 - (2+4j)"
   ]
  },
  {
   "cell_type": "code",
   "execution_count": null,
   "metadata": {
    "id": "uKhJpU4dwv8I",
    "lines_to_next_cell": 2,
    "outputId": "93c84573-9570-43dc-b252-2ea2f1ccb980"
   },
   "outputs": [
    {
     "name": "stdout",
     "output_type": "stream",
     "text": [
      "['__abs__', '__add__', '__and__', '__bool__', '__ceil__', '__class__', '__delattr__', '__dir__', '__divmod__', '__doc__', '__eq__', '__float__', '__floor__', '__floordiv__', '__format__', '__ge__', '__getattribute__', '__getnewargs__', '__gt__', '__hash__', '__index__', '__init__', '__init_subclass__', '__int__', '__invert__', '__le__', '__lshift__', '__lt__', '__mod__', '__mul__', '__ne__', '__neg__', '__new__', '__or__', '__pos__', '__pow__', '__radd__', '__rand__', '__rdivmod__', '__reduce__', '__reduce_ex__', '__repr__', '__rfloordiv__', '__rlshift__', '__rmod__', '__rmul__', '__ror__', '__round__', '__rpow__', '__rrshift__', '__rshift__', '__rsub__', '__rtruediv__', '__rxor__', '__setattr__', '__sizeof__', '__str__', '__sub__', '__subclasshook__', '__truediv__', '__trunc__', '__xor__', 'as_integer_ratio', 'bit_count', 'bit_length', 'conjugate', 'denominator', 'from_bytes', 'imag', 'numerator', 'real', 'to_bytes']\n"
     ]
    }
   ],
   "source": [
    "# Integers are Objects!\n",
    "print(dir(42))"
   ]
  },
  {
   "cell_type": "code",
   "execution_count": null,
   "metadata": {
    "id": "Jh51LC4Kwv8I",
    "lines_to_next_cell": 2,
    "outputId": "94867d53-a4cb-4294-a017-a649664dd845"
   },
   "outputs": [
    {
     "name": "stdout",
     "output_type": "stream",
     "text": [
      "Help on built-in function bit_length:\n",
      "\n",
      "bit_length() method of builtins.int instance\n",
      "    Number of bits necessary to represent self in binary.\n",
      "    \n",
      "    >>> bin(37)\n",
      "    '0b100101'\n",
      "    >>> (37).bit_length()\n",
      "    6\n",
      "\n"
     ]
    }
   ],
   "source": [
    "help((42).bit_length)"
   ]
  },
  {
   "cell_type": "code",
   "execution_count": null,
   "metadata": {
    "id": "WaBwGv4rwv8I",
    "lines_to_next_cell": 2,
    "outputId": "2a091d23-0785-4685-fcd9-316eb4c40c12"
   },
   "outputs": [
    {
     "ename": "SyntaxError",
     "evalue": "invalid decimal literal (2848017890.py, line 1)",
     "output_type": "error",
     "traceback": [
      "\u001b[0;36m  Cell \u001b[0;32mIn[39], line 1\u001b[0;36m\u001b[0m\n\u001b[0;31m    42.bit_length()\u001b[0m\n\u001b[0m      ^\u001b[0m\n\u001b[0;31mSyntaxError\u001b[0m\u001b[0;31m:\u001b[0m invalid decimal literal\n"
     ]
    }
   ],
   "source": [
    "42.bit_length()"
   ]
  },
  {
   "cell_type": "code",
   "execution_count": null,
   "metadata": {
    "id": "4KknM0x_wv8I",
    "lines_to_next_cell": 2,
    "outputId": "225142ea-967b-4faa-ccce-17f4aab9b5a5"
   },
   "outputs": [
    {
     "data": {
      "text/plain": [
       "6"
      ]
     },
     "execution_count": 40,
     "metadata": {},
     "output_type": "execute_result"
    }
   ],
   "source": [
    "(42).bit_length()"
   ]
  },
  {
   "cell_type": "markdown",
   "metadata": {
    "id": "4ZcSCIzXwv8I"
   },
   "source": [
    "### \"Dunders\"\n",
    "\n",
    "Double underscore, magic, or special methods. We don't usually call the \"dunder\" method, but Python does for us.\n"
   ]
  },
  {
   "cell_type": "code",
   "execution_count": null,
   "metadata": {
    "id": "PbJ209-kwv8I"
   },
   "outputs": [],
   "source": []
  },
  {
   "cell_type": "code",
   "execution_count": null,
   "metadata": {
    "id": "TVvQdGMrwv8I",
    "lines_to_next_cell": 2,
    "outputId": "1a0110a2-3d8c-4afc-c6e7-9f74d602e30c"
   },
   "outputs": [
    {
     "data": {
      "text/plain": [
       "52"
      ]
     },
     "execution_count": 41,
     "metadata": {},
     "output_type": "execute_result"
    }
   ],
   "source": [
    "42 + 10"
   ]
  },
  {
   "cell_type": "code",
   "execution_count": null,
   "metadata": {
    "id": "to5RymG4wv8I",
    "lines_to_next_cell": 2,
    "outputId": "ce631224-47e4-45f1-fcd8-03aba53bf7a4"
   },
   "outputs": [
    {
     "data": {
      "text/plain": [
       "52"
      ]
     },
     "execution_count": 42,
     "metadata": {},
     "output_type": "execute_result"
    }
   ],
   "source": [
    "(42).__add__(10)"
   ]
  },
  {
   "cell_type": "markdown",
   "metadata": {},
   "source": []
  },
  {
   "cell_type": "code",
   "execution_count": null,
   "metadata": {
    "id": "s8GJv2U9wv8I"
   },
   "outputs": [
    {
     "name": "stdout",
     "output_type": "stream",
     "text": [
      "Operator precedence\n",
      "*******************\n",
      "\n",
      "The following table summarizes the operator precedence in Python, from\n",
      "highest precedence (most binding) to lowest precedence (least\n",
      "binding).  Operators in the same box have the same precedence.  Unless\n",
      "the syntax is explicitly given, operators are binary.  Operators in\n",
      "the same box group left to right (except for exponentiation, which\n",
      "groups from right to left).\n",
      "\n",
      "Note that comparisons, membership tests, and identity tests, all have\n",
      "the same precedence and have a left-to-right chaining feature as\n",
      "described in the Comparisons section.\n",
      "\n",
      "+-------------------------------------------------+---------------------------------------+\n",
      "| Operator                                        | Description                           |\n",
      "|=================================================|=======================================|\n",
      "| \"(expressions...)\",  \"[expressions...]\", \"{key: | Binding or parenthesized expression,  |\n",
      "| value...}\", \"{expressions...}\"                  | list display, dictionary display, set |\n",
      "|                                                 | display                               |\n",
      "+-------------------------------------------------+---------------------------------------+\n",
      "| \"x[index]\", \"x[index:index]\",                   | Subscription, slicing, call,          |\n",
      "| \"x(arguments...)\", \"x.attribute\"                | attribute reference                   |\n",
      "+-------------------------------------------------+---------------------------------------+\n",
      "| \"await x\"                                       | Await expression                      |\n",
      "+-------------------------------------------------+---------------------------------------+\n",
      "| \"**\"                                            | Exponentiation [5]                    |\n",
      "+-------------------------------------------------+---------------------------------------+\n",
      "| \"+x\", \"-x\", \"~x\"                                | Positive, negative, bitwise NOT       |\n",
      "+-------------------------------------------------+---------------------------------------+\n",
      "| \"*\", \"@\", \"/\", \"//\", \"%\"                        | Multiplication, matrix                |\n",
      "|                                                 | multiplication, division, floor       |\n",
      "|                                                 | division, remainder [6]               |\n",
      "+-------------------------------------------------+---------------------------------------+\n",
      "| \"+\", \"-\"                                        | Addition and subtraction              |\n",
      "+-------------------------------------------------+---------------------------------------+\n",
      "| \"<<\", \">>\"                                      | Shifts                                |\n",
      "+-------------------------------------------------+---------------------------------------+\n",
      "| \"&\"                                             | Bitwise AND                           |\n",
      "+-------------------------------------------------+---------------------------------------+\n",
      "| \"^\"                                             | Bitwise XOR                           |\n",
      "+-------------------------------------------------+---------------------------------------+\n",
      "| \"|\"                                             | Bitwise OR                            |\n",
      "+-------------------------------------------------+---------------------------------------+\n",
      "| \"in\", \"not in\", \"is\", \"is not\", \"<\", \"<=\", \">\", | Comparisons, including membership     |\n",
      "| \">=\", \"!=\", \"==\"                                | tests and identity tests              |\n",
      "+-------------------------------------------------+---------------------------------------+\n",
      "| \"not x\"                                         | Boolean NOT                           |\n",
      "+-------------------------------------------------+---------------------------------------+\n",
      "| \"and\"                                           | Boolean AND                           |\n",
      "+-------------------------------------------------+---------------------------------------+\n",
      "| \"or\"                                            | Boolean OR                            |\n",
      "+-------------------------------------------------+---------------------------------------+\n",
      "| \"if\" – \"else\"                                   | Conditional expression                |\n",
      "+-------------------------------------------------+---------------------------------------+\n",
      "| \"lambda\"                                        | Lambda expression                     |\n",
      "+-------------------------------------------------+---------------------------------------+\n",
      "| \":=\"                                            | Assignment expression                 |\n",
      "+-------------------------------------------------+---------------------------------------+\n",
      "\n",
      "-[ Footnotes ]-\n",
      "\n",
      "[1] While \"abs(x%y) < abs(y)\" is true mathematically, for floats it\n",
      "    may not be true numerically due to roundoff.  For example, and\n",
      "    assuming a platform on which a Python float is an IEEE 754 double-\n",
      "    precision number, in order that \"-1e-100 % 1e100\" have the same\n",
      "    sign as \"1e100\", the computed result is \"-1e-100 + 1e100\", which\n",
      "    is numerically exactly equal to \"1e100\".  The function\n",
      "    \"math.fmod()\" returns a result whose sign matches the sign of the\n",
      "    first argument instead, and so returns \"-1e-100\" in this case.\n",
      "    Which approach is more appropriate depends on the application.\n",
      "\n",
      "[2] If x is very close to an exact integer multiple of y, it’s\n",
      "    possible for \"x//y\" to be one larger than \"(x-x%y)//y\" due to\n",
      "    rounding.  In such cases, Python returns the latter result, in\n",
      "    order to preserve that \"divmod(x,y)[0] * y + x % y\" be very close\n",
      "    to \"x\".\n",
      "\n",
      "[3] The Unicode standard distinguishes between *code points* (e.g.\n",
      "    U+0041) and *abstract characters* (e.g. “LATIN CAPITAL LETTER A”).\n",
      "    While most abstract characters in Unicode are only represented\n",
      "    using one code point, there is a number of abstract characters\n",
      "    that can in addition be represented using a sequence of more than\n",
      "    one code point.  For example, the abstract character “LATIN\n",
      "    CAPITAL LETTER C WITH CEDILLA” can be represented as a single\n",
      "    *precomposed character* at code position U+00C7, or as a sequence\n",
      "    of a *base character* at code position U+0043 (LATIN CAPITAL\n",
      "    LETTER C), followed by a *combining character* at code position\n",
      "    U+0327 (COMBINING CEDILLA).\n",
      "\n",
      "    The comparison operators on strings compare at the level of\n",
      "    Unicode code points. This may be counter-intuitive to humans.  For\n",
      "    example, \"\"\\u00C7\" == \"\\u0043\\u0327\"\" is \"False\", even though both\n",
      "    strings represent the same abstract character “LATIN CAPITAL\n",
      "    LETTER C WITH CEDILLA”.\n",
      "\n",
      "    To compare strings at the level of abstract characters (that is,\n",
      "    in a way intuitive to humans), use \"unicodedata.normalize()\".\n",
      "\n",
      "[4] Due to automatic garbage-collection, free lists, and the dynamic\n",
      "    nature of descriptors, you may notice seemingly unusual behaviour\n",
      "    in certain uses of the \"is\" operator, like those involving\n",
      "    comparisons between instance methods, or constants.  Check their\n",
      "    documentation for more info.\n",
      "\n",
      "[5] The power operator \"**\" binds less tightly than an arithmetic or\n",
      "    bitwise unary operator on its right, that is, \"2**-1\" is \"0.5\".\n",
      "\n",
      "[6] The \"%\" operator is also used for string formatting; the same\n",
      "    precedence applies.\n",
      "\n",
      "Related help topics: lambda, or, and, not, in, is, BOOLEAN, COMPARISON,\n",
      "BITWISE, SHIFTING, BINARY, FORMATTING, POWER, UNARY, ATTRIBUTES,\n",
      "SUBSCRIPTS, SLICINGS, CALLS, TUPLES, LISTS, DICTIONARIES, BITWISE\n",
      "\n"
     ]
    }
   ],
   "source": [
    "help(\"^\")"
   ]
  },
  {
   "cell_type": "code",
   "execution_count": null,
   "metadata": {
    "id": "MGxTh787wv8I"
   },
   "outputs": [],
   "source": []
  },
  {
   "cell_type": "code",
   "execution_count": null,
   "metadata": {
    "id": "OppG3iUIwv8I"
   },
   "outputs": [],
   "source": []
  },
  {
   "cell_type": "code",
   "execution_count": null,
   "metadata": {
    "id": "cDMihTXdwv8I"
   },
   "outputs": [],
   "source": []
  },
  {
   "cell_type": "code",
   "execution_count": null,
   "metadata": {
    "id": "CpsrNDfDwv8I",
    "lines_to_next_cell": 2
   },
   "outputs": [],
   "source": []
  },
  {
   "cell_type": "code",
   "execution_count": null,
   "metadata": {
    "id": "iakuimkcwv8I"
   },
   "outputs": [],
   "source": []
  },
  {
   "cell_type": "code",
   "execution_count": null,
   "metadata": {
    "id": "LaGZWdYGwv8I"
   },
   "outputs": [],
   "source": []
  },
  {
   "cell_type": "markdown",
   "metadata": {
    "id": "wdoGtC8owv8I"
   },
   "source": [
    "# Getting Help\n"
   ]
  },
  {
   "cell_type": "markdown",
   "metadata": {
    "id": "CpcUPGK5wv8I"
   },
   "source": [
    "### Basics\n",
    "\n",
    "- Internet search\n",
    "- IDE/Tool popup\n",
    "- REPL\n",
    "- Jupyter specific\n"
   ]
  },
  {
   "cell_type": "markdown",
   "metadata": {
    "id": "o3BrJGaEwv8I"
   },
   "source": [
    "### Internet Search\n",
    "\n",
    "Use as a last resort. This will distract you and make you less productive.\n"
   ]
  },
  {
   "cell_type": "markdown",
   "metadata": {
    "id": "CNtBDbwZwv8I"
   },
   "source": [
    "### IDE/Tool Popup\n",
    "\n",
    "Many Editors/IDEs have the ability to show documentation and parameters.\n"
   ]
  },
  {
   "cell_type": "code",
   "execution_count": 4,
   "metadata": {
    "id": "dgkC7H-Qwv8I",
    "outputId": "8cefff1d-fd0f-4302-8e1a-6148924ea47f"
   },
   "outputs": [
    {
     "name": "stdout",
     "output_type": "stream",
     "text": [
      "Help on built-in function len in module builtins:\n",
      "\n",
      "len(obj, /)\n",
      "    Return the number of items in a container.\n",
      "\n"
     ]
    }
   ],
   "source": [
    "help(len)"
   ]
  },
  {
   "cell_type": "code",
   "execution_count": null,
   "metadata": {
    "id": "f9GElpj0wv8I"
   },
   "outputs": [],
   "source": [
    "def adder(x, y):\n",
    "    \"Adds two values\"\n",
    "    return x + y"
   ]
  },
  {
   "cell_type": "code",
   "execution_count": null,
   "metadata": {
    "id": "62ONOUTiwv8I",
    "lines_to_next_cell": 2,
    "outputId": "18895949-4fdb-4e47-e6a1-ae4d10de16b7"
   },
   "outputs": [
    {
     "name": "stdout",
     "output_type": "stream",
     "text": [
      "Help on function adder in module __main__:\n",
      "\n",
      "adder(x, y)\n",
      "    Adds two values\n",
      "\n"
     ]
    }
   ],
   "source": [
    "help(adder)"
   ]
  },
  {
   "cell_type": "code",
   "execution_count": null,
   "metadata": {
    "id": "snrehGQVwv8J",
    "lines_to_next_cell": 2,
    "outputId": "e5e87c9e-d245-49c6-dfea-d55f7dfb047d",
    "scrolled": true
   },
   "outputs": [
    {
     "name": "stdout",
     "output_type": "stream",
     "text": [
      "\n",
      "Welcome to Python 3.10's help utility!\n",
      "\n",
      "If this is your first time using Python, you should definitely check out\n",
      "the tutorial on the internet at https://docs.python.org/3.10/tutorial/.\n",
      "\n",
      "Enter the name of any module, keyword, or topic to get help on writing\n",
      "Python programs and using Python modules.  To quit this help utility and\n",
      "return to the interpreter, just type \"quit\".\n",
      "\n",
      "To get a list of available modules, keywords, symbols, or topics, type\n",
      "\"modules\", \"keywords\", \"symbols\", or \"topics\".  Each module also comes\n",
      "with a one-line summary of what it does; to list the modules whose name\n",
      "or summary contain a given string such as \"spam\", type \"modules spam\".\n",
      "\n",
      "\n",
      "You are now leaving help and returning to the Python interpreter.\n",
      "If you want to ask for help on a particular object directly from the\n",
      "interpreter, you can type \"help(object)\".  Executing \"help('string')\"\n",
      "has the same effect as typing a particular string at the help> prompt.\n"
     ]
    }
   ],
   "source": [
    "# Help mode (hit ENTER to exit)\n",
    "help()"
   ]
  },
  {
   "cell_type": "code",
   "execution_count": null,
   "metadata": {
    "id": "tZT4PAaQwv8J",
    "lines_to_next_cell": 2,
    "outputId": "abf663e6-440c-41d1-bfec-06896a7e285f",
    "scrolled": true
   },
   "outputs": [],
   "source": [
    "# Use ``dir`` to inspect an object\n",
    "dir('a string')"
   ]
  },
  {
   "cell_type": "code",
   "execution_count": null,
   "metadata": {},
   "outputs": [
    {
     "name": "stdout",
     "output_type": "stream",
     "text": [
      "The \"for\" statement\n",
      "*******************\n",
      "\n",
      "The \"for\" statement is used to iterate over the elements of a sequence\n",
      "(such as a string, tuple or list) or other iterable object:\n",
      "\n",
      "   for_stmt ::= \"for\" target_list \"in\" expression_list \":\" suite\n",
      "                [\"else\" \":\" suite]\n",
      "\n",
      "The expression list is evaluated once; it should yield an iterable\n",
      "object.  An iterator is created for the result of the\n",
      "\"expression_list\".  The suite is then executed once for each item\n",
      "provided by the iterator, in the order returned by the iterator.  Each\n",
      "item in turn is assigned to the target list using the standard rules\n",
      "for assignments (see Assignment statements), and then the suite is\n",
      "executed.  When the items are exhausted (which is immediately when the\n",
      "sequence is empty or an iterator raises a \"StopIteration\" exception),\n",
      "the suite in the \"else\" clause, if present, is executed, and the loop\n",
      "terminates.\n",
      "\n",
      "A \"break\" statement executed in the first suite terminates the loop\n",
      "without executing the \"else\" clause’s suite.  A \"continue\" statement\n",
      "executed in the first suite skips the rest of the suite and continues\n",
      "with the next item, or with the \"else\" clause if there is no next\n",
      "item.\n",
      "\n",
      "The for-loop makes assignments to the variables in the target list.\n",
      "This overwrites all previous assignments to those variables including\n",
      "those made in the suite of the for-loop:\n",
      "\n",
      "   for i in range(10):\n",
      "       print(i)\n",
      "       i = 5             # this will not affect the for-loop\n",
      "                         # because i will be overwritten with the next\n",
      "                         # index in the range\n",
      "\n",
      "Names in the target list are not deleted when the loop is finished,\n",
      "but if the sequence is empty, they will not have been assigned to at\n",
      "all by the loop.  Hint: the built-in type \"range()\" represents\n",
      "immutable arithmetic sequences of integers. For instance, iterating\n",
      "\"range(3)\" successively yields 0, 1, and then 2.\n",
      "\n",
      "Related help topics: break, continue, while\n",
      "\n"
     ]
    }
   ],
   "source": [
    "help(\"for\")"
   ]
  },
  {
   "cell_type": "code",
   "execution_count": null,
   "metadata": {
    "comment_questions": false,
    "id": "DQptgc1Hwv8J"
   },
   "outputs": [
    {
     "name": "stdout",
     "output_type": "stream",
     "text": [
      "\u001b[0;31mSignature:\u001b[0m \u001b[0madder\u001b[0m\u001b[0;34m(\u001b[0m\u001b[0mx\u001b[0m\u001b[0;34m,\u001b[0m \u001b[0my\u001b[0m\u001b[0;34m)\u001b[0m\u001b[0;34m\u001b[0m\u001b[0;34m\u001b[0m\u001b[0m\n",
      "\u001b[0;31mDocstring:\u001b[0m Adds two values\n",
      "\u001b[0;31mFile:\u001b[0m      /tmp/ipykernel_2238354/1775674861.py\n",
      "\u001b[0;31mType:\u001b[0m      function"
     ]
    }
   ],
   "source": [
    "adder?"
   ]
  },
  {
   "cell_type": "code",
   "execution_count": null,
   "metadata": {
    "comment_questions": false,
    "id": "NGAUjXEEwv8J",
    "lines_to_next_cell": 0
   },
   "outputs": [
    {
     "name": "stdout",
     "output_type": "stream",
     "text": [
      "\u001b[0;31mSignature:\u001b[0m \u001b[0madder\u001b[0m\u001b[0;34m(\u001b[0m\u001b[0mx\u001b[0m\u001b[0;34m,\u001b[0m \u001b[0my\u001b[0m\u001b[0;34m)\u001b[0m\u001b[0;34m\u001b[0m\u001b[0;34m\u001b[0m\u001b[0m\n",
      "\u001b[0;31mSource:\u001b[0m   \n",
      "\u001b[0;32mdef\u001b[0m \u001b[0madder\u001b[0m\u001b[0;34m(\u001b[0m\u001b[0mx\u001b[0m\u001b[0;34m,\u001b[0m \u001b[0my\u001b[0m\u001b[0;34m)\u001b[0m\u001b[0;34m:\u001b[0m\u001b[0;34m\u001b[0m\n",
      "\u001b[0;34m\u001b[0m    \u001b[0;34m\"Adds two values\"\u001b[0m\u001b[0;34m\u001b[0m\n",
      "\u001b[0;34m\u001b[0m    \u001b[0;32mreturn\u001b[0m \u001b[0mx\u001b[0m \u001b[0;34m+\u001b[0m \u001b[0my\u001b[0m\u001b[0;34m\u001b[0m\u001b[0;34m\u001b[0m\u001b[0m\n",
      "\u001b[0;31mFile:\u001b[0m      /tmp/ipykernel_2238354/1775674861.py\n",
      "\u001b[0;31mType:\u001b[0m      function"
     ]
    }
   ],
   "source": [
    "adder??"
   ]
  },
  {
   "cell_type": "code",
   "execution_count": null,
   "metadata": {
    "id": "SwEeA-3Iwv8J"
   },
   "outputs": [],
   "source": []
  },
  {
   "cell_type": "code",
   "execution_count": null,
   "metadata": {},
   "outputs": [
    {
     "name": "stdout",
     "output_type": "stream",
     "text": [
      "Help on built-in function bit_length:\n",
      "\n",
      "bit_length() method of builtins.int instance\n",
      "    Number of bits necessary to represent self in binary.\n",
      "    \n",
      "    >>> bin(37)\n",
      "    '0b100101'\n",
      "    >>> (37).bit_length()\n",
      "    6\n",
      "\n",
      "2\n"
     ]
    }
   ],
   "source": [
    "help((-11).bit_length)\n",
    "iii=(-2).bit_length()\n",
    "print(iii)"
   ]
  },
  {
   "cell_type": "code",
   "execution_count": null,
   "metadata": {
    "id": "0fsWKadswv8J"
   },
   "outputs": [],
   "source": []
  },
  {
   "cell_type": "code",
   "execution_count": null,
   "metadata": {
    "id": "nVtXbwFmwv8J",
    "lines_to_next_cell": 2
   },
   "outputs": [],
   "source": []
  },
  {
   "cell_type": "code",
   "execution_count": null,
   "metadata": {
    "id": "2qmp796Jwv8J"
   },
   "outputs": [],
   "source": []
  },
  {
   "cell_type": "code",
   "execution_count": null,
   "metadata": {
    "id": "su10HtYiwv8J",
    "lines_to_next_cell": 2
   },
   "outputs": [],
   "source": []
  },
  {
   "cell_type": "markdown",
   "metadata": {
    "id": "SiNRdCY1wv8J"
   },
   "source": [
    "## Conditionals\n"
   ]
  },
  {
   "cell_type": "code",
   "execution_count": null,
   "metadata": {
    "id": "We5NEVxWwv8J",
    "lines_to_next_cell": 2,
    "outputId": "c6fde41c-f8ad-4352-ee7a-95c0bc85a88d"
   },
   "outputs": [
    {
     "name": "stdout",
     "output_type": "stream",
     "text": [
      "B\n"
     ]
    }
   ],
   "source": [
    "grade = 82\n",
    "if grade > 90:\n",
    "    print(\"A\")\n",
    "elif grade > 80:\n",
    "    print(\"B\")\n",
    "elif grade > 70:\n",
    "    print(\"C\")\n",
    "else:\n",
    "    print(\"D\")"
   ]
  },
  {
   "cell_type": "code",
   "execution_count": null,
   "metadata": {
    "id": "qnTG1Pf_wv8J",
    "lines_to_next_cell": 2,
    "outputId": "6805c958-b962-413d-f0cb-0ba68f8983bd"
   },
   "outputs": [
    {
     "data": {
      "text/plain": [
       "False"
      ]
     },
     "execution_count": 127,
     "metadata": {},
     "output_type": "execute_result"
    }
   ],
   "source": [
    "5 > 9"
   ]
  },
  {
   "cell_type": "code",
   "execution_count": null,
   "metadata": {
    "id": "Ds8-7fLAwv8K",
    "lines_to_next_cell": 2,
    "outputId": "d93e9fcc-951f-4c36-fbfd-9fb5bf3f82f0"
   },
   "outputs": [
    {
     "data": {
      "text/plain": [
       "True"
      ]
     },
     "execution_count": 128,
     "metadata": {},
     "output_type": "execute_result"
    }
   ],
   "source": [
    "'matt' != 'fred'"
   ]
  },
  {
   "cell_type": "code",
   "execution_count": 1,
   "metadata": {
    "id": "mRajrP5uwv8K",
    "lines_to_next_cell": 2,
    "outputId": "3e5b05c8-0a6f-4ea1-ccb0-fab55dd85835"
   },
   "outputs": [
    {
     "data": {
      "text/plain": [
       "True"
      ]
     },
     "execution_count": 1,
     "metadata": {},
     "output_type": "execute_result"
    }
   ],
   "source": [
    "isinstance('matt', str)"
   ]
  },
  {
   "cell_type": "code",
   "execution_count": 2,
   "metadata": {
    "id": "0rnTJDo1wv8K",
    "lines_to_next_cell": 2,
    "outputId": "3b600550-e2dd-4226-f5d4-4cedac7546b0"
   },
   "outputs": [
    {
     "data": {
      "text/plain": [
       "True"
      ]
     },
     "execution_count": 2,
     "metadata": {},
     "output_type": "execute_result"
    }
   ],
   "source": [
    "# ``and``, ``or``, ``not`` (for logical), ``&``, ``|``, and ``^`` (for bitwise\n",
    "x = 5\n",
    "x < -4 or x > 4"
   ]
  },
  {
   "cell_type": "code",
   "execution_count": null,
   "metadata": {
    "id": "LVa0W-nswv8K"
   },
   "outputs": [],
   "source": []
  },
  {
   "cell_type": "code",
   "execution_count": null,
   "metadata": {
    "id": "KTP99uSOwv8K"
   },
   "outputs": [],
   "source": []
  },
  {
   "cell_type": "code",
   "execution_count": null,
   "metadata": {
    "id": "trNWN5Yqwv8K",
    "lines_to_next_cell": 2
   },
   "outputs": [],
   "source": []
  },
  {
   "cell_type": "code",
   "execution_count": null,
   "metadata": {
    "id": "XM5n0efCwv8K"
   },
   "outputs": [],
   "source": []
  },
  {
   "cell_type": "code",
   "execution_count": null,
   "metadata": {
    "id": "ZBdzaX5Rwv8K"
   },
   "outputs": [],
   "source": []
  },
  {
   "cell_type": "code",
   "execution_count": null,
   "metadata": {
    "id": "-WGnndBswv8K"
   },
   "outputs": [],
   "source": []
  },
  {
   "cell_type": "markdown",
   "metadata": {
    "id": "IV12FzFOwv8K"
   },
   "source": [
    "# Iteration\n"
   ]
  },
  {
   "cell_type": "code",
   "execution_count": null,
   "metadata": {
    "id": "wImfzpv_wv8K",
    "lines_to_next_cell": 2,
    "outputId": "5e9daf49-5241-4257-c7d9-48d45e1d2030"
   },
   "outputs": [],
   "source": [
    "for number in [1,2,3,4,5,6]:\n",
    "    print(number)"
   ]
  },
  {
   "cell_type": "code",
   "execution_count": 3,
   "metadata": {
    "id": "kNchWKRewv8K",
    "outputId": "9ff24cf3-f1c9-4513-fd26-4b45363154fc"
   },
   "outputs": [
    {
     "data": {
      "text/plain": [
       "6"
      ]
     },
     "execution_count": 3,
     "metadata": {},
     "output_type": "execute_result"
    }
   ],
   "source": [
    "number"
   ]
  },
  {
   "cell_type": "code",
   "execution_count": 4,
   "metadata": {
    "id": "qgegX6R2wv8K",
    "outputId": "27b04c25-75c7-462c-ec12-ce11489643a4"
   },
   "outputs": [
    {
     "name": "stdout",
     "output_type": "stream",
     "text": [
      "1\n",
      "2\n",
      "3\n",
      "4\n",
      "5\n",
      "6\n"
     ]
    }
   ],
   "source": [
    "for number in range(1, 7):\n",
    "    print(number)"
   ]
  },
  {
   "cell_type": "code",
   "execution_count": 4,
   "metadata": {
    "id": "K8jlPyYLwv8K",
    "lines_to_next_cell": 2,
    "outputId": "db4f5536-5f5c-467c-c1af-d2d88d70e58e"
   },
   "outputs": [
    {
     "data": {
      "text/plain": [
       "range(0, 6)"
      ]
     },
     "execution_count": 4,
     "metadata": {},
     "output_type": "execute_result"
    }
   ],
   "source": [
    "# Returns an iterable containing numbers from start up to but not including end\n",
    "range(6)"
   ]
  },
  {
   "cell_type": "code",
   "execution_count": 5,
   "metadata": {
    "id": "YpdpQNlTwv8K",
    "lines_to_next_cell": 2,
    "outputId": "e0a6b1f1-1d8c-4db6-b265-3cadc08d2906"
   },
   "outputs": [
    {
     "data": {
      "text/plain": [
       "[0, 1, 2, 3, 4, 5]"
      ]
     },
     "execution_count": 5,
     "metadata": {},
     "output_type": "execute_result"
    }
   ],
   "source": [
    "list(range(6))"
   ]
  },
  {
   "cell_type": "code",
   "execution_count": 6,
   "metadata": {
    "id": "b9KK18Srwv8K",
    "lines_to_next_cell": 2,
    "outputId": "c5f74f6d-0dd5-4da9-bcb5-04dea6d0d97d"
   },
   "outputs": [
    {
     "data": {
      "text/plain": [
       "[2, 3, 4, 5]"
      ]
     },
     "execution_count": 6,
     "metadata": {},
     "output_type": "execute_result"
    }
   ],
   "source": [
    "list(range(2, 6))"
   ]
  },
  {
   "cell_type": "markdown",
   "metadata": {
    "id": "YI_JEfNlwv8K",
    "lines_to_next_cell": 2
   },
   "source": [
    "### `range`\n",
    "\n",
    "Python tends to follow _half-open interval_ (`[start,end)`) with `range` and _slices_:\n",
    "\n",
    "- end - start = length\n",
    "- easy to concat ranges w/o overlap (ie `list(range(3)) + list(range(3,9))`)\n"
   ]
  },
  {
   "cell_type": "code",
   "execution_count": 7,
   "metadata": {
    "id": "CtbCL52-wv8K",
    "outputId": "a993e9aa-fe61-47de-e458-f3ce28dcef04"
   },
   "outputs": [
    {
     "name": "stdout",
     "output_type": "stream",
     "text": [
      "0 cat\n",
      "1 dog\n",
      "2 bird\n"
     ]
    }
   ],
   "source": [
    "# Java/C-esque style of object in array access (BAD):\n",
    "animals = [\"cat\", \"dog\", \"bird\"]\n",
    "for index in range(len(animals)):\n",
    "    print(index, animals[index])"
   ]
  },
  {
   "cell_type": "code",
   "execution_count": 8,
   "metadata": {
    "id": "IITYuDbzwv8K",
    "outputId": "a7be9ee8-8313-44ee-f4ed-b36dfffe871b"
   },
   "outputs": [
    {
     "name": "stdout",
     "output_type": "stream",
     "text": [
      "0 cat\n",
      "1 dog\n",
      "2 bird\n"
     ]
    }
   ],
   "source": [
    "#If you need indices, use ``enumerate`` (to replace ``range(len(a_list))``):\n",
    "animals = [\"cat\", \"dog\", \"bird\"]\n",
    "for index, value in enumerate(animals):\n",
    "    print(index, value)"
   ]
  },
  {
   "cell_type": "code",
   "execution_count": 9,
   "metadata": {
    "id": "vowLoLB6wv8K",
    "outputId": "552099e5-d15c-4ddd-9f55-aa16d7074caa"
   },
   "outputs": [
    {
     "data": {
      "text/plain": [
       "2"
      ]
     },
     "execution_count": 9,
     "metadata": {},
     "output_type": "execute_result"
    }
   ],
   "source": [
    "index"
   ]
  },
  {
   "cell_type": "code",
   "execution_count": 10,
   "metadata": {
    "id": "Es4n7p_vwv8K",
    "outputId": "3d439709-102e-4d77-cde1-2403c1a9c128"
   },
   "outputs": [
    {
     "data": {
      "text/plain": [
       "'bird'"
      ]
     },
     "execution_count": 10,
     "metadata": {},
     "output_type": "execute_result"
    }
   ],
   "source": [
    "value"
   ]
  },
  {
   "cell_type": "code",
   "execution_count": 11,
   "metadata": {
    "id": "ryRBMjsBwv8K",
    "outputId": "ef8df5fd-c30a-4d18-a978-0e91b9654e62"
   },
   "outputs": [
    {
     "name": "stdout",
     "output_type": "stream",
     "text": [
      "0 cat\n"
     ]
    }
   ],
   "source": [
    "animals = [\"cat\", \"dog\", \"bird\"]\n",
    "for index, value in enumerate(animals):\n",
    "    if value == 'dog':\n",
    "        break\n",
    "    print(index, value)"
   ]
  },
  {
   "cell_type": "code",
   "execution_count": 12,
   "metadata": {
    "id": "I_GRF7WPwv8L",
    "outputId": "727a69f9-3639-47a7-96c6-0d9138269a2f"
   },
   "outputs": [
    {
     "name": "stdout",
     "output_type": "stream",
     "text": [
      "0 cat\n",
      "2 bird\n"
     ]
    }
   ],
   "source": [
    "animals = [\"cat\", \"dog\", \"bird\"]\n",
    "for index, value in enumerate(animals):\n",
    "    if value == 'dog':\n",
    "        continue\n",
    "    print(index, value)"
   ]
  },
  {
   "cell_type": "code",
   "execution_count": 13,
   "metadata": {
    "id": "q9P4UucDwv8L",
    "outputId": "0f6e164b-140a-4cab-eeb7-e936af3cc0f8"
   },
   "outputs": [
    {
     "name": "stdout",
     "output_type": "stream",
     "text": [
      "name\n",
      "cash\n"
     ]
    }
   ],
   "source": [
    "# Can loop over lists, strings, iterators, dictionaries... sequence-like things\n",
    "my_dict = { \"name\": \"matt\", \"cash\": 5.45}\n",
    "for key in my_dict:  # loop over keys\n",
    "    print(key)"
   ]
  },
  {
   "cell_type": "code",
   "execution_count": 14,
   "metadata": {
    "id": "8sPwCN8Vwv8L",
    "outputId": "51128e1e-9ca8-4c77-8b07-ac47aede5249"
   },
   "outputs": [
    {
     "name": "stdout",
     "output_type": "stream",
     "text": [
      "matt\n",
      "5.45\n"
     ]
    }
   ],
   "source": [
    "for value in my_dict.values():\n",
    "    print(value)"
   ]
  },
  {
   "cell_type": "code",
   "execution_count": 15,
   "metadata": {
    "id": "OSIT6MG7wv8L",
    "outputId": "75d10e00-524a-41d3-e6e7-acbaaa099e63"
   },
   "outputs": [
    {
     "name": "stdout",
     "output_type": "stream",
     "text": [
      "name matt\n",
      "cash 5.45\n"
     ]
    }
   ],
   "source": [
    "for key, value in my_dict.items():\n",
    "    print(key, value)"
   ]
  },
  {
   "cell_type": "code",
   "execution_count": null,
   "metadata": {
    "id": "xsR6W6gXwv8L"
   },
   "outputs": [],
   "source": []
  },
  {
   "cell_type": "code",
   "execution_count": null,
   "metadata": {
    "id": "gGYW3Cs5wv8L"
   },
   "outputs": [],
   "source": []
  },
  {
   "cell_type": "code",
   "execution_count": null,
   "metadata": {
    "id": "O0tNYmeSwv8L"
   },
   "outputs": [],
   "source": []
  },
  {
   "cell_type": "code",
   "execution_count": null,
   "metadata": {
    "id": "5Msa3_Pzwv8L"
   },
   "outputs": [],
   "source": []
  },
  {
   "cell_type": "code",
   "execution_count": null,
   "metadata": {
    "id": "H7FJ9ifuwv8L"
   },
   "outputs": [],
   "source": []
  },
  {
   "cell_type": "markdown",
   "metadata": {
    "id": "D92RZqpfwv8L"
   },
   "source": [
    "## Strings & Unicode\n"
   ]
  },
  {
   "cell_type": "code",
   "execution_count": null,
   "metadata": {
    "id": "Fy-ID2HJwv8L",
    "lines_to_next_cell": 2
   },
   "outputs": [],
   "source": [
    "name = 'paul'"
   ]
  },
  {
   "cell_type": "code",
   "execution_count": null,
   "metadata": {
    "id": "x3Y_H1SVwv8L",
    "lines_to_next_cell": 2,
    "outputId": "343bc43a-9236-4de7-c6d9-ac47b9b0dc53"
   },
   "outputs": [
    {
     "name": "stdout",
     "output_type": "stream",
     "text": [
      "['__add__', '__class__', '__contains__', '__delattr__', '__dir__', '__doc__', '__eq__', '__format__', '__ge__', '__getattribute__', '__getitem__', '__getnewargs__', '__gt__', '__hash__', '__init__', '__init_subclass__', '__iter__', '__le__', '__len__', '__lt__', '__mod__', '__mul__', '__ne__', '__new__', '__reduce__', '__reduce_ex__', '__repr__', '__rmod__', '__rmul__', '__setattr__', '__sizeof__', '__str__', '__subclasshook__', 'capitalize', 'casefold', 'center', 'count', 'encode', 'endswith', 'expandtabs', 'find', 'format', 'format_map', 'index', 'isalnum', 'isalpha', 'isascii', 'isdecimal', 'isdigit', 'isidentifier', 'islower', 'isnumeric', 'isprintable', 'isspace', 'istitle', 'isupper', 'join', 'ljust', 'lower', 'lstrip', 'maketrans', 'partition', 'removeprefix', 'removesuffix', 'replace', 'rfind', 'rindex', 'rjust', 'rpartition', 'rsplit', 'rstrip', 'split', 'splitlines', 'startswith', 'strip', 'swapcase', 'title', 'translate', 'upper', 'zfill']\n"
     ]
    }
   ],
   "source": [
    "print(dir(name))"
   ]
  },
  {
   "cell_type": "code",
   "execution_count": null,
   "metadata": {
    "id": "Y_KZIwlowv8L",
    "lines_to_next_cell": 2,
    "outputId": "69efa28f-f04c-484d-9e22-611550e16b39"
   },
   "outputs": [
    {
     "name": "stdout",
     "output_type": "stream",
     "text": [
      "Help on built-in function upper:\n",
      "\n",
      "upper() method of builtins.str instance\n",
      "    Return a copy of the string converted to uppercase.\n",
      "\n"
     ]
    }
   ],
   "source": [
    "help(name.upper)"
   ]
  },
  {
   "cell_type": "code",
   "execution_count": null,
   "metadata": {
    "id": "nClKdvQ9wv8M",
    "lines_to_next_cell": 2,
    "outputId": "d16e7a6e-b4bd-4500-ca8e-2224ca91ef7f"
   },
   "outputs": [
    {
     "data": {
      "text/plain": [
       "'PAUL'"
      ]
     },
     "execution_count": 54,
     "metadata": {},
     "output_type": "execute_result"
    }
   ],
   "source": [
    "name.upper()"
   ]
  },
  {
   "cell_type": "code",
   "execution_count": null,
   "metadata": {
    "id": "Gxr8VqoAwv8M",
    "lines_to_next_cell": 2,
    "outputId": "82532bb0-2139-48f1-9039-e536bf614cf5"
   },
   "outputs": [
    {
     "data": {
      "text/plain": [
       "'Paul'"
      ]
     },
     "execution_count": 55,
     "metadata": {},
     "output_type": "execute_result"
    }
   ],
   "source": [
    "name.title()"
   ]
  },
  {
   "cell_type": "code",
   "execution_count": null,
   "metadata": {
    "id": "8GQoyzkowv8M",
    "lines_to_next_cell": 2,
    "outputId": "8c759879-760c-4650-faa0-df13eb4e600f"
   },
   "outputs": [
    {
     "data": {
      "text/plain": [
       "1"
      ]
     },
     "execution_count": 56,
     "metadata": {},
     "output_type": "execute_result"
    }
   ],
   "source": [
    "name.find('au')"
   ]
  },
  {
   "cell_type": "code",
   "execution_count": null,
   "metadata": {
    "id": "brLfKRLOwv8M",
    "lines_to_next_cell": 2,
    "outputId": "b58dd65b-8a56-4674-ddc0-1e49d063143d"
   },
   "outputs": [
    {
     "data": {
      "text/plain": [
       "'p'"
      ]
     },
     "execution_count": 57,
     "metadata": {},
     "output_type": "execute_result"
    }
   ],
   "source": [
    "name[0]"
   ]
  },
  {
   "cell_type": "code",
   "execution_count": null,
   "metadata": {
    "id": "UI3lRuxjwv8M",
    "lines_to_next_cell": 2,
    "outputId": "4dc5f145-5555-4b38-8e80-0c63ff1331ea"
   },
   "outputs": [
    {
     "data": {
      "text/plain": [
       "'l'"
      ]
     },
     "execution_count": 58,
     "metadata": {},
     "output_type": "execute_result"
    }
   ],
   "source": [
    "name[-1]"
   ]
  },
  {
   "cell_type": "code",
   "execution_count": null,
   "metadata": {
    "id": "OGcIvhyIwv8M",
    "lines_to_next_cell": 2,
    "outputId": "aeba5c95-5158-4b42-bcea-c7a9ddcf705b"
   },
   "outputs": [
    {
     "data": {
      "text/plain": [
       "'l'"
      ]
     },
     "execution_count": 59,
     "metadata": {},
     "output_type": "execute_result"
    }
   ],
   "source": [
    "name[len(name) - 1]"
   ]
  },
  {
   "cell_type": "code",
   "execution_count": null,
   "metadata": {
    "id": "ay99eticwv8M",
    "lines_to_next_cell": 2,
    "outputId": "d45598d0-0ee9-4cc8-fb91-8bb43b16765c"
   },
   "outputs": [
    {
     "data": {
      "text/plain": [
       "'Hello 😀 😀 😀'"
      ]
     },
     "execution_count": 60,
     "metadata": {},
     "output_type": "execute_result"
    }
   ],
   "source": [
    "greeting = 'Hello \\N{GRINNING FACE} \\U0001f600 😀'\n",
    "greeting"
   ]
  },
  {
   "cell_type": "code",
   "execution_count": null,
   "metadata": {
    "id": "CgSiPzWRwv8M",
    "lines_to_next_cell": 2,
    "outputId": "9504753b-31a5-4ad3-ca1e-060a09ac40a8"
   },
   "outputs": [
    {
     "data": {
      "text/plain": [
       "b'Hello \\xf0\\x9f\\x98\\x80 \\xf0\\x9f\\x98\\x80 \\xf0\\x9f\\x98\\x80'"
      ]
     },
     "execution_count": 61,
     "metadata": {},
     "output_type": "execute_result"
    }
   ],
   "source": [
    "# Encoding to binary\n",
    "greeting.encode('utf8')"
   ]
  },
  {
   "cell_type": "code",
   "execution_count": null,
   "metadata": {
    "id": "XatSW3H-wv8M",
    "lines_to_next_cell": 2,
    "outputId": "f4a985ab-0063-49f7-cc81-b716cd470557"
   },
   "outputs": [
    {
     "data": {
      "text/plain": [
       "'Hello 😀 😀 😀'"
      ]
     },
     "execution_count": 62,
     "metadata": {},
     "output_type": "execute_result"
    }
   ],
   "source": [
    "greeting.encode('utf8').decode('utf8')"
   ]
  },
  {
   "cell_type": "code",
   "execution_count": null,
   "metadata": {
    "id": "iBRYNnMowv8M",
    "lines_to_next_cell": 2
   },
   "outputs": [],
   "source": [
    "paragraph = \"\"\"Greetings,\n",
    "Thank you for attending tonight.\n",
    "Long-winded talk.\n",
    "Goodbye!\"\"\""
   ]
  },
  {
   "cell_type": "code",
   "execution_count": null,
   "metadata": {},
   "outputs": [
    {
     "name": "stdout",
     "output_type": "stream",
     "text": [
      "Greetings,\n",
      "Thank you for attending tonight.\n",
      "Long-winded talk.\n",
      "Goodbye!\n"
     ]
    }
   ],
   "source": [
    "print(paragraph)"
   ]
  },
  {
   "cell_type": "code",
   "execution_count": null,
   "metadata": {
    "id": "szboW9Jewv8M",
    "lines_to_next_cell": 2,
    "outputId": "c2e66000-16a2-462c-d0ab-9198f254ebe0"
   },
   "outputs": [
    {
     "name": "stdout",
     "output_type": "stream",
     "text": [
      "Greetings Paul,\n",
      "Thank you for attending tonight.\n",
      "We will be here for 0.60 hours\n",
      "Long-winded talk.\n",
      "Goodbye paul!\n"
     ]
    }
   ],
   "source": [
    "# f-strings\n",
    "minutes = 36\n",
    "paragraph = f\"\"\"Greetings {name.title()},\n",
    "Thank you for attending tonight.\n",
    "We will be here for {minutes/60:.2f} hours\n",
    "Long-winded talk.\n",
    "Goodbye {name}!\"\"\"\n",
    "print(paragraph)"
   ]
  },
  {
   "cell_type": "code",
   "execution_count": null,
   "metadata": {
    "id": "FmOQlXSwwv8M",
    "lines_to_next_cell": 2,
    "outputId": "8e11fd0f-db7e-4d72-d23a-0fb6d6699189"
   },
   "outputs": [
    {
     "data": {
      "text/plain": [
       "'Name: **Ringo**'"
      ]
     },
     "execution_count": 77,
     "metadata": {},
     "output_type": "execute_result"
    }
   ],
   "source": [
    "# formatting following a \":\"\n",
    "name = 'Ringo'\n",
    "f\"Name: {name:*^9}\""
   ]
  },
  {
   "cell_type": "code",
   "execution_count": null,
   "metadata": {
    "id": "R5K9PtPfwv8M",
    "lines_to_next_cell": 2,
    "outputId": "976bb62f-8e2f-44f9-8161-e087b439d950"
   },
   "outputs": [
    {
     "data": {
      "text/plain": [
       "'Percent: -   44.00%'"
      ]
     },
     "execution_count": 82,
     "metadata": {},
     "output_type": "execute_result"
    }
   ],
   "source": [
    "per = -44/100\n",
    "f\"Percent: {per:=10.2%}\""
   ]
  },
  {
   "cell_type": "code",
   "execution_count": null,
   "metadata": {
    "id": "4jywiezBwv8M",
    "lines_to_next_cell": 2,
    "outputId": "b2df7ab4-bb8e-467e-e92d-4de123abe146"
   },
   "outputs": [
    {
     "data": {
      "text/plain": [
       "\"Binary:b' 1100\""
      ]
     },
     "execution_count": 85,
     "metadata": {},
     "output_type": "execute_result"
    }
   ],
   "source": [
    "f\"Binary:b' {12:b}\""
   ]
  },
  {
   "cell_type": "code",
   "execution_count": null,
   "metadata": {
    "id": "p005bmehwv8N",
    "lines_to_next_cell": 2,
    "outputId": "7182ac45-47fa-45f7-fe43-18974b52a40b"
   },
   "outputs": [
    {
     "data": {
      "text/plain": [
       "\"Hex:h' c\""
      ]
     },
     "execution_count": 86,
     "metadata": {},
     "output_type": "execute_result"
    }
   ],
   "source": [
    "f\"Hex:h' {12:x}\""
   ]
  },
  {
   "cell_type": "code",
   "execution_count": null,
   "metadata": {
    "id": "IB8Tc5jwwv8N"
   },
   "outputs": [],
   "source": []
  },
  {
   "cell_type": "code",
   "execution_count": null,
   "metadata": {
    "id": "6z7GcPnYwv8N",
    "lines_to_next_cell": 2
   },
   "outputs": [],
   "source": []
  },
  {
   "cell_type": "code",
   "execution_count": null,
   "metadata": {
    "id": "UqBnGV2Vwv8N"
   },
   "outputs": [],
   "source": []
  },
  {
   "cell_type": "code",
   "execution_count": null,
   "metadata": {
    "id": "Bzqo01Izwv8N"
   },
   "outputs": [],
   "source": []
  },
  {
   "cell_type": "code",
   "execution_count": null,
   "metadata": {
    "id": "bHGxWNrMwv8N"
   },
   "outputs": [],
   "source": []
  },
  {
   "cell_type": "code",
   "execution_count": null,
   "metadata": {
    "id": "53gDM5nJwv8N"
   },
   "outputs": [],
   "source": []
  },
  {
   "cell_type": "markdown",
   "metadata": {
    "id": "6kSe8l5gwv8N"
   },
   "source": [
    "## Files\n"
   ]
  },
  {
   "cell_type": "code",
   "execution_count": 16,
   "metadata": {
    "id": "WkhB_A7Xwv8N",
    "lines_to_next_cell": 2,
    "outputId": "1727ed53-21fa-4341-8a7b-f048feafdebb"
   },
   "outputs": [
    {
     "data": {
      "text/plain": [
       "9"
      ]
     },
     "execution_count": 16,
     "metadata": {},
     "output_type": "execute_result"
    }
   ],
   "source": [
    "fout = open('names.csv', mode='w', encoding='utf8')\n",
    "fout.write('name,age\\n')"
   ]
  },
  {
   "cell_type": "code",
   "execution_count": 17,
   "metadata": {
    "id": "JuswyHWnwv8N",
    "lines_to_next_cell": 2,
    "outputId": "821d5093-1271-4e60-9c4f-fb3fbac7a956"
   },
   "outputs": [
    {
     "data": {
      "text/plain": [
       "8"
      ]
     },
     "execution_count": 17,
     "metadata": {},
     "output_type": "execute_result"
    }
   ],
   "source": [
    "fout.write('jeff,30\\n')"
   ]
  },
  {
   "cell_type": "code",
   "execution_count": 18,
   "metadata": {
    "id": "K9FGi-pJwv8N",
    "lines_to_next_cell": 2,
    "outputId": "c0f8808c-ebd1-43e9-ae90-9e04bab6c6ec"
   },
   "outputs": [
    {
     "data": {
      "text/plain": [
       "9"
      ]
     },
     "execution_count": 18,
     "metadata": {},
     "output_type": "execute_result"
    }
   ],
   "source": [
    "fout.write('linda,29\\n')"
   ]
  },
  {
   "cell_type": "code",
   "execution_count": 19,
   "metadata": {
    "id": "-rlnwc6wwv8N",
    "lines_to_next_cell": 2
   },
   "outputs": [],
   "source": [
    "fout.close()"
   ]
  },
  {
   "cell_type": "code",
   "execution_count": 20,
   "metadata": {
    "id": "--MlDt3lwv8N",
    "lines_to_next_cell": 2
   },
   "outputs": [],
   "source": [
    "# The  ``with`` statement will automatically close your files. (Also used in plotting and setting pandas parameters)\n",
    "with open('names.csv', mode='w', encoding='utf8') as fout:\n",
    "    fout.write('name,age\\n')\n",
    "    fout.write('jeff,30\\n')\n",
    "    fout.write('linda,29\\n')"
   ]
  },
  {
   "cell_type": "code",
   "execution_count": 21,
   "metadata": {
    "id": "JIPYfzRswv8N",
    "lines_to_next_cell": 2,
    "outputId": "07a770ff-9c00-4445-a73e-0188b4204355"
   },
   "outputs": [
    {
     "ename": "ValueError",
     "evalue": "I/O operation on closed file.",
     "output_type": "error",
     "traceback": [
      "\u001b[0;31m---------------------------------------------------------------------------\u001b[0m",
      "\u001b[0;31mValueError\u001b[0m                                Traceback (most recent call last)",
      "\u001b[1;32m/home/yibotian/DSP_AI/python/python-for-beginners.ipynb Cell 174\u001b[0m line \u001b[0;36m2\n\u001b[1;32m      <a href='vscode-notebook-cell:/home/yibotian/DSP_AI/python/python-for-beginners.ipynb#Y335sZmlsZQ%3D%3D?line=0'>1</a>\u001b[0m \u001b[39m# file is automatically closed when we dedent    \u001b[39;00m\n\u001b[0;32m----> <a href='vscode-notebook-cell:/home/yibotian/DSP_AI/python/python-for-beginners.ipynb#Y335sZmlsZQ%3D%3D?line=1'>2</a>\u001b[0m fout\u001b[39m.\u001b[39;49mwrite(\u001b[39m'\u001b[39;49m\u001b[39mbad,42\u001b[39;49m\u001b[39m\\n\u001b[39;49;00m\u001b[39m'\u001b[39;49m)\n",
      "\u001b[0;31mValueError\u001b[0m: I/O operation on closed file."
     ]
    }
   ],
   "source": [
    "# file is automatically closed when we dedent    \n",
    "fout.write('bad,42\\n')"
   ]
  },
  {
   "cell_type": "code",
   "execution_count": null,
   "metadata": {
    "id": "msGgMEfawv8N",
    "lines_to_next_cell": 2,
    "outputId": "ba97deb1-281d-469a-9a83-b72f4ce48925"
   },
   "outputs": [],
   "source": [
    "print(dir(fout))"
   ]
  },
  {
   "cell_type": "code",
   "execution_count": null,
   "metadata": {
    "id": "kAUR63-jwv8N",
    "lines_to_next_cell": 2,
    "outputId": "2e7c2cf8-984a-4566-f490-5baa3696fc4b"
   },
   "outputs": [],
   "source": [
    "help(fout.write)"
   ]
  },
  {
   "cell_type": "code",
   "execution_count": 22,
   "metadata": {
    "comment_questions": false,
    "id": "7qmDYc7Fwv8N",
    "lines_to_next_cell": 2
   },
   "outputs": [
    {
     "name": "stdout",
     "output_type": "stream",
     "text": [
      "\u001b[0;31mSignature:\u001b[0m \u001b[0mfout\u001b[0m\u001b[0;34m.\u001b[0m\u001b[0mwrite\u001b[0m\u001b[0;34m(\u001b[0m\u001b[0mtext\u001b[0m\u001b[0;34m,\u001b[0m \u001b[0;34m/\u001b[0m\u001b[0;34m)\u001b[0m\u001b[0;34m\u001b[0m\u001b[0;34m\u001b[0m\u001b[0m\n",
      "\u001b[0;31mDocstring:\u001b[0m\n",
      "Write string to stream.\n",
      "Returns the number of characters written (which is always equal to\n",
      "the length of the string).\n",
      "\u001b[0;31mType:\u001b[0m      builtin_function_or_method"
     ]
    }
   ],
   "source": [
    "fout.write?"
   ]
  },
  {
   "cell_type": "code",
   "execution_count": 23,
   "metadata": {
    "id": "7El1chkFwv8N",
    "lines_to_next_cell": 2,
    "outputId": "18caf40a-9724-4a3e-8ffc-0e9a2ad10c6b"
   },
   "outputs": [
    {
     "data": {
      "text/plain": [
       "'name,age\\njeff,30\\nlinda,29\\n'"
      ]
     },
     "execution_count": 23,
     "metadata": {},
     "output_type": "execute_result"
    }
   ],
   "source": [
    "with open('names.csv', encoding='utf8') as fin:\n",
    "    data = fin.read()\n",
    "data"
   ]
  },
  {
   "cell_type": "code",
   "execution_count": 24,
   "metadata": {
    "id": "CfMh3psHwv8N",
    "lines_to_next_cell": 2,
    "outputId": "e71e08f3-a4b0-4924-dd3f-56bea9c04865"
   },
   "outputs": [
    {
     "data": {
      "text/plain": [
       "b'n'"
      ]
     },
     "execution_count": 24,
     "metadata": {},
     "output_type": "execute_result"
    }
   ],
   "source": [
    "with open('names.csv', mode='rb') as fin:\n",
    "    one_byte = fin.read(1)\n",
    "    ten_bytes = fin.read(10)\n",
    "one_byte"
   ]
  },
  {
   "cell_type": "code",
   "execution_count": 25,
   "metadata": {
    "id": "Sbt8nHTIwv8N",
    "lines_to_next_cell": 2,
    "outputId": "77e1f680-da8f-4171-cfcd-8d046ba6ea2a"
   },
   "outputs": [
    {
     "data": {
      "text/plain": [
       "'ame,age\\nje'"
      ]
     },
     "execution_count": 25,
     "metadata": {},
     "output_type": "execute_result"
    }
   ],
   "source": [
    "ten_bytes.decode('utf8')"
   ]
  },
  {
   "cell_type": "code",
   "execution_count": 26,
   "metadata": {
    "id": "W355y7SVwv8N",
    "lines_to_next_cell": 2
   },
   "outputs": [],
   "source": [
    "# Careful with Encoding\n",
    "with open('unigreeting.txt', 'w', encoding='utf8') as fout:\n",
    "    fout.write('Hello \\N{GRINNING FACE}')"
   ]
  },
  {
   "cell_type": "code",
   "execution_count": 27,
   "metadata": {
    "id": "DAAzVeNpwv8O",
    "lines_to_next_cell": 2,
    "outputId": "3577f23d-3319-436a-8461-f63b0eafb0c1"
   },
   "outputs": [
    {
     "data": {
      "text/plain": [
       "'Hello 😀'"
      ]
     },
     "execution_count": 27,
     "metadata": {},
     "output_type": "execute_result"
    }
   ],
   "source": [
    "greeting = open('unigreeting.txt', 'r', encoding='utf8').read()\n",
    "greeting"
   ]
  },
  {
   "cell_type": "code",
   "execution_count": 28,
   "metadata": {
    "id": "Hi8MNs_nwv8O",
    "lines_to_next_cell": 2,
    "outputId": "8be4d3d0-6fc0-4d6a-e265-2194ce82c341"
   },
   "outputs": [
    {
     "data": {
      "text/plain": [
       "'Hello ðŸ˜€'"
      ]
     },
     "execution_count": 28,
     "metadata": {},
     "output_type": "execute_result"
    }
   ],
   "source": [
    "greeting = open('unigreeting.txt', 'r', encoding='windows_1252').read()\n",
    "greeting"
   ]
  },
  {
   "cell_type": "code",
   "execution_count": 29,
   "metadata": {
    "id": "6SzT6N-qwv8O",
    "lines_to_next_cell": 2,
    "outputId": "3b005915-1684-472f-fb40-1b6d76f77c28"
   },
   "outputs": [
    {
     "ename": "UnicodeDecodeError",
     "evalue": "'ascii' codec can't decode byte 0xf0 in position 6: ordinal not in range(128)",
     "output_type": "error",
     "traceback": [
      "\u001b[0;31m---------------------------------------------------------------------------\u001b[0m",
      "\u001b[0;31mUnicodeDecodeError\u001b[0m                        Traceback (most recent call last)",
      "\u001b[1;32m/home/yibotian/DSP_AI/python/python-for-beginners.ipynb Cell 184\u001b[0m line \u001b[0;36m1\n\u001b[0;32m----> <a href='vscode-notebook-cell:/home/yibotian/DSP_AI/python/python-for-beginners.ipynb#Y351sZmlsZQ%3D%3D?line=0'>1</a>\u001b[0m greeting \u001b[39m=\u001b[39m \u001b[39mopen\u001b[39;49m(\u001b[39m'\u001b[39;49m\u001b[39munigreeting.txt\u001b[39;49m\u001b[39m'\u001b[39;49m, \u001b[39m'\u001b[39;49m\u001b[39mr\u001b[39;49m\u001b[39m'\u001b[39;49m, encoding\u001b[39m=\u001b[39;49m\u001b[39m'\u001b[39;49m\u001b[39mascii\u001b[39;49m\u001b[39m'\u001b[39;49m)\u001b[39m.\u001b[39;49mread()\n",
      "File \u001b[0;32m/usr/lib/python3.10/encodings/ascii.py:26\u001b[0m, in \u001b[0;36mIncrementalDecoder.decode\u001b[0;34m(self, input, final)\u001b[0m\n\u001b[1;32m     25\u001b[0m \u001b[39mdef\u001b[39;00m \u001b[39mdecode\u001b[39m(\u001b[39mself\u001b[39m, \u001b[39minput\u001b[39m, final\u001b[39m=\u001b[39m\u001b[39mFalse\u001b[39;00m):\n\u001b[0;32m---> 26\u001b[0m     \u001b[39mreturn\u001b[39;00m codecs\u001b[39m.\u001b[39;49mascii_decode(\u001b[39minput\u001b[39;49m, \u001b[39mself\u001b[39;49m\u001b[39m.\u001b[39;49merrors)[\u001b[39m0\u001b[39m]\n",
      "\u001b[0;31mUnicodeDecodeError\u001b[0m: 'ascii' codec can't decode byte 0xf0 in position 6: ordinal not in range(128)"
     ]
    }
   ],
   "source": [
    "greeting = open('unigreeting.txt', 'r', encoding='ascii').read()"
   ]
  },
  {
   "cell_type": "code",
   "execution_count": 30,
   "metadata": {
    "id": "J9RHsLNawv8O",
    "lines_to_next_cell": 2,
    "outputId": "789e19ae-e7b4-49dd-8399-450c87fb279d"
   },
   "outputs": [
    {
     "data": {
      "text/plain": [
       "'Hello ðŸ˜€'"
      ]
     },
     "execution_count": 30,
     "metadata": {},
     "output_type": "execute_result"
    }
   ],
   "source": [
    "greeting = open('unigreeting.txt', 'r', encoding='windows_1252').read()\n",
    "greeting"
   ]
  },
  {
   "cell_type": "code",
   "execution_count": 31,
   "metadata": {
    "id": "08UGPZ4gwv8O",
    "lines_to_next_cell": 2,
    "outputId": "361b3c0f-973a-40c1-a39f-d6daee9a66e0"
   },
   "outputs": [
    {
     "data": {
      "text/plain": [
       "b'Hello \\xf0\\x9f\\x98\\x80'"
      ]
     },
     "execution_count": 31,
     "metadata": {},
     "output_type": "execute_result"
    }
   ],
   "source": [
    "greeting.encode('windows_1252')"
   ]
  },
  {
   "cell_type": "code",
   "execution_count": 32,
   "metadata": {
    "id": "iIDb2yWxwv8P",
    "lines_to_next_cell": 2,
    "outputId": "4cee8a03-6f24-4a48-ec77-ad5acfdec694"
   },
   "outputs": [
    {
     "data": {
      "text/plain": [
       "'Hello 😀'"
      ]
     },
     "execution_count": 32,
     "metadata": {},
     "output_type": "execute_result"
    }
   ],
   "source": [
    "greeting.encode('windows_1252').decode('utf8')"
   ]
  },
  {
   "cell_type": "code",
   "execution_count": 33,
   "metadata": {
    "id": "Zs4lr5t_wv8P",
    "lines_to_next_cell": 2,
    "outputId": "87940057-eda3-4fa3-d8a6-d55c109fe79e"
   },
   "outputs": [
    {
     "name": "stdout",
     "output_type": "stream",
     "text": [
      "['037', '1026', '1125', '1140', '1250', '1251', '1252', '1253', '1254', '1255', '1256', '1257', '1258', '273', '424', '437', '500', '646', '775', '850', '852', '855', '857', '858', '860', '861', '862', '863', '864', '865', '866', '869', '8859', '932', '936', '949', '950', 'ansi', 'ansi_x3.4_1968', 'ansi_x3.4_1986', 'ansi_x3_4_1968', 'arabic', 'asmo_708', 'base64', 'base_64', 'big5_hkscs', 'big5_tw', 'bz2', 'chinese', 'cp1051', 'cp1361', 'cp154', 'cp367', 'cp65001', 'cp819', 'cp866u', 'cp936', 'cp_gr', 'cp_is', 'csHPRoman8', 'csascii', 'csbig5', 'csibm037', 'csibm1026', 'csibm273', 'csibm424', 'csibm500', 'csibm855', 'csibm857', 'csibm858', 'csibm860', 'csibm861', 'csibm863', 'csibm864', 'csibm865', 'csibm866', 'csibm869', 'csiso2022jp', 'csiso2022kr', 'csiso58gb231280', 'csisolatin1', 'csisolatin2', 'csisolatin3', 'csisolatin4', 'csisolatin5', 'csisolatin6', 'csisolatinarabic', 'csisolatincyrillic', 'csisolatingreek', 'csisolatinhebrew', 'cskoi8r', 'cspc775baltic', 'cspc850multilingual', 'cspc862latinhebrew', 'cspc8codepage437', 'cspcp852', 'csptcp154', 'csshiftjis', 'cyrillic', 'cyrillic_asian', 'dbcs', 'ebcdic_cp_be', 'ebcdic_cp_ca', 'ebcdic_cp_ch', 'ebcdic_cp_he', 'ebcdic_cp_nl', 'ebcdic_cp_us', 'ebcdic_cp_wt', 'ecma_114', 'ecma_118', 'elot_928', 'euc_cn', 'euc_jis2004', 'euccn', 'eucgb2312_cn', 'eucjis2004', 'eucjisx0213', 'eucjp', 'euckr', 'gb18030_2000', 'gb2312_1980', 'gb2312_80', 'greek', 'greek8', 'hebrew', 'hex', 'hkscs', 'hz_gb', 'hz_gb_2312', 'hzgb', 'ibm037', 'ibm039', 'ibm1026', 'ibm1051', 'ibm1125', 'ibm1140', 'ibm273', 'ibm367', 'ibm424', 'ibm437', 'ibm500', 'ibm775', 'ibm819', 'ibm850', 'ibm852', 'ibm855', 'ibm857', 'ibm858', 'ibm860', 'ibm861', 'ibm862', 'ibm863', 'ibm864', 'ibm865', 'ibm866', 'ibm869', 'iso2022jp', 'iso2022jp_1', 'iso2022jp_2', 'iso2022jp_2004', 'iso2022jp_3', 'iso2022jp_ext', 'iso2022kr', 'iso646_us', 'iso8859', 'iso8859_1', 'iso_2022_jp', 'iso_2022_jp_1', 'iso_2022_jp_2', 'iso_2022_jp_2004', 'iso_2022_jp_3', 'iso_2022_jp_ext', 'iso_2022_kr', 'iso_646.irv_1991', 'iso_8859_1', 'iso_8859_10', 'iso_8859_10_1992', 'iso_8859_11', 'iso_8859_11_2001', 'iso_8859_13', 'iso_8859_14', 'iso_8859_14_1998', 'iso_8859_15', 'iso_8859_16', 'iso_8859_16_2001', 'iso_8859_1_1987', 'iso_8859_2', 'iso_8859_2_1987', 'iso_8859_3', 'iso_8859_3_1988', 'iso_8859_4', 'iso_8859_4_1988', 'iso_8859_5', 'iso_8859_5_1988', 'iso_8859_6', 'iso_8859_6_1987', 'iso_8859_7', 'iso_8859_7_1987', 'iso_8859_8', 'iso_8859_8_1988', 'iso_8859_9', 'iso_8859_9_1989', 'iso_celtic', 'iso_ir_100', 'iso_ir_101', 'iso_ir_109', 'iso_ir_110', 'iso_ir_126', 'iso_ir_127', 'iso_ir_138', 'iso_ir_144', 'iso_ir_148', 'iso_ir_157', 'iso_ir_166', 'iso_ir_199', 'iso_ir_226', 'iso_ir_58', 'iso_ir_6', 'jisx0213', 'korean', 'ks_c_5601', 'ks_c_5601_1987', 'ks_x_1001', 'ksc5601', 'ksx1001', 'kz_1048', 'l1', 'l10', 'l2', 'l3', 'l4', 'l5', 'l6', 'l7', 'l8', 'l9', 'latin', 'latin1', 'latin10', 'latin2', 'latin3', 'latin4', 'latin5', 'latin6', 'latin7', 'latin8', 'latin9', 'mac_centeuro', 'maccentraleurope', 'maccyrillic', 'macgreek', 'maciceland', 'macintosh', 'maclatin2', 'macroman', 'macturkish', 'ms1361', 'ms932', 'ms936', 'ms949', 'ms950', 'ms_kanji', 'mskanji', 'pt154', 'quopri', 'quoted_printable', 'quotedprintable', 'r8', 'rk1048', 'roman8', 'rot13', 'ruscii', 's_jis', 's_jis_2004', 's_jisx0213', 'shiftjis', 'shiftjis2004', 'shiftjisx0213', 'sjis', 'sjis_2004', 'sjisx0213', 'strk1048_2002', 'thai', 'tis620', 'tis_620_0', 'tis_620_2529_0', 'tis_620_2529_1', 'u16', 'u32', 'u7', 'u8', 'u_jis', 'uhc', 'ujis', 'unicode_1_1_utf_7', 'unicodebigunmarked', 'unicodelittleunmarked', 'us', 'us_ascii', 'utf', 'utf16', 'utf32', 'utf7', 'utf8', 'utf8_ucs2', 'utf8_ucs4', 'utf_16be', 'utf_16le', 'utf_32be', 'utf_32le', 'uu', 'windows_1250', 'windows_1251', 'windows_1252', 'windows_1253', 'windows_1254', 'windows_1255', 'windows_1256', 'windows_1257', 'windows_1258', 'x_mac_japanese', 'x_mac_korean', 'x_mac_simp_chinese', 'x_mac_trad_chinese', 'zip', 'zlib']\n"
     ]
    }
   ],
   "source": [
    "import encodings\n",
    "print(sorted(encodings.aliases.aliases))"
   ]
  },
  {
   "cell_type": "code",
   "execution_count": 49,
   "metadata": {
    "id": "yXc94Hk-wv8P",
    "lines_to_next_cell": 2
   },
   "outputs": [
    {
     "data": {
      "text/plain": [
       "True"
      ]
     },
     "execution_count": 49,
     "metadata": {},
     "output_type": "execute_result"
    }
   ],
   "source": [
    "from genericpath import exists, isfile\n",
    "exists(\"names.csv\")"
   ]
  },
  {
   "cell_type": "code",
   "execution_count": null,
   "metadata": {
    "id": "UtmQpNwwwv8P"
   },
   "outputs": [],
   "source": []
  },
  {
   "cell_type": "code",
   "execution_count": null,
   "metadata": {
    "id": "PV_ARu0zwv8P"
   },
   "outputs": [],
   "source": []
  },
  {
   "cell_type": "code",
   "execution_count": null,
   "metadata": {
    "id": "dO7Pcsyqwv8P"
   },
   "outputs": [],
   "source": []
  },
  {
   "cell_type": "code",
   "execution_count": null,
   "metadata": {
    "id": "cc_1tq18wv8P"
   },
   "outputs": [],
   "source": []
  },
  {
   "cell_type": "code",
   "execution_count": null,
   "metadata": {
    "id": "Hv-yLtbCwv8P",
    "lines_to_next_cell": 2
   },
   "outputs": [],
   "source": []
  },
  {
   "cell_type": "markdown",
   "metadata": {
    "id": "vYixEb0fwv8P"
   },
   "source": [
    "## Lists\n"
   ]
  },
  {
   "cell_type": "code",
   "execution_count": 130,
   "metadata": {
    "id": "D6iw7p8qwv8P",
    "lines_to_next_cell": 2
   },
   "outputs": [
    {
     "data": {
      "text/plain": [
       "['george', 'john', 'paul']"
      ]
     },
     "execution_count": 130,
     "metadata": {},
     "output_type": "execute_result"
    }
   ],
   "source": [
    "# Literal vs constructor\n",
    "names = ['john', 'paul', 'george']\n",
    "\n",
    "reverse=True\n",
    "names.sort()\n",
    "names"
   ]
  },
  {
   "cell_type": "code",
   "execution_count": 51,
   "metadata": {
    "id": "oc7z_B2_wv8P",
    "lines_to_next_cell": 2,
    "outputId": "3b4e151c-f040-49ef-d7b2-34c64b4a0546"
   },
   "outputs": [
    {
     "data": {
      "text/plain": [
       "[0, 1, 2, 3]"
      ]
     },
     "execution_count": 51,
     "metadata": {},
     "output_type": "execute_result"
    }
   ],
   "source": [
    "vals = list(range(4))\n",
    "vals"
   ]
  },
  {
   "cell_type": "code",
   "execution_count": 52,
   "metadata": {
    "id": "8rfJr3a5wv8P",
    "lines_to_next_cell": 2,
    "outputId": "66199689-6e8f-441e-f745-b9ba18b1df3f"
   },
   "outputs": [
    {
     "name": "stdout",
     "output_type": "stream",
     "text": [
      "['__add__', '__class__', '__class_getitem__', '__contains__', '__delattr__', '__delitem__', '__dir__', '__doc__', '__eq__', '__format__', '__ge__', '__getattribute__', '__getitem__', '__gt__', '__hash__', '__iadd__', '__imul__', '__init__', '__init_subclass__', '__iter__', '__le__', '__len__', '__lt__', '__mul__', '__ne__', '__new__', '__reduce__', '__reduce_ex__', '__repr__', '__reversed__', '__rmul__', '__setattr__', '__setitem__', '__sizeof__', '__str__', '__subclasshook__', 'append', 'clear', 'copy', 'count', 'extend', 'index', 'insert', 'pop', 'remove', 'reverse', 'sort']\n"
     ]
    }
   ],
   "source": [
    "print(dir(names))"
   ]
  },
  {
   "cell_type": "code",
   "execution_count": 53,
   "metadata": {
    "comment_questions": false,
    "id": "o3vJ6OYBwv8P",
    "lines_to_next_cell": 2
   },
   "outputs": [
    {
     "name": "stdout",
     "output_type": "stream",
     "text": [
      "\u001b[0;31mSignature:\u001b[0m \u001b[0mnames\u001b[0m\u001b[0;34m.\u001b[0m\u001b[0mappend\u001b[0m\u001b[0;34m(\u001b[0m\u001b[0mobject\u001b[0m\u001b[0;34m,\u001b[0m \u001b[0;34m/\u001b[0m\u001b[0;34m)\u001b[0m\u001b[0;34m\u001b[0m\u001b[0;34m\u001b[0m\u001b[0m\n",
      "\u001b[0;31mDocstring:\u001b[0m Append object to the end of the list.\n",
      "\u001b[0;31mType:\u001b[0m      builtin_function_or_method"
     ]
    }
   ],
   "source": [
    "names.append?"
   ]
  },
  {
   "cell_type": "code",
   "execution_count": 54,
   "metadata": {
    "id": "RI-fwoeDwv8P",
    "lines_to_next_cell": 2,
    "outputId": "dbd24830-e449-4d56-98dd-6a0f67a3da7b"
   },
   "outputs": [
    {
     "name": "stdout",
     "output_type": "stream",
     "text": [
      "Help on built-in function append:\n",
      "\n",
      "append(object, /) method of builtins.list instance\n",
      "    Append object to the end of the list.\n",
      "\n"
     ]
    }
   ],
   "source": [
    "help(names.append)"
   ]
  },
  {
   "cell_type": "code",
   "execution_count": 55,
   "metadata": {
    "id": "F4zDUk84wv8P",
    "lines_to_next_cell": 2,
    "outputId": "edee06f9-26dc-4a84-f6bc-e78c264216cf"
   },
   "outputs": [
    {
     "data": {
      "text/plain": [
       "['john', 'paul', 'george']"
      ]
     },
     "execution_count": 55,
     "metadata": {},
     "output_type": "execute_result"
    }
   ],
   "source": [
    "# Mutation!(突变？)\n",
    "names"
   ]
  },
  {
   "cell_type": "code",
   "execution_count": 56,
   "metadata": {
    "id": "WP3kvZP3wv8P",
    "lines_to_next_cell": 2
   },
   "outputs": [],
   "source": [
    "names.append('ringo')"
   ]
  },
  {
   "cell_type": "code",
   "execution_count": 57,
   "metadata": {
    "id": "UZuDwGVPwv8P",
    "lines_to_next_cell": 2,
    "outputId": "2fd4a9c2-7639-433d-d6b9-8a3cecd8cbc8"
   },
   "outputs": [
    {
     "data": {
      "text/plain": [
       "['john', 'paul', 'george', 'ringo']"
      ]
     },
     "execution_count": 57,
     "metadata": {},
     "output_type": "execute_result"
    }
   ],
   "source": [
    "names"
   ]
  },
  {
   "cell_type": "code",
   "execution_count": 58,
   "metadata": {
    "id": "c9Jl8-zXwv8P",
    "lines_to_next_cell": 2,
    "outputId": "afec0789-cc71-4541-d8fc-a09f2a2f8cf9"
   },
   "outputs": [
    {
     "data": {
      "text/plain": [
       "1"
      ]
     },
     "execution_count": 58,
     "metadata": {},
     "output_type": "execute_result"
    }
   ],
   "source": [
    "names.index('paul')"
   ]
  },
  {
   "cell_type": "code",
   "execution_count": 59,
   "metadata": {
    "id": "2sura1q7wv8P",
    "lines_to_next_cell": 2,
    "outputId": "3974423a-b3b1-468f-9168-e5bcc044ebcc"
   },
   "outputs": [
    {
     "data": {
      "text/plain": [
       "'paul'"
      ]
     },
     "execution_count": 59,
     "metadata": {},
     "output_type": "execute_result"
    }
   ],
   "source": [
    "names[1]"
   ]
  },
  {
   "cell_type": "code",
   "execution_count": 60,
   "metadata": {
    "id": "aYVno-_Mwv8P",
    "lines_to_next_cell": 2,
    "outputId": "0985ff9d-ddb4-4a06-cf58-ce7bbf4737a2"
   },
   "outputs": [
    {
     "data": {
      "text/plain": [
       "'paul'"
      ]
     },
     "execution_count": 60,
     "metadata": {},
     "output_type": "execute_result"
    }
   ],
   "source": [
    "names.__getitem__(1)"
   ]
  },
  {
   "cell_type": "code",
   "execution_count": 61,
   "metadata": {
    "id": "jqBEcRlqwv8P",
    "lines_to_next_cell": 2,
    "outputId": "3b2b279c-df95-4686-dc13-c2e2b942174d"
   },
   "outputs": [
    {
     "data": {
      "text/plain": [
       "['john', 'paul', 'george', 'ringo']"
      ]
     },
     "execution_count": 61,
     "metadata": {},
     "output_type": "execute_result"
    }
   ],
   "source": [
    "names"
   ]
  },
  {
   "cell_type": "code",
   "execution_count": 62,
   "metadata": {
    "id": "iSw-907Fwv8P",
    "lines_to_next_cell": 2,
    "outputId": "a744dfc8-42e5-406e-f8e9-6dff2dc298e3"
   },
   "outputs": [
    {
     "data": {
      "text/plain": [
       "['john', 'Paul', 'george', 'ringo']"
      ]
     },
     "execution_count": 62,
     "metadata": {},
     "output_type": "execute_result"
    }
   ],
   "source": [
    "names[1] = 'Paul'\n",
    "names"
   ]
  },
  {
   "cell_type": "code",
   "execution_count": 63,
   "metadata": {
    "id": "VP1oimkXwv8P",
    "lines_to_next_cell": 2,
    "outputId": "77df4244-e19d-4ce7-8279-c412574f6a5f"
   },
   "outputs": [
    {
     "data": {
      "text/plain": [
       "False"
      ]
     },
     "execution_count": 63,
     "metadata": {},
     "output_type": "execute_result"
    }
   ],
   "source": [
    "'paul' in names#is this value check?"
   ]
  },
  {
   "cell_type": "code",
   "execution_count": 64,
   "metadata": {
    "id": "A2r-h31Ewv8P",
    "lines_to_next_cell": 2,
    "outputId": "b2e4e135-7e79-40d7-e296-b3c1cf9443b2"
   },
   "outputs": [
    {
     "data": {
      "text/plain": [
       "False"
      ]
     },
     "execution_count": 64,
     "metadata": {},
     "output_type": "execute_result"
    }
   ],
   "source": [
    "# These operations dispatch to \"dunders\"\n",
    "names.__contains__('paul')"
   ]
  },
  {
   "cell_type": "code",
   "execution_count": null,
   "metadata": {
    "id": "BpEezN0wwv8P"
   },
   "outputs": [],
   "source": []
  },
  {
   "cell_type": "code",
   "execution_count": null,
   "metadata": {
    "id": "Z0--WkrJwv8Q"
   },
   "outputs": [],
   "source": []
  },
  {
   "cell_type": "code",
   "execution_count": null,
   "metadata": {
    "id": "psWtrwcHwv8Q"
   },
   "outputs": [],
   "source": []
  },
  {
   "cell_type": "code",
   "execution_count": null,
   "metadata": {
    "id": "DRQ10x-qwv8Q"
   },
   "outputs": [],
   "source": []
  },
  {
   "cell_type": "code",
   "execution_count": null,
   "metadata": {
    "id": "CuWY451pwv8Q",
    "lines_to_next_cell": 2
   },
   "outputs": [],
   "source": []
  },
  {
   "cell_type": "code",
   "execution_count": null,
   "metadata": {
    "id": "l71I_5Zxwv8Q"
   },
   "outputs": [],
   "source": []
  },
  {
   "cell_type": "markdown",
   "metadata": {
    "id": "hOm_sG8gwv8Q"
   },
   "source": [
    "## Slicing\n"
   ]
  },
  {
   "cell_type": "code",
   "execution_count": 65,
   "metadata": {
    "id": "harTM-yjwv8Q",
    "lines_to_next_cell": 2
   },
   "outputs": [],
   "source": [
    "names = ['john', 'paul', 'george', 'ringo']"
   ]
  },
  {
   "cell_type": "code",
   "execution_count": 66,
   "metadata": {
    "id": "-ic7hwA1wv8Q",
    "lines_to_next_cell": 2,
    "outputId": "8cd0d7ed-3f97-482a-cf16-580cc50f2d1a"
   },
   "outputs": [
    {
     "data": {
      "text/plain": [
       "<enumerate at 0x7f3140ecd300>"
      ]
     },
     "execution_count": 66,
     "metadata": {},
     "output_type": "execute_result"
    }
   ],
   "source": [
    "# When you need the index as well as item of enumeration\n",
    "enumerate(names)"
   ]
  },
  {
   "cell_type": "code",
   "execution_count": 67,
   "metadata": {
    "id": "anyl2JaXwv8Q",
    "lines_to_next_cell": 2,
    "outputId": "5f8b9e22-6fb3-4226-b613-19c917bb9ed8"
   },
   "outputs": [
    {
     "data": {
      "text/plain": [
       "[(0, 'john'), (1, 'paul'), (2, 'george'), (3, 'ringo')]"
      ]
     },
     "execution_count": 67,
     "metadata": {},
     "output_type": "execute_result"
    }
   ],
   "source": [
    "# Defeat Laziness - With constructor, not literal!\n",
    "list(enumerate(names))"
   ]
  },
  {
   "cell_type": "code",
   "execution_count": 68,
   "metadata": {
    "id": "UzGEkEY-wv8Q",
    "lines_to_next_cell": 2,
    "outputId": "054b4231-be2b-4002-979e-e92705119070"
   },
   "outputs": [
    {
     "data": {
      "text/plain": [
       "[<enumerate at 0x7f3140ecd040>]"
      ]
     },
     "execution_count": 68,
     "metadata": {},
     "output_type": "execute_result"
    }
   ],
   "source": [
    "[enumerate(names)]"
   ]
  },
  {
   "cell_type": "code",
   "execution_count": 71,
   "metadata": {
    "id": "x-kDydhPwv8Q",
    "lines_to_next_cell": 2,
    "outputId": "f5ddb860-7b43-489a-b7e8-5471cf03931e"
   },
   "outputs": [
    {
     "name": "stdout",
     "output_type": "stream",
     "text": [
      "4\n"
     ]
    },
    {
     "data": {
      "text/plain": [
       "[(-4, 'john'), (-3, 'paul'), (-2, 'george'), (-1, 'ringo')]"
      ]
     },
     "execution_count": 71,
     "metadata": {},
     "output_type": "execute_result"
    }
   ],
   "source": [
    "print(len(names))\n",
    "list((i - len(names), n)\n",
    "    for i, n in enumerate(names))"
   ]
  },
  {
   "cell_type": "code",
   "execution_count": 72,
   "metadata": {
    "id": "ZrkiLMKcwv8Q",
    "lines_to_next_cell": 2,
    "outputId": "37428870-dc14-45a8-ac87-f42e0c6f880a"
   },
   "outputs": [
    {
     "data": {
      "text/plain": [
       "'john'"
      ]
     },
     "execution_count": 72,
     "metadata": {},
     "output_type": "execute_result"
    }
   ],
   "source": [
    "names[0]"
   ]
  },
  {
   "cell_type": "code",
   "execution_count": 73,
   "metadata": {
    "id": "-giATc49wv8Q",
    "lines_to_next_cell": 2,
    "outputId": "f87bc2aa-61c1-4387-f56d-acad5db6cd62"
   },
   "outputs": [
    {
     "data": {
      "text/plain": [
       "'ringo'"
      ]
     },
     "execution_count": 73,
     "metadata": {},
     "output_type": "execute_result"
    }
   ],
   "source": [
    "names[-1]"
   ]
  },
  {
   "cell_type": "markdown",
   "metadata": {
    "id": "N375ENL9wv8Q",
    "lines_to_next_cell": 2
   },
   "source": [
    "### Half-open Interval\n",
    "\n",
    "Two properties:\n",
    "\n",
    "- Includes start index but not end\n",
    "- length = end - start\n"
   ]
  },
  {
   "cell_type": "code",
   "execution_count": 74,
   "metadata": {
    "id": "8c3FtIIowv8Q",
    "lines_to_next_cell": 2,
    "outputId": "5d1b9e64-2ab7-48f2-efe6-3600ae59d568"
   },
   "outputs": [
    {
     "data": {
      "text/plain": [
       "['john', 'paul', 'george']"
      ]
     },
     "execution_count": 74,
     "metadata": {},
     "output_type": "execute_result"
    }
   ],
   "source": [
    "names[0:3]"
   ]
  },
  {
   "cell_type": "code",
   "execution_count": 75,
   "metadata": {
    "id": "4pL5zO_Kwv8Q",
    "lines_to_next_cell": 2,
    "outputId": "09376716-091c-49d8-820e-122d6c1241ec"
   },
   "outputs": [
    {
     "data": {
      "text/plain": [
       "['john', 'paul', 'george']"
      ]
     },
     "execution_count": 75,
     "metadata": {},
     "output_type": "execute_result"
    }
   ],
   "source": [
    "names[:3]"
   ]
  },
  {
   "cell_type": "code",
   "execution_count": 76,
   "metadata": {
    "id": "oQ7LvQdIwv8R",
    "lines_to_next_cell": 2,
    "outputId": "fc93b58b-dfc2-4d6b-eeb1-e4800bd541c5"
   },
   "outputs": [
    {
     "data": {
      "text/plain": [
       "'ringo'"
      ]
     },
     "execution_count": 76,
     "metadata": {},
     "output_type": "execute_result"
    }
   ],
   "source": [
    "names[3]"
   ]
  },
  {
   "cell_type": "code",
   "execution_count": 77,
   "metadata": {
    "id": "shD8Tyozwv8R",
    "lines_to_next_cell": 2,
    "outputId": "0ed3c17d-4228-4d8c-fbb9-8e1743b471a9"
   },
   "outputs": [
    {
     "data": {
      "text/plain": [
       "['john', 'paul', 'george', 'ringo']"
      ]
     },
     "execution_count": 77,
     "metadata": {},
     "output_type": "execute_result"
    }
   ],
   "source": [
    "names"
   ]
  },
  {
   "cell_type": "code",
   "execution_count": 78,
   "metadata": {
    "id": "YtVez7Kvwv8R",
    "lines_to_next_cell": 2,
    "outputId": "f27326c2-3ff4-4906-cd37-5f49690a1ebd"
   },
   "outputs": [
    {
     "data": {
      "text/plain": [
       "['ringo']"
      ]
     },
     "execution_count": 78,
     "metadata": {},
     "output_type": "execute_result"
    }
   ],
   "source": [
    "names[3:]"
   ]
  },
  {
   "cell_type": "code",
   "execution_count": 83,
   "metadata": {
    "id": "cT-DyY20wv8R",
    "lines_to_next_cell": 2,
    "outputId": "6de023a8-d974-4b5a-e238-66838c73e175"
   },
   "outputs": [
    {
     "data": {
      "text/plain": [
       "'ringo'"
      ]
     },
     "execution_count": 83,
     "metadata": {},
     "output_type": "execute_result"
    }
   ],
   "source": [
    "names[-2:]\n",
    "names[-1]"
   ]
  },
  {
   "cell_type": "markdown",
   "metadata": {},
   "source": [
    "looks like space in square brace means 0, and negative index -1 is the last in the list\n"
   ]
  },
  {
   "cell_type": "code",
   "execution_count": 84,
   "metadata": {
    "id": "jTPJLiAxwv8R",
    "lines_to_next_cell": 2,
    "outputId": "0698c0a3-af38-4b2c-b950-4fbaf6b71b4a"
   },
   "outputs": [
    {
     "data": {
      "text/plain": [
       "139849519346496"
      ]
     },
     "execution_count": 84,
     "metadata": {},
     "output_type": "execute_result"
    }
   ],
   "source": [
    "# Shallow Copies\n",
    "names2 = names[:]\n",
    "id(names2)"
   ]
  },
  {
   "cell_type": "code",
   "execution_count": 85,
   "metadata": {
    "id": "VS1Hdi3pwv8R",
    "lines_to_next_cell": 2,
    "outputId": "70071985-c888-4dc1-dfc9-7131e326e0d1"
   },
   "outputs": [
    {
     "data": {
      "text/plain": [
       "139849518113280"
      ]
     },
     "execution_count": 85,
     "metadata": {},
     "output_type": "execute_result"
    }
   ],
   "source": [
    "id(names)"
   ]
  },
  {
   "cell_type": "code",
   "execution_count": 86,
   "metadata": {
    "id": "_59hUAnqwv8R",
    "lines_to_next_cell": 2,
    "outputId": "3668aebe-9646-4ebb-9975-188e9996afcd"
   },
   "outputs": [
    {
     "data": {
      "text/plain": [
       "True"
      ]
     },
     "execution_count": 86,
     "metadata": {},
     "output_type": "execute_result"
    }
   ],
   "source": [
    "names[0] is names2[0]"
   ]
  },
  {
   "cell_type": "code",
   "execution_count": 87,
   "metadata": {
    "id": "Y47HbAD9wv8R",
    "lines_to_next_cell": 2,
    "outputId": "8f953c42-33a9-4989-c802-c2b64dd7dbab"
   },
   "outputs": [
    {
     "data": {
      "text/plain": [
       "True"
      ]
     },
     "execution_count": 87,
     "metadata": {},
     "output_type": "execute_result"
    }
   ],
   "source": [
    "names == names2"
   ]
  },
  {
   "cell_type": "markdown",
   "metadata": {},
   "source": [
    "`==` does value check an `is` does id check(each object has a single unique id)\n"
   ]
  },
  {
   "cell_type": "code",
   "execution_count": 88,
   "metadata": {
    "id": "kWKsbxg2wv8R",
    "lines_to_next_cell": 2,
    "outputId": "fc4eb482-9bbc-4b1d-e990-fc5b11f47b3b"
   },
   "outputs": [
    {
     "data": {
      "text/plain": [
       "False"
      ]
     },
     "execution_count": 88,
     "metadata": {},
     "output_type": "execute_result"
    }
   ],
   "source": [
    "names is names2"
   ]
  },
  {
   "cell_type": "code",
   "execution_count": 92,
   "metadata": {
    "id": "F1snHFrkwv8R",
    "lines_to_next_cell": 2,
    "outputId": "b493779c-bdd3-43a6-a030-2b56aeed11fa"
   },
   "outputs": [
    {
     "data": {
      "text/plain": [
       "['ringo', 'paul']"
      ]
     },
     "execution_count": 92,
     "metadata": {},
     "output_type": "execute_result"
    }
   ],
   "source": [
    "# Stride /  `every each (number)`  == `::(number)`\n",
    "names[::-2]"
   ]
  },
  {
   "cell_type": "code",
   "execution_count": 90,
   "metadata": {
    "id": "akvcMIBswv8S",
    "lines_to_next_cell": 2,
    "outputId": "3a0c30c9-b115-4153-c439-c6adddcf1fb9"
   },
   "outputs": [
    {
     "data": {
      "text/plain": [
       "[0, 1, 2, 3, 4, 5, 6, 7, 8, 9]"
      ]
     },
     "execution_count": 90,
     "metadata": {},
     "output_type": "execute_result"
    }
   ],
   "source": [
    "list(range(10))"
   ]
  },
  {
   "cell_type": "code",
   "execution_count": 91,
   "metadata": {
    "id": "aWwDD2tUwv8S",
    "lines_to_next_cell": 2,
    "outputId": "87b03f64-7539-4322-cafe-3b8438d28920"
   },
   "outputs": [
    {
     "data": {
      "text/plain": [
       "[0, 3, 6, 9]"
      ]
     },
     "execution_count": 91,
     "metadata": {},
     "output_type": "execute_result"
    }
   ],
   "source": [
    "list(range(10))[::3]"
   ]
  },
  {
   "cell_type": "code",
   "execution_count": 93,
   "metadata": {
    "id": "dOZs3aM2wv8S",
    "lines_to_next_cell": 2,
    "outputId": "dc6883d4-cfeb-441d-edbf-42ba5d2a25b4"
   },
   "outputs": [
    {
     "data": {
      "text/plain": [
       "'resu'"
      ]
     },
     "execution_count": 93,
     "metadata": {},
     "output_type": "execute_result"
    }
   ],
   "source": [
    "# Slicing a string\n",
    "filename = 'resume.pdf'\n",
    "filename[:4]"
   ]
  },
  {
   "cell_type": "code",
   "execution_count": 94,
   "metadata": {
    "id": "DgujWtTuwv8S",
    "lines_to_next_cell": 2,
    "outputId": "ed28f958-f1b2-46a7-a8cb-7ab492e2aa0d"
   },
   "outputs": [
    {
     "data": {
      "text/plain": [
       "'m'"
      ]
     },
     "execution_count": 94,
     "metadata": {},
     "output_type": "execute_result"
    }
   ],
   "source": [
    "filename[4]"
   ]
  },
  {
   "cell_type": "code",
   "execution_count": 95,
   "metadata": {
    "id": "UmXV5w2twv8S",
    "lines_to_next_cell": 2,
    "outputId": "97f103d2-bf3b-485b-9512-1b5da8c3d01b"
   },
   "outputs": [
    {
     "data": {
      "text/plain": [
       "'pdf'"
      ]
     },
     "execution_count": 95,
     "metadata": {},
     "output_type": "execute_result"
    }
   ],
   "source": [
    "filename[-3:]"
   ]
  },
  {
   "cell_type": "code",
   "execution_count": 96,
   "metadata": {
    "id": "sNZmMdcXwv8S",
    "lines_to_next_cell": 2,
    "outputId": "718aeb5f-f4ef-4c40-ed5a-084d2ffa26b7"
   },
   "outputs": [
    {
     "data": {
      "text/plain": [
       "'fdp.emuser'"
      ]
     },
     "execution_count": 96,
     "metadata": {},
     "output_type": "execute_result"
    }
   ],
   "source": [
    "filename[::-1]"
   ]
  },
  {
   "cell_type": "code",
   "execution_count": null,
   "metadata": {
    "id": "stvXJIVuwv8S"
   },
   "outputs": [],
   "source": []
  },
  {
   "cell_type": "code",
   "execution_count": null,
   "metadata": {
    "id": "IbTFtDndwv8S"
   },
   "outputs": [],
   "source": []
  },
  {
   "cell_type": "code",
   "execution_count": null,
   "metadata": {
    "id": "SV5N7f4Jwv8S"
   },
   "outputs": [],
   "source": []
  },
  {
   "cell_type": "code",
   "execution_count": null,
   "metadata": {
    "id": "6k7XD9q_wv8S",
    "lines_to_next_cell": 2
   },
   "outputs": [],
   "source": []
  },
  {
   "cell_type": "code",
   "execution_count": null,
   "metadata": {
    "id": "Z2WUMDUmwv8S"
   },
   "outputs": [],
   "source": []
  },
  {
   "cell_type": "code",
   "execution_count": null,
   "metadata": {
    "id": "1FM9lWCQwv8S"
   },
   "outputs": [],
   "source": []
  },
  {
   "cell_type": "markdown",
   "metadata": {
    "id": "ACt4vXcZwv8S"
   },
   "source": [
    "## Dictionaries\n",
    "\n",
    "Map keys to values. Called associative arrays or hashmaps in other languages.\n"
   ]
  },
  {
   "cell_type": "code",
   "execution_count": 135,
   "metadata": {
    "id": "LwqaFaGNwv8S",
    "lines_to_next_cell": 2,
    "outputId": "74ee5c4f-6dd3-4d9c-f7c6-1e680b58c36f"
   },
   "outputs": [
    {
     "data": {
      "text/plain": [
       "7627746727484618054"
      ]
     },
     "execution_count": 135,
     "metadata": {},
     "output_type": "execute_result"
    }
   ],
   "source": [
    "hash('name')"
   ]
  },
  {
   "cell_type": "code",
   "execution_count": 150,
   "metadata": {
    "id": "W8pQPB37wv8S",
    "lines_to_next_cell": 2,
    "outputId": "19b04e3b-2c36-416b-ec79-88773bcc52c4"
   },
   "outputs": [
    {
     "data": {
      "text/plain": [
       "14"
      ]
     },
     "execution_count": 150,
     "metadata": {},
     "output_type": "execute_result"
    }
   ],
   "source": [
    "hash('name') % 30"
   ]
  },
  {
   "cell_type": "code",
   "execution_count": 140,
   "metadata": {
    "id": "gW8YlY1kwv8S",
    "lines_to_next_cell": 2,
    "outputId": "3db5041e-6684-4d66-98ab-338d2aa704f3"
   },
   "outputs": [
    {
     "ename": "TypeError",
     "evalue": "unhashable type: 'list'",
     "output_type": "error",
     "traceback": [
      "\u001b[0;31m---------------------------------------------------------------------------\u001b[0m",
      "\u001b[0;31mTypeError\u001b[0m                                 Traceback (most recent call last)",
      "\u001b[1;32m/home/yibotian/DSP_AI/python/python-for-beginners.ipynb Cell 255\u001b[0m line \u001b[0;36m1\n\u001b[0;32m----> <a href='vscode-notebook-cell:/home/yibotian/DSP_AI/python/python-for-beginners.ipynb#Y510sZmlsZQ%3D%3D?line=0'>1</a>\u001b[0m \u001b[39mhash\u001b[39;49m([])\n",
      "\u001b[0;31mTypeError\u001b[0m: unhashable type: 'list'"
     ]
    }
   ],
   "source": [
    "hash([])\n",
    "#inconstant or \"mutable\" object does't have hash value or not \"hashable\""
   ]
  },
  {
   "cell_type": "markdown",
   "metadata": {},
   "source": [
    "\"Dictionary\" format:{key0:value0,key1:value1}\n",
    "\n",
    "key like index\n"
   ]
  },
  {
   "cell_type": "code",
   "execution_count": 142,
   "metadata": {
    "id": "B8C1AGmewv8S",
    "lines_to_next_cell": 2
   },
   "outputs": [
    {
     "data": {
      "text/plain": [
       "{'name': str, 'age': int, 'address': str}"
      ]
     },
     "execution_count": 142,
     "metadata": {},
     "output_type": "execute_result"
    }
   ],
   "source": [
    "# Literals and constructors\n",
    "types = {'name': str, 'age': int, 'address': str}\n",
    "types2 = dict(name=str, age=int, address=str)\n",
    "types2"
   ]
  },
  {
   "cell_type": "code",
   "execution_count": 144,
   "metadata": {
    "id": "s4bS-OdJwv8S",
    "lines_to_next_cell": 2,
    "outputId": "d452c39b-2c3f-4e84-a8dd-fd3a27c1ceb0"
   },
   "outputs": [
    {
     "data": {
      "text/plain": [
       "str"
      ]
     },
     "execution_count": 144,
     "metadata": {},
     "output_type": "execute_result"
    }
   ],
   "source": [
    "# The \"key\" (``'name'``) must be hashable:\n",
    "types['name']"
   ]
  },
  {
   "cell_type": "code",
   "execution_count": 143,
   "metadata": {
    "id": "xRy0fUXkwv8S",
    "lines_to_next_cell": 2,
    "outputId": "4f0d20c4-ff0e-4796-8586-b7b5e1ca76bf"
   },
   "outputs": [
    {
     "data": {
      "text/plain": [
       "{'name': str, 'age': int, 'address': str, 'language': str}"
      ]
     },
     "execution_count": 143,
     "metadata": {},
     "output_type": "execute_result"
    }
   ],
   "source": [
    "# \"Index assignment\". Note that this mutates\n",
    "types['language'] = str\n",
    "types"
   ]
  },
  {
   "cell_type": "code",
   "execution_count": 146,
   "metadata": {
    "id": "ZnbN2-rywv8S",
    "lines_to_next_cell": 2,
    "outputId": "1735b206-7bf3-44f1-8823-5165b9900390"
   },
   "outputs": [
    {
     "ename": "KeyError",
     "evalue": "'food'",
     "output_type": "error",
     "traceback": [
      "\u001b[0;31m---------------------------------------------------------------------------\u001b[0m",
      "\u001b[0;31mKeyError\u001b[0m                                  Traceback (most recent call last)",
      "\u001b[1;32m/home/yibotian/DSP_AI/python/python-for-beginners.ipynb Cell 260\u001b[0m line \u001b[0;36m1\n\u001b[0;32m----> <a href='vscode-notebook-cell:/home/yibotian/DSP_AI/python/python-for-beginners.ipynb#Y514sZmlsZQ%3D%3D?line=0'>1</a>\u001b[0m types[\u001b[39m'\u001b[39;49m\u001b[39mfood\u001b[39;49m\u001b[39m'\u001b[39;49m]\n",
      "\u001b[0;31mKeyError\u001b[0m: 'food'"
     ]
    }
   ],
   "source": [
    "types['food']"
   ]
  },
  {
   "cell_type": "code",
   "execution_count": 153,
   "metadata": {
    "id": "lHJOlfFfwv8S",
    "lines_to_next_cell": 2,
    "outputId": "56a9f601-829f-41ee-baff-66806ec1cbbb"
   },
   "outputs": [
    {
     "data": {
      "text/plain": [
       "'unknown'"
      ]
     },
     "execution_count": 153,
     "metadata": {},
     "output_type": "execute_result"
    }
   ],
   "source": [
    "types.get('food','unknown')"
   ]
  },
  {
   "cell_type": "code",
   "execution_count": 147,
   "metadata": {
    "id": "Vluw0OAwwv8S",
    "lines_to_next_cell": 2,
    "outputId": "0deea85d-d45c-4843-b5c2-7dcada69e962"
   },
   "outputs": [
    {
     "data": {
      "text/plain": [
       "False"
      ]
     },
     "execution_count": 147,
     "metadata": {},
     "output_type": "execute_result"
    }
   ],
   "source": [
    "'food' in types"
   ]
  },
  {
   "cell_type": "code",
   "execution_count": 154,
   "metadata": {
    "id": "e47rkpAawv8S",
    "outputId": "53c31c05-8117-475d-88a0-bb4fd8c4c3cb"
   },
   "outputs": [
    {
     "data": {
      "text/plain": [
       "['__class__',\n",
       " '__class_getitem__',\n",
       " '__contains__',\n",
       " '__delattr__',\n",
       " '__delitem__',\n",
       " '__dir__',\n",
       " '__doc__',\n",
       " '__eq__',\n",
       " '__format__',\n",
       " '__ge__',\n",
       " '__getattribute__',\n",
       " '__getitem__',\n",
       " '__gt__',\n",
       " '__hash__',\n",
       " '__init__',\n",
       " '__init_subclass__',\n",
       " '__ior__',\n",
       " '__iter__',\n",
       " '__le__',\n",
       " '__len__',\n",
       " '__lt__',\n",
       " '__ne__',\n",
       " '__new__',\n",
       " '__or__',\n",
       " '__reduce__',\n",
       " '__reduce_ex__',\n",
       " '__repr__',\n",
       " '__reversed__',\n",
       " '__ror__',\n",
       " '__setattr__',\n",
       " '__setitem__',\n",
       " '__sizeof__',\n",
       " '__str__',\n",
       " '__subclasshook__',\n",
       " 'clear',\n",
       " 'copy',\n",
       " 'fromkeys',\n",
       " 'get',\n",
       " 'items',\n",
       " 'keys',\n",
       " 'pop',\n",
       " 'popitem',\n",
       " 'setdefault',\n",
       " 'update',\n",
       " 'values']"
      ]
     },
     "execution_count": 154,
     "metadata": {},
     "output_type": "execute_result"
    }
   ],
   "source": [
    "dir(types)"
   ]
  },
  {
   "cell_type": "markdown",
   "metadata": {},
   "source": [
    "looks like `dictionary` uses hash code to look up things in this data structure and compare to `list` which would go though all items this would be much faster(but why?)\n",
    "\n",
    "dictionary's value can only access by key and its order of key-value pairs is not preserved\n"
   ]
  },
  {
   "cell_type": "markdown",
   "metadata": {
    "id": "uRxbbqBmwv8S",
    "lines_to_next_cell": 2
   },
   "source": [
    "### Python 3.6+ Note\n",
    "\n",
    "Remember key insertion order.\n"
   ]
  },
  {
   "cell_type": "code",
   "execution_count": null,
   "metadata": {
    "id": "k2V8xh_uwv8S"
   },
   "outputs": [],
   "source": []
  },
  {
   "cell_type": "code",
   "execution_count": null,
   "metadata": {
    "id": "oNu1FS_Awv8S"
   },
   "outputs": [],
   "source": []
  },
  {
   "cell_type": "code",
   "execution_count": null,
   "metadata": {
    "id": "1a6eqj61wv8T"
   },
   "outputs": [],
   "source": []
  },
  {
   "cell_type": "code",
   "execution_count": null,
   "metadata": {
    "id": "T7BohgmZwv8T"
   },
   "outputs": [],
   "source": []
  },
  {
   "cell_type": "code",
   "execution_count": null,
   "metadata": {
    "id": "4HkeNMHpwv8T"
   },
   "outputs": [],
   "source": []
  },
  {
   "cell_type": "code",
   "execution_count": null,
   "metadata": {
    "id": "9PCCWlqRwv8T"
   },
   "outputs": [],
   "source": []
  },
  {
   "cell_type": "markdown",
   "metadata": {
    "id": "yrh_Ymc6wv8T",
    "lines_to_next_cell": 2
   },
   "source": [
    "## Comprehensions\n",
    "\n",
    "==the action or capability of understanding something.\n",
    "\n",
    "Common pattern, looping, mapping (optional), filtering (optional), and accumulating.\n"
   ]
  },
  {
   "cell_type": "code",
   "execution_count": 97,
   "metadata": {
    "id": "Vnohd8mzwv8T",
    "lines_to_next_cell": 2,
    "outputId": "89ac6a44-5bef-4fa3-bdfc-f47d73abcf71"
   },
   "outputs": [
    {
     "data": {
      "text/plain": [
       "['John', 'Paul']"
      ]
     },
     "execution_count": 97,
     "metadata": {},
     "output_type": "execute_result"
    }
   ],
   "source": [
    "# pattern for list comprehension\n",
    "names2 = []\n",
    "for name in names:\n",
    "    if len(name) == 4:  # filter\n",
    "        names2.append(name.title())  # title is mapping\n",
    "names2"
   ]
  },
  {
   "cell_type": "markdown",
   "metadata": {},
   "source": [
    "`new_objects`=[comprehension]=[#mapping(`object`.method) #for_structure(for `object` in `objects`) #flitter(if #condition_of_the_`object`) ]\n",
    "\n",
    "so there is three part of a comprehension definition:\n",
    "\n",
    "- #mapping(a member in `new_objects`)\n",
    "- #for_structure\n",
    "- #flitter(optional)\n",
    "\n",
    "and they are splitted by just space\n",
    "\n",
    "effect: some of `objects` flitted by flitter, proceeded by method, append to `new_objects`\n"
   ]
  },
  {
   "cell_type": "code",
   "execution_count": 102,
   "metadata": {
    "id": "k9Ies-e7wv8T"
   },
   "outputs": [
    {
     "data": {
      "text/plain": [
       "['JOHN', 'PAUL']"
      ]
     },
     "execution_count": 102,
     "metadata": {},
     "output_type": "execute_result"
    }
   ],
   "source": [
    "names2 = [name.upper() for name in names if len(name) == 4]\n",
    "names2"
   ]
  },
  {
   "cell_type": "code",
   "execution_count": 101,
   "metadata": {
    "id": "FmjocS5fwv8T",
    "lines_to_next_cell": 2,
    "outputId": "c21834ba-9378-40b1-c2d6-00e3d5c9c9aa"
   },
   "outputs": [
    {
     "data": {
      "text/plain": [
       "['John', 'Paul']"
      ]
     },
     "execution_count": 101,
     "metadata": {},
     "output_type": "execute_result"
    }
   ],
   "source": [
    "names2 = [name.title() for name in names if len(name) == 4]\n",
    "names2"
   ]
  },
  {
   "cell_type": "code",
   "execution_count": 103,
   "metadata": {
    "id": "k2uEQZyrwv8T",
    "lines_to_next_cell": 2
   },
   "outputs": [],
   "source": [
    "# Dict Comprehensions\n",
    "types = {'name': str, 'age': int, 'address': str}"
   ]
  },
  {
   "cell_type": "code",
   "execution_count": 111,
   "metadata": {
    "id": "dUOiGxtkwv8T",
    "lines_to_next_cell": 2,
    "outputId": "21e971bb-f74b-4c4f-e568-fb194885b199"
   },
   "outputs": [
    {
     "data": {
      "text/plain": [
       "{'name': 'Name', 'age': 'Age', 'address': 'Address'}"
      ]
     },
     "execution_count": 111,
     "metadata": {},
     "output_type": "execute_result"
    }
   ],
   "source": [
    "new_names = {}\n",
    "for xxx in types:\n",
    "    new_names[xxx] = xxx.title()\n",
    "new_names"
   ]
  },
  {
   "cell_type": "markdown",
   "metadata": {},
   "source": [
    "because `xxx` is in the index square brace, the compiler knows it refers to the key of dictionary, and the key's type is str so it could be processed by str method and return a str as the value\n"
   ]
  },
  {
   "cell_type": "code",
   "execution_count": 110,
   "metadata": {
    "id": "6JG9o59Kwv8T"
   },
   "outputs": [
    {
     "data": {
      "text/plain": [
       "{'name': 'Name', 'age': 'Age', 'address': 'Address'}"
      ]
     },
     "execution_count": 110,
     "metadata": {},
     "output_type": "execute_result"
    }
   ],
   "source": [
    "new_names = {t:t.title() for t in types}\n",
    "new_names"
   ]
  },
  {
   "cell_type": "markdown",
   "metadata": {},
   "source": [
    "note in the above example, object is give by `t:t.title()` where t is the key of dictionary `type` (because its first used in the index place), clearly `t.title()` is seen as a str and through `:` it's combined with str `t` as a new dictionary's object\n"
   ]
  },
  {
   "cell_type": "code",
   "execution_count": 106,
   "metadata": {
    "id": "geIcnJ0nwv8T",
    "lines_to_next_cell": 2
   },
   "outputs": [],
   "source": [
    "new_names = {t:t.title() for t in types}"
   ]
  },
  {
   "cell_type": "code",
   "execution_count": 115,
   "metadata": {
    "id": "70NIF3YOwv8T",
    "lines_to_next_cell": 2
   },
   "outputs": [
    {
     "data": {
      "text/plain": [
       "{'john', 'paul'}"
      ]
     },
     "execution_count": 115,
     "metadata": {},
     "output_type": "execute_result"
    }
   ],
   "source": [
    "# Set Comprehensions\n",
    "uniq_names = {name for name in names if len(name) == 4}\n",
    "uniq_names"
   ]
  },
  {
   "cell_type": "code",
   "execution_count": 119,
   "metadata": {
    "id": "_sG8ivd6wv8T"
   },
   "outputs": [],
   "source": [
    "# Generator Expression\n",
    "lazy_names = (name for name in names if len(name) == 4)"
   ]
  },
  {
   "cell_type": "markdown",
   "metadata": {},
   "source": [
    "note the difference that \"Generator Expression\" is surrounded by \"()\" means that it generate a list(surrounded by \"[]\") and dictionary_object is surrounded by \"{}\"\n",
    "\n",
    "and because of that, this expression create objects as list than dictionary(surrounded by {})\n",
    "\n",
    "so you can't see list's value just tape it and run, instead you should use list() or something similarly\n",
    "\n",
    "generator object==iteration? NO\n",
    "\n",
    "generator object==list? YES\n",
    "\n",
    "comprehension is a way to generate a list or dictionary from list or dictionary\n",
    "\n",
    "**wait a minute.what's the difference between list, dictionary and iteration in python? i'm mixed by these similar data structure.**\n"
   ]
  },
  {
   "cell_type": "code",
   "execution_count": 120,
   "metadata": {
    "id": "05OcwL5jwv8U",
    "outputId": "4085a89d-1d38-4414-fcb4-a80badd2ef7a"
   },
   "outputs": [
    {
     "data": {
      "text/plain": [
       "['john', 'paul']"
      ]
     },
     "execution_count": 120,
     "metadata": {},
     "output_type": "execute_result"
    }
   ],
   "source": [
    "list(lazy_names)"
   ]
  },
  {
   "cell_type": "code",
   "execution_count": 121,
   "metadata": {
    "id": "sCj-TXn4wv8U"
   },
   "outputs": [
    {
     "data": {
      "text/plain": [
       "<generator object <genexpr> at 0x7f3140d2b760>"
      ]
     },
     "execution_count": 121,
     "metadata": {},
     "output_type": "execute_result"
    }
   ],
   "source": [
    "lazy_names"
   ]
  },
  {
   "cell_type": "code",
   "execution_count": null,
   "metadata": {
    "id": "K-srhkeEwv8U",
    "lines_to_next_cell": 2
   },
   "outputs": [],
   "source": []
  },
  {
   "cell_type": "code",
   "execution_count": null,
   "metadata": {
    "id": "419kWuAZwv8U"
   },
   "outputs": [],
   "source": []
  },
  {
   "cell_type": "code",
   "execution_count": null,
   "metadata": {
    "id": "UkGJ44eQwv8U"
   },
   "outputs": [],
   "source": []
  },
  {
   "cell_type": "code",
   "execution_count": null,
   "metadata": {
    "id": "VommeAJ3wv8U"
   },
   "outputs": [],
   "source": []
  },
  {
   "cell_type": "markdown",
   "metadata": {
    "id": "1jvhD0-ywv8U",
    "lines_to_next_cell": 2
   },
   "source": [
    "## Functions and Lambdas\n"
   ]
  },
  {
   "cell_type": "code",
   "execution_count": 155,
   "metadata": {
    "id": "LE5sasRdwv8U"
   },
   "outputs": [],
   "source": [
    "def add(x, y):\n",
    "    \"\"\"This adds two values\n",
    "    >>> add(2, 4)\n",
    "    6\n",
    "    \"\"\"\n",
    "    return x + y"
   ]
  },
  {
   "cell_type": "code",
   "execution_count": 156,
   "metadata": {
    "id": "ceAhoeLFwv8U",
    "lines_to_next_cell": 2,
    "outputId": "91b7f9bf-e684-42a9-c74a-19579ddff2ed"
   },
   "outputs": [
    {
     "data": {
      "text/plain": [
       "6"
      ]
     },
     "execution_count": 156,
     "metadata": {},
     "output_type": "execute_result"
    }
   ],
   "source": [
    "add(2, 4)"
   ]
  },
  {
   "cell_type": "code",
   "execution_count": 157,
   "metadata": {
    "id": "Pi6F9XsSwv8U",
    "lines_to_next_cell": 2,
    "outputId": "6e36b823-9b3d-4ebb-ac1b-1a2a2a815d2b"
   },
   "outputs": [
    {
     "data": {
      "text/plain": [
       "<function __main__.add(x, y)>"
      ]
     },
     "execution_count": 157,
     "metadata": {},
     "output_type": "execute_result"
    }
   ],
   "source": [
    "add"
   ]
  },
  {
   "cell_type": "code",
   "execution_count": 158,
   "metadata": {
    "comment_questions": false,
    "id": "aHI0FGNdwv8U",
    "lines_to_next_cell": 2
   },
   "outputs": [
    {
     "name": "stdout",
     "output_type": "stream",
     "text": [
      "\u001b[0;31mSignature:\u001b[0m \u001b[0madd\u001b[0m\u001b[0;34m(\u001b[0m\u001b[0mx\u001b[0m\u001b[0;34m,\u001b[0m \u001b[0my\u001b[0m\u001b[0;34m)\u001b[0m\u001b[0;34m\u001b[0m\u001b[0;34m\u001b[0m\u001b[0m\n",
      "\u001b[0;31mDocstring:\u001b[0m\n",
      "This adds two values\n",
      ">>> add(2, 4)\n",
      "6\n",
      "\u001b[0;31mFile:\u001b[0m      /tmp/ipykernel_75711/2341711716.py\n",
      "\u001b[0;31mType:\u001b[0m      function"
     ]
    }
   ],
   "source": [
    "add?"
   ]
  },
  {
   "cell_type": "code",
   "execution_count": 159,
   "metadata": {
    "comment_questions": false,
    "id": "8chtFjURwv8U"
   },
   "outputs": [
    {
     "name": "stdout",
     "output_type": "stream",
     "text": [
      "\u001b[0;31mSignature:\u001b[0m \u001b[0madd\u001b[0m\u001b[0;34m(\u001b[0m\u001b[0mx\u001b[0m\u001b[0;34m,\u001b[0m \u001b[0my\u001b[0m\u001b[0;34m)\u001b[0m\u001b[0;34m\u001b[0m\u001b[0;34m\u001b[0m\u001b[0m\n",
      "\u001b[0;31mSource:\u001b[0m   \n",
      "\u001b[0;32mdef\u001b[0m \u001b[0madd\u001b[0m\u001b[0;34m(\u001b[0m\u001b[0mx\u001b[0m\u001b[0;34m,\u001b[0m \u001b[0my\u001b[0m\u001b[0;34m)\u001b[0m\u001b[0;34m:\u001b[0m\u001b[0;34m\u001b[0m\n",
      "\u001b[0;34m\u001b[0m    \u001b[0;34m\"\"\"This adds two values\u001b[0m\n",
      "\u001b[0;34m    >>> add(2, 4)\u001b[0m\n",
      "\u001b[0;34m    6\u001b[0m\n",
      "\u001b[0;34m    \"\"\"\u001b[0m\u001b[0;34m\u001b[0m\n",
      "\u001b[0;34m\u001b[0m    \u001b[0;32mreturn\u001b[0m \u001b[0mx\u001b[0m \u001b[0;34m+\u001b[0m \u001b[0my\u001b[0m\u001b[0;34m\u001b[0m\u001b[0;34m\u001b[0m\u001b[0m\n",
      "\u001b[0;31mFile:\u001b[0m      /tmp/ipykernel_75711/2341711716.py\n",
      "\u001b[0;31mType:\u001b[0m      function"
     ]
    }
   ],
   "source": [
    "add??"
   ]
  },
  {
   "cell_type": "code",
   "execution_count": 160,
   "metadata": {
    "id": "KdYIaaxGwv8U",
    "outputId": "4cf98db7-b880-4745-acc2-c5ca097fd9db"
   },
   "outputs": [
    {
     "name": "stdout",
     "output_type": "stream",
     "text": [
      "Help on function add in module __main__:\n",
      "\n",
      "add(x, y)\n",
      "    This adds two values\n",
      "    >>> add(2, 4)\n",
      "    6\n",
      "\n"
     ]
    }
   ],
   "source": [
    "help(add)"
   ]
  },
  {
   "cell_type": "code",
   "execution_count": 161,
   "metadata": {
    "id": "ZKxiLv3pwv8U"
   },
   "outputs": [],
   "source": [
    "def median(values):\n",
    "    '''\n",
    "    Return the middle value (if odd) \n",
    "    or the average of the two middle values (if even)\n",
    "    >>> median([1, 4, 5])\n",
    "    4\n",
    "    >>> median([0, 2, 6, 100])\n",
    "    4.0\n",
    "    '''\n",
    "    values = sorted(values)\n",
    "    size = len(values)\n",
    "    if size % 2 == 0:\n",
    "        left = values[int(size/2 -1)]\n",
    "        right = values[int(size/2)]\n",
    "        return (left + right)/2\n",
    "    else:\n",
    "        return values[int(size/2)]"
   ]
  },
  {
   "cell_type": "code",
   "execution_count": 162,
   "metadata": {
    "id": "pJaJLuQywv8U",
    "lines_to_next_cell": 2,
    "outputId": "eacf835c-8626-453e-b126-9211b58455ab"
   },
   "outputs": [
    {
     "data": {
      "text/plain": [
       "<function __main__.median(values)>"
      ]
     },
     "execution_count": 162,
     "metadata": {},
     "output_type": "execute_result"
    }
   ],
   "source": [
    "median"
   ]
  },
  {
   "cell_type": "code",
   "execution_count": 163,
   "metadata": {
    "id": "o6ZqFXRjwv8U",
    "lines_to_next_cell": 2,
    "outputId": "0cd18dc1-da76-4510-f849-3140d307e536"
   },
   "outputs": [
    {
     "data": {
      "text/plain": [
       "49.5"
      ]
     },
     "execution_count": 163,
     "metadata": {},
     "output_type": "execute_result"
    }
   ],
   "source": [
    "median(range(100))"
   ]
  },
  {
   "cell_type": "code",
   "execution_count": 164,
   "metadata": {
    "id": "Sld06FROwv8U",
    "lines_to_next_cell": 2,
    "outputId": "c0232a82-947b-437a-975d-e4639c0e884f"
   },
   "outputs": [
    {
     "data": {
      "text/plain": [
       "100"
      ]
     },
     "execution_count": 164,
     "metadata": {},
     "output_type": "execute_result"
    }
   ],
   "source": [
    "median([100,1, 200])"
   ]
  },
  {
   "cell_type": "code",
   "execution_count": 165,
   "metadata": {
    "id": "NkCbh3mpwv8U",
    "lines_to_next_cell": 2
   },
   "outputs": [],
   "source": [
    "# Tuple aside - Record-type data\n",
    "person = ('Paul', 'McCartney', 'Bass')"
   ]
  },
  {
   "cell_type": "code",
   "execution_count": 166,
   "metadata": {
    "id": "x1_xsMNMwv8U",
    "lines_to_next_cell": 1,
    "outputId": "1a49b6fb-8fbc-49d0-f6cf-760339021793"
   },
   "outputs": [
    {
     "data": {
      "text/plain": [
       "tuple"
      ]
     },
     "execution_count": 166,
     "metadata": {},
     "output_type": "execute_result"
    }
   ],
   "source": [
    "type(person)"
   ]
  },
  {
   "cell_type": "code",
   "execution_count": 167,
   "metadata": {
    "id": "bxtAa2btwv8U"
   },
   "outputs": [],
   "source": [
    "# Tuple - Return multiple items from a function\n",
    "def roots(val):\n",
    "    return (val**.5, -(val**.5))"
   ]
  },
  {
   "cell_type": "code",
   "execution_count": 168,
   "metadata": {
    "id": "wZ_zL5-Ywv8U",
    "lines_to_next_cell": 1,
    "outputId": "b8ec7535-335b-4e3b-a2cd-effd8b351e8b"
   },
   "outputs": [
    {
     "data": {
      "text/plain": [
       "(2.0, -2.0)"
      ]
     },
     "execution_count": 168,
     "metadata": {},
     "output_type": "execute_result"
    }
   ],
   "source": [
    "roots(4)"
   ]
  },
  {
   "cell_type": "code",
   "execution_count": 169,
   "metadata": {
    "id": "YMQutpkNwv8U"
   },
   "outputs": [],
   "source": [
    "# Lambda - One-line anonymous function\n",
    "def adder(x, y):\n",
    "    \"\"\"This adds two values\n",
    "    >>> add(2, 4)\n",
    "    6\n",
    "    \"\"\"\n",
    "    return x + y"
   ]
  },
  {
   "cell_type": "code",
   "execution_count": 170,
   "metadata": {
    "id": "xJrrL3r1wv8U",
    "outputId": "c23f343a-061f-4fbd-962b-ad2ac2b2189b"
   },
   "outputs": [
    {
     "data": {
      "text/plain": [
       "True"
      ]
     },
     "execution_count": 170,
     "metadata": {},
     "output_type": "execute_result"
    }
   ],
   "source": [
    "adder2 = lambda x, y: x + y\n",
    "adder(42, 10) == adder2(42, 10)"
   ]
  },
  {
   "cell_type": "code",
   "execution_count": 171,
   "metadata": {
    "id": "m8xK1FqNwv8U"
   },
   "outputs": [],
   "source": [
    "def roots(val):\n",
    "    return (val**.5, -(val**.5))"
   ]
  },
  {
   "cell_type": "code",
   "execution_count": 172,
   "metadata": {
    "id": "lqKWKvinwv8U",
    "lines_to_next_cell": 2
   },
   "outputs": [],
   "source": [
    "roots2 = lambda val: (val**.5, -(val**.5))"
   ]
  },
  {
   "cell_type": "code",
   "execution_count": 173,
   "metadata": {
    "id": "_R7GWrdTwv8U",
    "lines_to_next_cell": 2,
    "outputId": "2b9368d8-bac5-43fe-fe63-236d2bd59a94"
   },
   "outputs": [
    {
     "data": {
      "text/plain": [
       "(8.0, -8.0)"
      ]
     },
     "execution_count": 173,
     "metadata": {},
     "output_type": "execute_result"
    }
   ],
   "source": [
    "roots2(64)"
   ]
  },
  {
   "cell_type": "code",
   "execution_count": 174,
   "metadata": {
    "id": "CK1AQM4Ewv8V",
    "lines_to_next_cell": 2
   },
   "outputs": [],
   "source": [
    "# Lambdas in sorting\n",
    "names = ['john', 'paul', 'george', 'ringo']"
   ]
  },
  {
   "cell_type": "code",
   "execution_count": 175,
   "metadata": {
    "id": "qNGT7ODcwv8V",
    "lines_to_next_cell": 2,
    "outputId": "6f38aba3-e26f-48a6-9491-dcd3cc549038"
   },
   "outputs": [
    {
     "data": {
      "text/plain": [
       "['george', 'john', 'paul', 'ringo']"
      ]
     },
     "execution_count": 175,
     "metadata": {},
     "output_type": "execute_result"
    }
   ],
   "source": [
    "sorted(names)"
   ]
  },
  {
   "cell_type": "code",
   "execution_count": 176,
   "metadata": {
    "id": "htImRI2Xwv8V",
    "lines_to_next_cell": 2,
    "outputId": "bbfb4039-2260-4251-eee3-5cf96273de88"
   },
   "outputs": [
    {
     "data": {
      "text/plain": [
       "['john', 'paul', 'ringo', 'george']"
      ]
     },
     "execution_count": 176,
     "metadata": {},
     "output_type": "execute_result"
    }
   ],
   "source": [
    "sorted(names, key=lambda name: len(name))"
   ]
  },
  {
   "cell_type": "markdown",
   "metadata": {
    "id": "tqYp37Qkwv8V",
    "lines_to_next_cell": 2
   },
   "source": [
    "### Lambda Uses\n",
    "\n",
    "- Useful for \"key\" functions when sorting\n",
    "- Pandas creating columns with `.assign`\n"
   ]
  },
  {
   "cell_type": "code",
   "execution_count": null,
   "metadata": {
    "id": "kvqj7SCNwv8V"
   },
   "outputs": [],
   "source": []
  },
  {
   "cell_type": "code",
   "execution_count": null,
   "metadata": {
    "id": "bOz0zlA4wv8V"
   },
   "outputs": [],
   "source": []
  },
  {
   "cell_type": "code",
   "execution_count": null,
   "metadata": {
    "id": "LTiHzlm6wv8V"
   },
   "outputs": [],
   "source": []
  },
  {
   "cell_type": "code",
   "execution_count": null,
   "metadata": {
    "id": "ft2tHTchwv8V"
   },
   "outputs": [],
   "source": []
  },
  {
   "cell_type": "code",
   "execution_count": null,
   "metadata": {
    "id": "ULUIJbRTwv8V"
   },
   "outputs": [],
   "source": []
  },
  {
   "cell_type": "code",
   "execution_count": null,
   "metadata": {
    "id": "CTVw6Bf8wv8V"
   },
   "outputs": [],
   "source": []
  },
  {
   "cell_type": "markdown",
   "metadata": {
    "id": "QxZKWgFPwv8V"
   },
   "source": [
    "# Modules & Packages\n",
    "\n",
    "- Module - Python file\n",
    "- Package - Directory with `__init__.py` file (and other packages or modules)\n"
   ]
  },
  {
   "cell_type": "code",
   "execution_count": null,
   "metadata": {
    "id": "fJt3ZzCSwv8V",
    "lines_to_next_cell": 2
   },
   "outputs": [],
   "source": [
    "import math\n",
    "import pandas as pd"
   ]
  },
  {
   "cell_type": "code",
   "execution_count": null,
   "metadata": {
    "id": "_ygYHv3awv8V",
    "lines_to_next_cell": 2,
    "outputId": "380840d7-7965-476b-cf89-7bd698ab5e64"
   },
   "outputs": [],
   "source": [
    "math"
   ]
  },
  {
   "cell_type": "code",
   "execution_count": null,
   "metadata": {
    "id": "4bK5NlmEwv8V",
    "lines_to_next_cell": 2,
    "outputId": "dce66530-18f2-4daf-c04e-ce7d959ec992"
   },
   "outputs": [],
   "source": [
    "pd"
   ]
  },
  {
   "cell_type": "code",
   "execution_count": null,
   "metadata": {
    "id": "x3l-EKCLwv8V",
    "lines_to_next_cell": 2,
    "outputId": "902d2840-67c3-4f68-fe84-1e30da0456bc",
    "scrolled": true
   },
   "outputs": [],
   "source": [
    "dir(math)"
   ]
  },
  {
   "cell_type": "code",
   "execution_count": null,
   "metadata": {
    "id": "U_BY1FcMwv8V",
    "lines_to_next_cell": 2,
    "outputId": "6839b208-fe53-45be-e253-8efb9ce4ce80"
   },
   "outputs": [],
   "source": [
    "math.sin(0)"
   ]
  },
  {
   "cell_type": "code",
   "execution_count": null,
   "metadata": {
    "id": "CONINaUqwv8V",
    "lines_to_next_cell": 2
   },
   "outputs": [],
   "source": [
    "df = pd.read_csv('names.csv')"
   ]
  },
  {
   "cell_type": "code",
   "execution_count": null,
   "metadata": {
    "id": "EyeZbhTpwv8V",
    "lines_to_next_cell": 2,
    "outputId": "909705f3-0745-47cc-db36-6f489224330a"
   },
   "outputs": [],
   "source": [
    "%%writefile sample.py\n",
    "def median(values):\n",
    "    '''\n",
    "    Return the middle value (if odd) \n",
    "    or the average of the two middle values (if even)\n",
    "    >>> median([1, 4, 5])\n",
    "    4\n",
    "    >>> median([0, 2, 6, 100])\n",
    "    4.0\n",
    "    '''\n",
    "    values = sorted(values)\n",
    "    size = len(values)\n",
    "    if size % 2 == 0:\n",
    "        left = values[int(size/2 -1)]\n",
    "        right = values[int(size/2)]\n",
    "        return (left + right)/2\n",
    "    else:\n",
    "        return values[int(size/2)]\n",
    "roots2 = lambda val: (val**.5, -(val**.5))"
   ]
  },
  {
   "cell_type": "code",
   "execution_count": null,
   "metadata": {
    "id": "BbGbCCbPwv8V",
    "lines_to_next_cell": 2,
    "outputId": "d40a8aa9-3bde-43aa-bf90-9579e14b85f5"
   },
   "outputs": [],
   "source": [
    "import sample\n",
    "sample"
   ]
  },
  {
   "cell_type": "code",
   "execution_count": null,
   "metadata": {
    "id": "YhKwYVJIwv8W",
    "lines_to_next_cell": 2,
    "outputId": "4965a2dd-785c-4c16-f566-988421c63517"
   },
   "outputs": [],
   "source": [
    "dir(sample)"
   ]
  },
  {
   "cell_type": "code",
   "execution_count": null,
   "metadata": {
    "id": "Enm637K3wv8W",
    "lines_to_next_cell": 2,
    "outputId": "6202fc1f-a1c4-44b8-e31d-463c7cd0e8ee"
   },
   "outputs": [],
   "source": [
    "sample.median"
   ]
  },
  {
   "cell_type": "code",
   "execution_count": null,
   "metadata": {
    "id": "VYoznpqZwv8W",
    "outputId": "77376708-55ac-462b-dd31-a9e32b65ebed"
   },
   "outputs": [],
   "source": [
    "sample.median(range(20))"
   ]
  },
  {
   "cell_type": "code",
   "execution_count": null,
   "metadata": {
    "id": "9I06dAGowv8W"
   },
   "outputs": [],
   "source": []
  },
  {
   "cell_type": "code",
   "execution_count": null,
   "metadata": {
    "id": "E7m1qbVVwv8W"
   },
   "outputs": [],
   "source": []
  },
  {
   "cell_type": "code",
   "execution_count": null,
   "metadata": {
    "id": "pYQ0-bOuwv8W"
   },
   "outputs": [],
   "source": []
  },
  {
   "cell_type": "code",
   "execution_count": null,
   "metadata": {
    "id": "_AVFM5FMwv8W"
   },
   "outputs": [],
   "source": []
  },
  {
   "cell_type": "code",
   "execution_count": null,
   "metadata": {
    "id": "EefU5jD8wv8W"
   },
   "outputs": [],
   "source": []
  },
  {
   "cell_type": "markdown",
   "metadata": {
    "id": "mtxI36h3wv8W"
   },
   "source": [
    "# Classes\n",
    "\n",
    "Everything is an object. You can define your own class to group common actions with data.\n"
   ]
  },
  {
   "cell_type": "code",
   "execution_count": null,
   "metadata": {
    "id": "cikyTtL8wv8W",
    "lines_to_next_cell": 2
   },
   "outputs": [],
   "source": [
    "class MyInt:\n",
    "    '''Docstring for MyInt'''\n",
    "    def __init__(self, val):\n",
    "        self.value = val\n",
    "\n",
    "\n",
    "    def __add__(self, other):\n",
    "        return MyInt(self.value + other)\n",
    "\n",
    "\n",
    "    def __repr__(self):\n",
    "        return f'MyInt({self.value})'\n",
    "\n",
    "\n",
    "    def __str__(self):\n",
    "        return f'{self.value}'\n",
    "\n",
    "\n",
    "    def square(self):\n",
    "        \"Return the square of the value\"\n",
    "        return MyInt(self.value**2)"
   ]
  },
  {
   "cell_type": "code",
   "execution_count": null,
   "metadata": {
    "id": "scc7ocz6wv8W",
    "lines_to_next_cell": 2,
    "outputId": "1aee778a-3577-4951-bf5e-7f61439a6c2b"
   },
   "outputs": [],
   "source": [
    "MyInt"
   ]
  },
  {
   "cell_type": "code",
   "execution_count": null,
   "metadata": {
    "id": "4gvEQjp2wv8W",
    "lines_to_next_cell": 2,
    "outputId": "9b0f9b8c-d414-4e35-c336-7976f73a63fa"
   },
   "outputs": [],
   "source": [
    "num = MyInt(42)\n",
    "num + 5  # calls .__add__ the .__repr__ methods"
   ]
  },
  {
   "cell_type": "code",
   "execution_count": null,
   "metadata": {
    "id": "WYrdcPlMwv8W",
    "lines_to_next_cell": 2,
    "outputId": "48e0bea2-d354-4566-c90f-46d9065e88f5"
   },
   "outputs": [],
   "source": [
    "num.__add__(5)"
   ]
  },
  {
   "cell_type": "code",
   "execution_count": null,
   "metadata": {
    "id": "Bh36ntvZwv8W",
    "lines_to_next_cell": 2,
    "outputId": "fc81deec-fdd1-4bcb-b09d-159ffcfd7412"
   },
   "outputs": [],
   "source": [
    "num - 5"
   ]
  },
  {
   "cell_type": "code",
   "execution_count": null,
   "metadata": {
    "id": "NDR3ny1dwv8W",
    "lines_to_next_cell": 2,
    "outputId": "253d2254-7290-4488-e9b5-11c3a07995d3"
   },
   "outputs": [],
   "source": [
    "print(num)  # calls .__str__"
   ]
  },
  {
   "cell_type": "code",
   "execution_count": null,
   "metadata": {
    "id": "rc4jUizpwv8W",
    "outputId": "171eb4a0-fafa-46f6-c22c-5a4960d89a48"
   },
   "outputs": [],
   "source": [
    "num"
   ]
  },
  {
   "cell_type": "code",
   "execution_count": null,
   "metadata": {
    "comment_questions": false,
    "id": "QaNTSR_Twv8W",
    "lines_to_next_cell": 2
   },
   "outputs": [],
   "source": [
    "# In Jupyter use ``??`` to see source code\n",
    "MyInt.square??"
   ]
  },
  {
   "cell_type": "code",
   "execution_count": null,
   "metadata": {
    "id": "BmCuTQsPwv8W"
   },
   "outputs": [],
   "source": []
  },
  {
   "cell_type": "code",
   "execution_count": null,
   "metadata": {
    "id": "WHNzEQmEwv8X"
   },
   "outputs": [],
   "source": []
  },
  {
   "cell_type": "code",
   "execution_count": null,
   "metadata": {
    "id": "GoeXFSBwwv8X",
    "lines_to_next_cell": 2
   },
   "outputs": [],
   "source": []
  },
  {
   "cell_type": "code",
   "execution_count": null,
   "metadata": {
    "id": "B3Kb5Bezwv8X"
   },
   "outputs": [],
   "source": []
  },
  {
   "cell_type": "code",
   "execution_count": null,
   "metadata": {
    "id": "lbUbS_hSwv8X"
   },
   "outputs": [],
   "source": []
  },
  {
   "cell_type": "code",
   "execution_count": null,
   "metadata": {
    "id": "G0gErdJAwv8X"
   },
   "outputs": [],
   "source": []
  },
  {
   "cell_type": "code",
   "execution_count": null,
   "metadata": {
    "id": "9YuANe6vwv8X"
   },
   "outputs": [],
   "source": []
  },
  {
   "cell_type": "code",
   "execution_count": null,
   "metadata": {
    "id": "SJImixoRwv8X",
    "lines_to_next_cell": 2
   },
   "outputs": [],
   "source": []
  },
  {
   "cell_type": "markdown",
   "metadata": {
    "id": "xGBkAPiQwv8X"
   },
   "source": [
    "# Exceptions\n"
   ]
  },
  {
   "cell_type": "code",
   "execution_count": null,
   "metadata": {
    "id": "W6jV1-Ygwv8X",
    "lines_to_next_cell": 2,
    "outputId": "3cb5d964-5d4c-4653-ecd2-4eee60513c7b"
   },
   "outputs": [],
   "source": [
    "# NameError - Generally means you typoed the name or forgot to import something\n",
    "missing"
   ]
  },
  {
   "cell_type": "code",
   "execution_count": null,
   "metadata": {
    "id": "k3kU4R9vwv8X",
    "lines_to_next_cell": 2,
    "outputId": "514fc950-91be-4492-dd60-b1bf44c7227f"
   },
   "outputs": [],
   "source": [
    "names = ['john', 'paul', 'george', 'ringo']\n",
    "names.find('fred')"
   ]
  },
  {
   "cell_type": "code",
   "execution_count": null,
   "metadata": {
    "id": "zq5fR4dpwv8X",
    "lines_to_next_cell": 2,
    "outputId": "45ee5f6a-63e2-4800-ee1a-b44caf1871dd"
   },
   "outputs": [],
   "source": [
    "types = {'name': str, 'age': int, 'address': str}\n",
    "types['missing']"
   ]
  },
  {
   "cell_type": "code",
   "execution_count": null,
   "metadata": {
    "id": "2sYUrcsFwv8X",
    "lines_to_next_cell": 2,
    "outputId": "2853d41d-a0e4-4f35-aa75-c06623ab6e02"
   },
   "outputs": [],
   "source": [
    "try:\n",
    "    types['missing']\n",
    "except KeyError:\n",
    "    print(\"missing is not a key\")"
   ]
  },
  {
   "cell_type": "code",
   "execution_count": null,
   "metadata": {
    "id": "eOrpltU7wv8X",
    "lines_to_next_cell": 2,
    "outputId": "ad15b0a6-8603-42e7-94ef-477e90df1d1c"
   },
   "outputs": [],
   "source": [
    "# Can also subclass and raise errors\n",
    "raise KeyError('Key was missing')"
   ]
  },
  {
   "cell_type": "code",
   "execution_count": null,
   "metadata": {
    "id": "c7nogD7Ywv8X",
    "lines_to_next_cell": 2,
    "outputId": "88688606-0269-4a83-8971-8a84f03cd1de",
    "scrolled": true
   },
   "outputs": [],
   "source": [
    "dir(__builtins__)"
   ]
  },
  {
   "cell_type": "code",
   "execution_count": null,
   "metadata": {
    "id": "KZ5A9Ee0wv8X"
   },
   "outputs": [],
   "source": []
  },
  {
   "cell_type": "code",
   "execution_count": null,
   "metadata": {
    "id": "XwgnrUsAwv8X"
   },
   "outputs": [],
   "source": []
  },
  {
   "cell_type": "code",
   "execution_count": null,
   "metadata": {
    "id": "Y2M95CQlwv8X"
   },
   "outputs": [],
   "source": []
  },
  {
   "cell_type": "code",
   "execution_count": null,
   "metadata": {
    "id": "tnvdkqazwv8X"
   },
   "outputs": [],
   "source": []
  },
  {
   "cell_type": "code",
   "execution_count": null,
   "metadata": {
    "id": "fT3MEtxLwv8X",
    "lines_to_next_cell": 2
   },
   "outputs": [],
   "source": []
  },
  {
   "cell_type": "code",
   "execution_count": null,
   "metadata": {
    "id": "B4uDhpCzwv8X"
   },
   "outputs": [],
   "source": []
  },
  {
   "cell_type": "markdown",
   "metadata": {
    "id": "6eAbu9tFwv8X"
   },
   "source": [
    "# NumPy\n"
   ]
  },
  {
   "cell_type": "markdown",
   "metadata": {
    "id": "fbLUjgLzwv8X"
   },
   "source": [
    "- N-Dimensional arrays\n",
    "- Overcome slowness of Python\n"
   ]
  },
  {
   "cell_type": "markdown",
   "metadata": {
    "id": "Gw0d4ukwwv8X",
    "lines_to_next_cell": 2
   },
   "source": [
    "## Secret of NumPy\n",
    "\n",
    "There are not 10 Python integers under the covers:\n"
   ]
  },
  {
   "cell_type": "code",
   "execution_count": null,
   "metadata": {
    "id": "I3-EhzSZwv8X",
    "lines_to_next_cell": 2,
    "outputId": "4460fd91-ef44-4ad5-fba9-c7d56d555721"
   },
   "outputs": [],
   "source": [
    "import numpy as np\n",
    "digits = np.array(range(10))\n",
    "digits"
   ]
  },
  {
   "cell_type": "code",
   "execution_count": null,
   "metadata": {
    "id": "MyIeo_JKwv8X",
    "lines_to_next_cell": 2
   },
   "outputs": [],
   "source": [
    "slow_digits = list(range(10))"
   ]
  },
  {
   "cell_type": "code",
   "execution_count": null,
   "metadata": {
    "id": "UkUu3-_Lwv8X",
    "lines_to_next_cell": 2,
    "outputId": "baf64298-a377-4a44-a45c-1c2ba119feca"
   },
   "outputs": [],
   "source": [
    "digits.dtype"
   ]
  },
  {
   "cell_type": "code",
   "execution_count": null,
   "metadata": {
    "id": "9LXwznbuwv8X",
    "lines_to_next_cell": 2,
    "outputId": "9ffe6c73-4743-4c11-a3e7-82fdff68fd95"
   },
   "outputs": [],
   "source": [
    "# Operations\n",
    "digits.shape"
   ]
  },
  {
   "cell_type": "code",
   "execution_count": null,
   "metadata": {
    "id": "0SOlJV5jwv8X",
    "lines_to_next_cell": 2,
    "outputId": "a79e642a-a785-49cc-ec78-f53383c7d70c"
   },
   "outputs": [],
   "source": [
    "digits + 10"
   ]
  },
  {
   "cell_type": "code",
   "execution_count": null,
   "metadata": {
    "id": "aHSCc7U7wv8X",
    "lines_to_next_cell": 2,
    "outputId": "de3a6cc8-a3f3-4a37-d488-96a791e2276b"
   },
   "outputs": [],
   "source": [
    "digits + digits"
   ]
  },
  {
   "cell_type": "code",
   "execution_count": null,
   "metadata": {
    "id": "u2YGKdmuwv8Y",
    "lines_to_next_cell": 2,
    "outputId": "89059842-7a62-4fc1-bf89-1e7d70451099"
   },
   "outputs": [],
   "source": [
    "np.sin(digits)"
   ]
  },
  {
   "cell_type": "code",
   "execution_count": null,
   "metadata": {
    "id": "4Ff3BZ-Pwv8Y",
    "lines_to_next_cell": 2,
    "outputId": "8534b9a3-14f4-4d5b-d223-833f1fc11208"
   },
   "outputs": [],
   "source": [
    "# Creation\n",
    "np.arange(3)"
   ]
  },
  {
   "cell_type": "code",
   "execution_count": null,
   "metadata": {
    "id": "PxtMksqWwv8Y",
    "lines_to_next_cell": 2,
    "outputId": "7c15a40c-a1c9-4c4d-944d-f2bb2125d7ff"
   },
   "outputs": [],
   "source": [
    "np.ones(3)"
   ]
  },
  {
   "cell_type": "code",
   "execution_count": null,
   "metadata": {
    "id": "2ruHRLc5wv8Y",
    "lines_to_next_cell": 2,
    "outputId": "8723b500-6cbe-484e-d146-9fd0bf819212"
   },
   "outputs": [],
   "source": [
    "np.zeros(3)"
   ]
  },
  {
   "cell_type": "code",
   "execution_count": null,
   "metadata": {
    "id": "ExMfh0qGwv8Y",
    "lines_to_next_cell": 2,
    "outputId": "eeab1d69-499b-4769-9797-ce2e1eec7440"
   },
   "outputs": [],
   "source": [
    "np.eye(3, 5)"
   ]
  },
  {
   "cell_type": "code",
   "execution_count": null,
   "metadata": {
    "id": "zR8YJAN-wv8Y"
   },
   "outputs": [],
   "source": [
    "np.eye?"
   ]
  },
  {
   "cell_type": "code",
   "execution_count": null,
   "metadata": {
    "id": "HJsuNJFzwv8Y",
    "lines_to_next_cell": 2,
    "outputId": "e4904196-654b-4b24-f2d5-a9ccfcd95ced"
   },
   "outputs": [],
   "source": [
    "np.diag(range(3))"
   ]
  },
  {
   "cell_type": "code",
   "execution_count": null,
   "metadata": {
    "id": "xKa6jtwWwv8Y",
    "lines_to_next_cell": 2,
    "outputId": "674d966f-3838-4aae-b86c-90d8b21dfdf3"
   },
   "outputs": [],
   "source": [
    "np.linspace(0, 10, num=15)"
   ]
  },
  {
   "cell_type": "code",
   "execution_count": null,
   "metadata": {
    "id": "250TTZTVwv8Y",
    "lines_to_next_cell": 2,
    "outputId": "bd87d330-8eb9-4787-8003-1f02c104d0e2"
   },
   "outputs": [],
   "source": [
    "# Random Creation\n",
    "np.random.random(3)  # between [0,1)"
   ]
  },
  {
   "cell_type": "code",
   "execution_count": null,
   "metadata": {
    "id": "P4XuMhDYwv8Y",
    "lines_to_next_cell": 2,
    "outputId": "86e01570-ddd0-4715-81f9-d15edae0b320"
   },
   "outputs": [],
   "source": [
    "rng = np.random.default_rng()\n",
    "rng.integers(low=11, high=15, size=5)  # 5 between [11,15)"
   ]
  },
  {
   "cell_type": "code",
   "execution_count": null,
   "metadata": {
    "id": "d2ZVmjkSwv8Y",
    "lines_to_next_cell": 2,
    "outputId": "6b28635a-01eb-4d6d-d88a-65cce641f453"
   },
   "outputs": [],
   "source": [
    "np.random.bytes(5)  # 5 bytes"
   ]
  },
  {
   "cell_type": "code",
   "execution_count": null,
   "metadata": {
    "id": "lVXhZbqOwv8Y",
    "lines_to_next_cell": 2,
    "outputId": "43e14deb-7270-4366-c46e-751f03105ff3"
   },
   "outputs": [],
   "source": [
    "np.random.randn(3)  # normal distribution"
   ]
  },
  {
   "cell_type": "code",
   "execution_count": null,
   "metadata": {
    "id": "NbCUV9q-wv8Y"
   },
   "outputs": [],
   "source": []
  },
  {
   "cell_type": "code",
   "execution_count": null,
   "metadata": {
    "id": "EfVhbNf-wv8Y"
   },
   "outputs": [],
   "source": []
  },
  {
   "cell_type": "code",
   "execution_count": null,
   "metadata": {
    "id": "QVwDgyFcwv8Y"
   },
   "outputs": [],
   "source": []
  },
  {
   "cell_type": "code",
   "execution_count": null,
   "metadata": {
    "id": "8ZfctHe_wv8Z",
    "lines_to_next_cell": 2
   },
   "outputs": [],
   "source": []
  },
  {
   "cell_type": "code",
   "execution_count": null,
   "metadata": {
    "id": "wko-YBeYwv8Z"
   },
   "outputs": [],
   "source": []
  },
  {
   "cell_type": "code",
   "execution_count": null,
   "metadata": {
    "id": "HrPCRnGZwv8Z"
   },
   "outputs": [],
   "source": []
  },
  {
   "cell_type": "markdown",
   "metadata": {
    "id": "quZ519Gjwv8Z",
    "lines_to_next_cell": 2
   },
   "source": [
    "## More NumPy\n"
   ]
  },
  {
   "cell_type": "code",
   "execution_count": null,
   "metadata": {
    "id": "1qsVdNOZwv8Z",
    "lines_to_next_cell": 2,
    "outputId": "1c84b5c0-33a8-4f94-8bbd-f669bae43404",
    "scrolled": true
   },
   "outputs": [],
   "source": [
    "# Array Features\n",
    "dir(digits) "
   ]
  },
  {
   "cell_type": "code",
   "execution_count": null,
   "metadata": {
    "id": "7T4f0cM8wv8Z",
    "lines_to_next_cell": 2,
    "outputId": "b7db8e9e-2cc4-4f1e-9360-59d7ccc43d76"
   },
   "outputs": [],
   "source": [
    "len(dir(digits))"
   ]
  },
  {
   "cell_type": "code",
   "execution_count": null,
   "metadata": {
    "id": "lTRFD597wv8Z",
    "lines_to_next_cell": 2,
    "outputId": "b116c467-7bd6-46d1-d8b1-2d2c52c9b27b"
   },
   "outputs": [],
   "source": [
    "digits.mean()"
   ]
  },
  {
   "cell_type": "code",
   "execution_count": null,
   "metadata": {
    "id": "PGSpRo9Jwv8Z",
    "lines_to_next_cell": 2,
    "outputId": "99d700ca-574f-4e5a-ecfe-935e1766dbeb",
    "scrolled": true
   },
   "outputs": [],
   "source": [
    "# NumPy Features\n",
    "dir(np)  "
   ]
  },
  {
   "cell_type": "code",
   "execution_count": null,
   "metadata": {
    "id": "Rpe6xJi9wv8Z",
    "lines_to_next_cell": 2,
    "outputId": "f8012812-4dcb-448a-e747-e7bb21ec3192"
   },
   "outputs": [],
   "source": [
    "len(dir(np))"
   ]
  },
  {
   "cell_type": "code",
   "execution_count": null,
   "metadata": {
    "id": "UvzTbOJZwv8Z",
    "lines_to_next_cell": 2,
    "outputId": "801a1d9e-6ac2-4dd2-fe31-66858c483a87"
   },
   "outputs": [],
   "source": [
    "np.log(digits)"
   ]
  },
  {
   "cell_type": "code",
   "execution_count": null,
   "metadata": {
    "id": "jWVR5l1Rwv8Z",
    "lines_to_next_cell": 2,
    "outputId": "9aebbd46-2898-4a31-e813-6de8f6562f7d"
   },
   "outputs": [],
   "source": [
    "np.log(digits+1)"
   ]
  },
  {
   "cell_type": "code",
   "execution_count": null,
   "metadata": {
    "id": "oAozbjn8wv8Z"
   },
   "outputs": [],
   "source": []
  },
  {
   "cell_type": "code",
   "execution_count": null,
   "metadata": {
    "id": "iQ5MURCcwv8Z"
   },
   "outputs": [],
   "source": []
  },
  {
   "cell_type": "code",
   "execution_count": null,
   "metadata": {
    "id": "sCC7oV-uwv8Z",
    "lines_to_next_cell": 2
   },
   "outputs": [],
   "source": []
  },
  {
   "cell_type": "code",
   "execution_count": null,
   "metadata": {
    "id": "UVxtSr5Uwv8Z"
   },
   "outputs": [],
   "source": []
  },
  {
   "cell_type": "code",
   "execution_count": null,
   "metadata": {
    "id": "jhqrfYWtwv8Z"
   },
   "outputs": [],
   "source": []
  },
  {
   "cell_type": "code",
   "execution_count": null,
   "metadata": {
    "id": "2JH063FLwv8Z"
   },
   "outputs": [],
   "source": []
  },
  {
   "cell_type": "markdown",
   "metadata": {
    "id": "bAljX9WHwv8Z"
   },
   "source": [
    "# NumPy Dimensions\n"
   ]
  },
  {
   "cell_type": "code",
   "execution_count": null,
   "metadata": {
    "id": "6rSKgb0nwv8Z",
    "lines_to_next_cell": 2,
    "outputId": "f3fd39f8-860b-4411-8693-994a438b12a4"
   },
   "outputs": [],
   "source": [
    "nums = np.arange(100).reshape(20, 5)\n",
    "nums "
   ]
  },
  {
   "cell_type": "code",
   "execution_count": null,
   "metadata": {
    "id": "EOMMABMxwv8Z",
    "lines_to_next_cell": 2,
    "outputId": "9fcbf0a5-763a-4e1f-962f-8db6bcf4d37f"
   },
   "outputs": [],
   "source": [
    "nums.transpose() "
   ]
  },
  {
   "cell_type": "code",
   "execution_count": null,
   "metadata": {
    "id": "D6lIFyukwv8Z",
    "lines_to_next_cell": 2,
    "outputId": "4bf0a790-1ee9-454e-a7b5-607f6d3c8bd1"
   },
   "outputs": [],
   "source": [
    "# Axis - Two-dimensional\n",
    "nums "
   ]
  },
  {
   "cell_type": "code",
   "execution_count": null,
   "metadata": {
    "id": "BgbgMSiGwv8Z",
    "lines_to_next_cell": 2,
    "outputId": "d1b3709a-cb17-4865-a3c5-12c9cc82198c"
   },
   "outputs": [],
   "source": [
    "nums.mean()"
   ]
  },
  {
   "cell_type": "code",
   "execution_count": null,
   "metadata": {
    "id": "KzEEgeH6wv8Z",
    "lines_to_next_cell": 2,
    "outputId": "8bcec7ec-f86a-415d-f8b1-3726fde7199e"
   },
   "outputs": [],
   "source": [
    "nums.mean(axis=0)"
   ]
  },
  {
   "cell_type": "code",
   "execution_count": null,
   "metadata": {
    "id": "mHHoHxHOwv8Z",
    "lines_to_next_cell": 2
   },
   "outputs": [],
   "source": [
    "nums  "
   ]
  },
  {
   "cell_type": "code",
   "execution_count": null,
   "metadata": {
    "id": "Dtix9nWPwv8Z",
    "lines_to_next_cell": 2,
    "outputId": "066a71fc-d106-4ccc-e5b8-cd47a490dc8e"
   },
   "outputs": [],
   "source": [
    "nums.mean(axis=1)"
   ]
  },
  {
   "cell_type": "code",
   "execution_count": null,
   "metadata": {
    "id": "YOuorjkqwv8Z",
    "lines_to_next_cell": 2,
    "outputId": "f91b5851-da63-4238-c777-6c8208b7f090"
   },
   "outputs": [],
   "source": [
    "nums.mean(axis=1, keepdims=True) "
   ]
  },
  {
   "cell_type": "code",
   "execution_count": null,
   "metadata": {
    "id": "whAG26BDwv8Z",
    "lines_to_next_cell": 2,
    "outputId": "1e989784-ca5c-41e0-d5e3-b5c7e868390f"
   },
   "outputs": [],
   "source": [
    "# Three Dimensions\n",
    "b = np.arange(70).reshape(7,5,2)\n",
    "b  "
   ]
  },
  {
   "cell_type": "code",
   "execution_count": null,
   "metadata": {
    "id": "hsyKALyKwv8Z",
    "lines_to_next_cell": 2,
    "outputId": "fef4b874-ad20-463d-ab06-6e0cfd16513a"
   },
   "outputs": [],
   "source": [
    "b.mean(axis=0)"
   ]
  },
  {
   "cell_type": "code",
   "execution_count": null,
   "metadata": {
    "id": "162CH1nzwv8Z",
    "lines_to_next_cell": 2,
    "outputId": "90f2d9d7-2fd3-4e53-a432-a452a6d3cf26"
   },
   "outputs": [],
   "source": [
    "b.mean(axis=1)"
   ]
  },
  {
   "cell_type": "code",
   "execution_count": null,
   "metadata": {
    "id": "Q_ZLZoujwv8b",
    "lines_to_next_cell": 2,
    "outputId": "f9173eee-d46f-4ebd-f69e-bb4810ece771"
   },
   "outputs": [],
   "source": [
    "b.mean(axis=2)"
   ]
  },
  {
   "cell_type": "code",
   "execution_count": null,
   "metadata": {
    "id": "iFg24xhlwv8b",
    "lines_to_next_cell": 2,
    "outputId": "a54b9a2a-6702-4e3a-86b1-1620aa8fbaa6"
   },
   "outputs": [],
   "source": [
    "##  NumPy Indexing & Slicing\n",
    "# Similar to Python, but not limited to one dimension:\n",
    "nums "
   ]
  },
  {
   "cell_type": "code",
   "execution_count": null,
   "metadata": {
    "id": "HfMHnOD0wv8b",
    "lines_to_next_cell": 2,
    "outputId": "5c12ff57-0016-4712-ac96-b00d3a759f8e"
   },
   "outputs": [],
   "source": [
    "nums[0]  # row 0"
   ]
  },
  {
   "cell_type": "code",
   "execution_count": null,
   "metadata": {
    "id": "zVhUYc8twv8b",
    "lines_to_next_cell": 2,
    "outputId": "8d285608-e333-405a-e6d7-b22142318e8a"
   },
   "outputs": [],
   "source": [
    "nums[[0, 5, 10]]  # rows 0,5,10"
   ]
  },
  {
   "cell_type": "code",
   "execution_count": null,
   "metadata": {
    "id": "LoNlRdwowv8b",
    "lines_to_next_cell": 2,
    "outputId": "08bc05a1-f03e-45af-99f7-b1cf04ca821b"
   },
   "outputs": [],
   "source": [
    "# Can slice along multiple dimensions:\n",
    "nums[0:10]  # first 10 rows"
   ]
  },
  {
   "cell_type": "code",
   "execution_count": null,
   "metadata": {
    "id": "26sO6Ix1wv8b",
    "lines_to_next_cell": 2,
    "outputId": "c73697a2-3b1d-47b1-b839-a3645c62edb2"
   },
   "outputs": [],
   "source": [
    "nums[:, 0:3]  # all rows, 3 cols "
   ]
  },
  {
   "cell_type": "code",
   "execution_count": null,
   "metadata": {
    "id": "YDGWZSG8wv8b"
   },
   "outputs": [],
   "source": []
  },
  {
   "cell_type": "code",
   "execution_count": null,
   "metadata": {
    "id": "XdaC_Zymwv8b"
   },
   "outputs": [],
   "source": []
  },
  {
   "cell_type": "code",
   "execution_count": null,
   "metadata": {
    "id": "i9jXwzp0wv8b"
   },
   "outputs": [],
   "source": []
  },
  {
   "cell_type": "code",
   "execution_count": null,
   "metadata": {
    "id": "hQHjUq_4wv8b"
   },
   "outputs": [],
   "source": []
  },
  {
   "cell_type": "code",
   "execution_count": null,
   "metadata": {
    "id": "lp1OPQTVwv8b"
   },
   "outputs": [],
   "source": []
  },
  {
   "cell_type": "code",
   "execution_count": null,
   "metadata": {
    "id": "gmyvXIWCwv8b"
   },
   "outputs": [],
   "source": []
  },
  {
   "cell_type": "markdown",
   "metadata": {
    "id": "2zrAWJhYwv8b"
   },
   "source": [
    "# Boolean Arrays\n"
   ]
  },
  {
   "cell_type": "code",
   "execution_count": null,
   "metadata": {
    "id": "YIEPm4u_wv8c",
    "lines_to_next_cell": 2,
    "outputId": "629449fd-27e3-4a19-cbd2-bcf6af6daf35"
   },
   "outputs": [],
   "source": [
    "nums "
   ]
  },
  {
   "cell_type": "code",
   "execution_count": null,
   "metadata": {
    "id": "t8qxOjlWwv8c",
    "lines_to_next_cell": 2,
    "outputId": "88b71974-32f7-475c-a232-ec54337f7888"
   },
   "outputs": [],
   "source": [
    "nums % 2 == 0"
   ]
  },
  {
   "cell_type": "code",
   "execution_count": null,
   "metadata": {
    "id": "W0QJ_Ae-wv8c",
    "lines_to_next_cell": 2,
    "outputId": "7d6510e9-c9a6-4c90-ec3a-d8f95b2553bc"
   },
   "outputs": [],
   "source": [
    "# Used as a filter\n",
    "nums[nums % 2 == 0]"
   ]
  },
  {
   "cell_type": "code",
   "execution_count": null,
   "metadata": {
    "id": "RcxYeqGswv8c",
    "lines_to_next_cell": 2,
    "outputId": "6a7160a2-a289-4f80-ea3d-65d32f167be8"
   },
   "outputs": [],
   "source": [
    "# Select rows where sum is less than 100\n",
    "nums.sum(axis=1)"
   ]
  },
  {
   "cell_type": "code",
   "execution_count": null,
   "metadata": {
    "id": "34meKOGGwv8c",
    "lines_to_next_cell": 2,
    "outputId": "ae16c6aa-619d-4eb1-ff33-147b00f0558e"
   },
   "outputs": [],
   "source": [
    "nums.sum(axis=1) < 100"
   ]
  },
  {
   "cell_type": "code",
   "execution_count": null,
   "metadata": {
    "id": "PrPydQF5wv8c",
    "lines_to_next_cell": 2,
    "outputId": "bdeaba5f-6f68-4ee8-b8e2-3edbde7577d5"
   },
   "outputs": [],
   "source": [
    "nums[nums.sum(axis=1)< 100]"
   ]
  },
  {
   "cell_type": "code",
   "execution_count": null,
   "metadata": {
    "id": "pQSPbOU9wv8c",
    "lines_to_next_cell": 2,
    "outputId": "e7717937-bf10-41cb-fcfb-ca4a5cd5e3fb"
   },
   "outputs": [],
   "source": [
    "# Select columns where mean > 50:\n",
    "nums.mean(axis=0)"
   ]
  },
  {
   "cell_type": "code",
   "execution_count": null,
   "metadata": {
    "id": "dE2VPd7Nwv8c",
    "lines_to_next_cell": 2,
    "outputId": "fad73a92-e8cb-4f47-9355-988c188d861a"
   },
   "outputs": [],
   "source": [
    "nums.mean(axis=0) > 50"
   ]
  },
  {
   "cell_type": "code",
   "execution_count": null,
   "metadata": {
    "id": "5cBOvZL1wv8c",
    "lines_to_next_cell": 2,
    "outputId": "d7c89e58-4801-4924-a10b-314df68fa787"
   },
   "outputs": [],
   "source": [
    "nums[:, nums.mean(axis=0) > 50] "
   ]
  },
  {
   "cell_type": "code",
   "execution_count": null,
   "metadata": {
    "id": "hWzGz40Qwv8c"
   },
   "outputs": [],
   "source": []
  },
  {
   "cell_type": "markdown",
   "metadata": {
    "id": "NcpCYIHywv8c"
   },
   "source": [
    "## NumPy Example\n"
   ]
  },
  {
   "cell_type": "code",
   "execution_count": null,
   "metadata": {
    "id": "dtPB69pswv8c",
    "lines_to_next_cell": 2,
    "outputId": "5677a43c-371f-48b4-9735-fcb215fc55d4",
    "scrolled": true
   },
   "outputs": [],
   "source": [
    "# Example - Standardize data. Each column has a mean value of 0 and a standard deviation of 1\n",
    "import sklearn.datasets\n",
    "iris = sklearn.datasets.load_iris().data\n",
    "iris "
   ]
  },
  {
   "cell_type": "code",
   "execution_count": null,
   "metadata": {
    "id": "pxDp2D19wv8c",
    "lines_to_next_cell": 2,
    "outputId": "6bc33f3a-c04a-44ec-bbcc-01841d58d0f9",
    "scrolled": true
   },
   "outputs": [],
   "source": [
    "iris_z = (iris - np.mean(iris))/np.std(iris)\n",
    "iris_z "
   ]
  },
  {
   "cell_type": "code",
   "execution_count": null,
   "metadata": {
    "id": "MPRtbBCqwv8c",
    "lines_to_next_cell": 2,
    "outputId": "c67abae2-5781-478b-a636-56ae3ae056c8"
   },
   "outputs": [],
   "source": [
    "np.mean(iris_z)"
   ]
  },
  {
   "cell_type": "code",
   "execution_count": null,
   "metadata": {
    "id": "6-4oeSaPwv8c",
    "lines_to_next_cell": 2,
    "outputId": "f6eb2db3-4e30-4849-a31d-1cb983797abc"
   },
   "outputs": [],
   "source": [
    "np.std(iris_z)"
   ]
  },
  {
   "cell_type": "code",
   "execution_count": null,
   "metadata": {
    "id": "vk6Qyyzlwv8c"
   },
   "outputs": [],
   "source": []
  },
  {
   "cell_type": "code",
   "execution_count": null,
   "metadata": {
    "id": "JF1hMl32wv8c"
   },
   "outputs": [],
   "source": []
  },
  {
   "cell_type": "code",
   "execution_count": null,
   "metadata": {
    "id": "YDumI-7lwv8c"
   },
   "outputs": [],
   "source": []
  },
  {
   "cell_type": "code",
   "execution_count": null,
   "metadata": {
    "id": "sLZR3K5Mwv8c"
   },
   "outputs": [],
   "source": []
  },
  {
   "cell_type": "code",
   "execution_count": null,
   "metadata": {
    "id": "NUKKECgFwv8c"
   },
   "outputs": [],
   "source": []
  },
  {
   "cell_type": "code",
   "execution_count": null,
   "metadata": {
    "id": "eXhGivK0wv8c"
   },
   "outputs": [],
   "source": []
  },
  {
   "cell_type": "markdown",
   "metadata": {
    "id": "pB1bZjyOwv8c"
   },
   "source": [
    "# Matplotlib\n"
   ]
  },
  {
   "cell_type": "markdown",
   "metadata": {
    "id": "xtOaDGzWwv8c"
   },
   "source": [
    "## Figure and Axis Creation\n"
   ]
  },
  {
   "cell_type": "code",
   "execution_count": null,
   "metadata": {
    "id": "w2tH7IKhwv8c",
    "lines_to_next_cell": 2,
    "outputId": "9ebf796b-4bdc-4f51-fd3f-69c631ef4a9b"
   },
   "outputs": [],
   "source": [
    "import matplotlib.pyplot as plt\n",
    "import numpy as np\n",
    "x = np.arange(0, 10, 0.2)\n",
    "y = np.sin(x)\n",
    "fig = plt.figure()\n",
    "ax = fig.add_subplot(111)\n",
    "ax.plot(x, y)\n",
    "plt.savefig('pyplot1.png', dpi=300)"
   ]
  },
  {
   "cell_type": "code",
   "execution_count": null,
   "metadata": {
    "id": "0Xmpy4E0wv8c",
    "lines_to_next_cell": 2,
    "outputId": "9f658cb1-e27e-430d-848c-81464386d3be"
   },
   "outputs": [],
   "source": [
    "from pylab import *\n",
    "x = arange(0, 10, 0.2)\n",
    "y = sin(x)\n",
    "plot(x, y)\n",
    "savefig('pylab1.png', dpi=300)"
   ]
  },
  {
   "cell_type": "code",
   "execution_count": null,
   "metadata": {
    "id": "8p86VJG1wv8c",
    "lines_to_next_cell": 2,
    "outputId": "72c0ca67-ab5a-4e18-f9d4-001cc1b35206"
   },
   "outputs": [],
   "source": [
    "fig = plt.figure()\n",
    "fig.set_size_inches((8.5, 4))"
   ]
  },
  {
   "cell_type": "code",
   "execution_count": null,
   "metadata": {
    "id": "Zbqv8-gywv8c",
    "lines_to_next_cell": 2,
    "outputId": "f5e1fb42-4831-4878-c8d0-63f1cfd5313e"
   },
   "outputs": [],
   "source": [
    "# single axes - position values are 0-1\n",
    "left, bottom, width, height = .1, .2, .7, .5\n",
    "ax = fig.add_axes((left, bottom, width, height))\n",
    "ax.plot(x, y)\n",
    "ax2 = fig.add_axes((.9, .9, .1, .1))\n",
    "ax2.plot(x, y)\n",
    "fig"
   ]
  },
  {
   "cell_type": "code",
   "execution_count": null,
   "metadata": {
    "id": "eZjBV9n4wv8d",
    "lines_to_next_cell": 2,
    "outputId": "25860593-3404-49d0-c80b-b1d0bfa8d76d"
   },
   "outputs": [],
   "source": [
    "# 3 axes - 1 row 3 cols (grid)\n",
    "fig, axes = plt.subplots(1, 3, figsize=(12, 4))\n",
    "for ax in axes:\n",
    "    ax.plot(x, y)"
   ]
  },
  {
   "cell_type": "code",
   "execution_count": null,
   "metadata": {
    "id": "nJM-K6Gewv8d"
   },
   "outputs": [],
   "source": []
  },
  {
   "cell_type": "code",
   "execution_count": null,
   "metadata": {
    "id": "7l_9AJFzwv8d",
    "lines_to_next_cell": 2,
    "outputId": "12e1eb1c-6276-4be0-b954-f6867a304c86"
   },
   "outputs": [],
   "source": [
    "# 1 axes - 1 row 2 cols 2nd postition\n",
    "ax = plt.subplot(122)  # or 1,2,2\n",
    "ax.plot(x, y)"
   ]
  },
  {
   "cell_type": "code",
   "execution_count": null,
   "metadata": {
    "id": "lWUZqiO6wv8d",
    "lines_to_next_cell": 2,
    "outputId": "e5d110df-49ac-4630-a376-062e0390ec9b"
   },
   "outputs": [],
   "source": [
    "x = np.arange(0, 10, 0.2)\n",
    "y = np.sin(x)\n",
    "fig = plt.figure()\n",
    "ax = fig.add_subplot(111)\n",
    "ax.plot(x, y, color='r',\n",
    "  linewidth=3, linestyle='--')\n",
    "fig.savefig('img/pyplot2.png', dpi=300)"
   ]
  },
  {
   "cell_type": "code",
   "execution_count": null,
   "metadata": {
    "id": "4Ifl7U63wv8d"
   },
   "outputs": [],
   "source": []
  },
  {
   "cell_type": "code",
   "execution_count": null,
   "metadata": {
    "id": "kTfwR1Zzwv8d"
   },
   "outputs": [],
   "source": []
  },
  {
   "cell_type": "code",
   "execution_count": null,
   "metadata": {
    "id": "g1oPCPa0wv8d"
   },
   "outputs": [],
   "source": []
  },
  {
   "cell_type": "code",
   "execution_count": null,
   "metadata": {
    "id": "XK2B9LQAwv8d"
   },
   "outputs": [],
   "source": []
  },
  {
   "cell_type": "code",
   "execution_count": null,
   "metadata": {
    "id": "LdzhmB3Swv8d"
   },
   "outputs": [],
   "source": []
  },
  {
   "cell_type": "code",
   "execution_count": null,
   "metadata": {
    "id": "GAkGA-ikwv8d",
    "lines_to_next_cell": 2
   },
   "outputs": [],
   "source": []
  },
  {
   "cell_type": "markdown",
   "metadata": {
    "id": "iq8IopJBwv8d"
   },
   "source": [
    "## Plot Types\n",
    "\n",
    "Matplotlib supports a variety of plots out of the box.\n"
   ]
  },
  {
   "cell_type": "code",
   "execution_count": null,
   "metadata": {
    "id": "vC1w1lBGwv8d",
    "outputId": "ea8f6e1d-82c2-4fed-f288-b78311762e3c"
   },
   "outputs": [],
   "source": [
    "# Line Plot\n",
    "fig, ax = plt.subplots()\n",
    "ax.plot(x, y)"
   ]
  },
  {
   "cell_type": "code",
   "execution_count": null,
   "metadata": {
    "id": "8D0hbBTDwv8d",
    "outputId": "2131f134-785a-4b61-ff7e-c2cb4caf5fff"
   },
   "outputs": [],
   "source": [
    "# Bar Plot\n",
    "fig, ax = plt.subplots(figsize=(10,8))\n",
    "ax.bar(x, y)"
   ]
  },
  {
   "cell_type": "code",
   "execution_count": null,
   "metadata": {
    "id": "d9OJzC-Ywv8e",
    "outputId": "9efa2155-4dab-41e6-d7ec-fd8784a898e0"
   },
   "outputs": [],
   "source": [
    "# Bar Plot\n",
    "# width may need to be tweaked\n",
    "fig, ax = plt.subplots(figsize=(10,8))\n",
    "ax.bar(x, y, width=.02)"
   ]
  },
  {
   "cell_type": "code",
   "execution_count": null,
   "metadata": {
    "id": "2caNnyaLwv8e",
    "outputId": "4312410e-b76a-4912-a6d1-8b57c5b7afbb"
   },
   "outputs": [],
   "source": [
    "# Scatter Plot - Using .scatter can be slower than plot. Use .scatter when you want to \n",
    "# tweak attribute\n",
    "fig, ax = plt.subplots(figsize=(10,8))\n",
    "ax.scatter(x, y, marker='o', alpha=.5)"
   ]
  },
  {
   "cell_type": "code",
   "execution_count": null,
   "metadata": {
    "id": "trK97CXswv8e",
    "outputId": "a1acebf4-3760-4531-fd96-27d0479b1aaf"
   },
   "outputs": [],
   "source": [
    "# Scatter Plot - test\n",
    "fig, ax = plt.subplots(figsize=(10,8))\n",
    "ax.plot(x, y, marker='o', alpha=.5, color='pink', markeredgecolor='red',\n",
    "        markerfacecolor='black', markeredgewidth=3)\n"
   ]
  },
  {
   "cell_type": "code",
   "execution_count": null,
   "metadata": {
    "id": "4lRis1g6wv8e",
    "outputId": "9c0c9fb7-1ba1-46c0-f241-b26c3f6d3070",
    "scrolled": true
   },
   "outputs": [],
   "source": [
    "# Scatter Plot - Using .scatter can be slower than plot. Use .scatter when you want to \n",
    "# tweak attribute\n",
    "fig, ax = plt.subplots(figsize=(10,8))\n",
    "ax.scatter(x, y, marker='o', alpha=.5)"
   ]
  },
  {
   "cell_type": "code",
   "execution_count": null,
   "metadata": {
    "id": "GPolXby4wv8e",
    "outputId": "8aed03b0-8aea-4f20-b010-14197cfa0c28"
   },
   "outputs": [],
   "source": [
    "# Scatter Plot - Using .scatter can be slower than plot. Use .scatter when you want to \n",
    "# tweak attribute\n",
    "fig, ax = plt.subplots(figsize=(10,8))\n",
    "ax.scatter(x, y, marker='o', c=x, cmap='viridis', alpha=.5)"
   ]
  },
  {
   "cell_type": "code",
   "execution_count": null,
   "metadata": {
    "id": "DmSt8Ee3wv8e",
    "outputId": "05cfa0e5-eaa9-4ac8-c1a0-ba734414640c"
   },
   "outputs": [],
   "source": [
    "# boxplot\n",
    "fig, ax = plt.subplots(figsize=(10,8))\n",
    "_ = ax.boxplot(x, #vert=False\n",
    "              )"
   ]
  },
  {
   "cell_type": "code",
   "execution_count": null,
   "metadata": {
    "id": "Em0h2Yi_wv8e",
    "outputId": "1a49f710-a7e7-478d-93ed-4b7069282a30"
   },
   "outputs": [],
   "source": [
    "# boxplot\n",
    "fig, ax = plt.subplots(figsize=(10,8))\n",
    "_ = ax.boxplot([x, x+2, x-3], labels=['Norm', '+2', '-3'])"
   ]
  },
  {
   "cell_type": "code",
   "execution_count": null,
   "metadata": {
    "id": "JLguD0zEwv8e",
    "outputId": "426ff07c-4084-4140-d6b7-0f3e4fc28864"
   },
   "outputs": [],
   "source": [
    "# violin plot\n",
    "fig, ax = plt.subplots(figsize=(10,8))\n",
    "_ = ax.violinplot([x, x+2, x-3])"
   ]
  },
  {
   "cell_type": "code",
   "execution_count": null,
   "metadata": {
    "id": "-yBS-uU8wv8e",
    "outputId": "620f85bd-7f0e-4efe-d540-cf476b530d91"
   },
   "outputs": [],
   "source": [
    "# Histogram \n",
    "fig, ax = plt.subplots(figsize=(10,8))\n",
    "ax.hist(y)"
   ]
  },
  {
   "cell_type": "code",
   "execution_count": null,
   "metadata": {
    "id": "XwU15WiTwv8e",
    "outputId": "c1bc890f-33ad-47af-fee3-9a68d54eec10"
   },
   "outputs": [],
   "source": [
    "# Histogram\n",
    "fig, ax = plt.subplots(figsize=(10,8))\n",
    "_ = ax.hist(y, bins=100)"
   ]
  },
  {
   "cell_type": "code",
   "execution_count": null,
   "metadata": {
    "id": "A8nRNbK6wv8e",
    "lines_to_next_cell": 2,
    "outputId": "9d684b1c-2dfd-47ca-ef04-8261210509a1"
   },
   "outputs": [],
   "source": [
    "# Pie\n",
    "fig, ax = plt.subplots(figsize=(10,8))\n",
    "_=ax.pie([10, 5], labels=['10', '5'])\n",
    "ax.legend()"
   ]
  },
  {
   "cell_type": "code",
   "execution_count": null,
   "metadata": {
    "id": "GEE-Jv6Nwv8e"
   },
   "outputs": [],
   "source": []
  },
  {
   "cell_type": "code",
   "execution_count": null,
   "metadata": {},
   "outputs": [],
   "source": []
  },
  {
   "cell_type": "code",
   "execution_count": null,
   "metadata": {},
   "outputs": [],
   "source": []
  },
  {
   "cell_type": "code",
   "execution_count": null,
   "metadata": {},
   "outputs": [],
   "source": []
  },
  {
   "cell_type": "code",
   "execution_count": null,
   "metadata": {},
   "outputs": [],
   "source": []
  },
  {
   "cell_type": "code",
   "execution_count": null,
   "metadata": {},
   "outputs": [],
   "source": []
  },
  {
   "cell_type": "code",
   "execution_count": null,
   "metadata": {},
   "outputs": [],
   "source": []
  },
  {
   "cell_type": "code",
   "execution_count": null,
   "metadata": {},
   "outputs": [],
   "source": []
  },
  {
   "cell_type": "code",
   "execution_count": null,
   "metadata": {},
   "outputs": [],
   "source": []
  },
  {
   "cell_type": "code",
   "execution_count": null,
   "metadata": {},
   "outputs": [],
   "source": []
  },
  {
   "cell_type": "code",
   "execution_count": null,
   "metadata": {},
   "outputs": [],
   "source": []
  }
 ],
 "metadata": {
  "colab": {
   "name": "python-for-beginners.ipynb",
   "provenance": []
  },
  "jupytext": {
   "cell_metadata_filter": "-all",
   "formats": "ipynb,py:light",
   "main_language": "python",
   "notebook_metadata_filter": "-all"
  },
  "kernelspec": {
   "display_name": "Python 3 (ipykernel)",
   "language": "python",
   "name": "python3"
  },
  "language_info": {
   "codemirror_mode": {
    "name": "ipython",
    "version": 3
   },
   "file_extension": ".py",
   "mimetype": "text/x-python",
   "name": "python",
   "nbconvert_exporter": "python",
   "pygments_lexer": "ipython3",
   "version": "3.10.12"
  }
 },
 "nbformat": 4,
 "nbformat_minor": 4
}
