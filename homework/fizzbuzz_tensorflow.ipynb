{
 "cells": [
  {
   "cell_type": "code",
   "execution_count": null,
   "metadata": {},
   "outputs": [],
   "source": [
    "#!/usr/bin/env python\n",
    "# -*- coding: utf-8 -*-\n",
    "#fizz buzz问题\n",
    "\n",
    "from keras.models import Sequential\n",
    "from keras.layers.core import Dense,Activation\n",
    "import numpy as np"
   ]
  },
  {
   "cell_type": "markdown",
   "metadata": {},
   "source": [
    "The code starts with a shebang line that specifies the interpreter to be used to run the script. The second line specifies the encoding of the script as UTF-8. The third line is a comment that describes the problem being solved: the FizzBuzz game.\n",
    "\n",
    "The code then imports the `Sequential` class from the `keras.models` module and the `Dense` and `Activation` classes from the `keras.layers.core` module. The `numpy` library is also imported using the alias `np`.\n"
   ]
  },
  {
   "cell_type": "code",
   "execution_count": null,
   "metadata": {},
   "outputs": [],
   "source": [
    "def fizzbuzz(start,end):\n",
    "    x_train,y_train=[],[]\n",
    "    for i in range(start,end+1):\n",
    "        num = i\n",
    "        tmp=[0]*10\n",
    "        j=0\n",
    "        while num :\n",
    "            tmp[j] = num & 1\n",
    "            num = num>>1\n",
    "            j+=1\n",
    "        x_train.append(tmp)\n",
    "        if i % 3 == 0 and i % 5 ==0:\n",
    "            y_train.append([0,0,0,1])\n",
    "        elif i % 3 == 0:\n",
    "            y_train.append([0,1,0,0])\n",
    "        elif i % 5 == 0:\n",
    "            y_train.append([0,0,1,0])\n",
    "        else :\n",
    "            y_train.append([1,0,0,0])\n",
    "    return np.array(x_train),np.array(y_train)"
   ]
  },
  {
   "cell_type": "markdown",
   "metadata": {},
   "source": [
    "This is a Python function named `fizzbuzz()` that takes two integer arguments `start` and `end`. The function returns two NumPy arrays: `x_train` and `y_train`.\n",
    "\n",
    "The function first initializes two empty lists `x_train` and `y_train`. It then iterates over the integers from `start` to `end` (inclusive) using a `for` loop. For each integer `i`, the function converts it to binary and stores the binary representation in a list `tmp`. The binary representation is obtained by repeatedly dividing `num` by 2 and storing the remainder in `tmp`. The list `tmp` is then appended to the `x_train` list.\n",
    "\n",
    "The function then checks if `i` is divisible by 3 and 5, and if so, it appends the list `[0,0,0,1]` to the `y_train` list. If `i` is only divisible by 3, it appends the list `[0,1,0,0]` to the `y_train` list. If `i` is only divisible by 5, it appends the list `[0,0,1,0]` to the `y_train` list. If `i` is not divisible by either 3 or 5, it appends the list `[1,0,0,0]` to the `y_train` list.\n",
    "\n",
    "Finally, the function returns the NumPy arrays `x_train` and `y_train`.\n"
   ]
  },
  {
   "cell_type": "code",
   "execution_count": null,
   "metadata": {},
   "outputs": [],
   "source": [
    "x_train,y_train = fizzbuzz(101,1000) #打标记函数\n",
    "x_test,y_test = fizzbuzz(1,100)\n",
    "\n",
    "model = Sequential()\n",
    "model.add(Dense(input_dim=10,units=100))\n",
    "model.add(Activation('relu'))\n",
    "model.add(Dense(units=4))\n",
    "model.add(Activation('softmax'))\n",
    "\n",
    "model.compile(loss='categorical_crossentropy',optimizer='adam',metrics=['accuracy'])\n",
    "\n",
    "model.fit(x_train,y_train,batch_size=20,epochs=100)"
   ]
  },
  {
   "cell_type": "markdown",
   "metadata": {},
   "source": [
    "The code first calls the `fizzbuzz()` function to generate training data and stores the results in the variables `x_train` and `y_train`. The function generates binary encodings of the integers from 101 to 1000 and their corresponding FizzBuzz game rules.\n",
    "\n",
    "The code then calls the `fizzbuzz()` function again to generate test data and stores the results in the variables `x_test` and `y_test`. The function generates binary encodings of the integers from 1 to 100 and their corresponding FizzBuzz game rules.\n",
    "\n",
    "The code then defines a sequential neural network model using the `Sequential()` class from the `keras.models` module. The model consists of two dense layers with 100 and 4 units, respectively. The first dense layer has an input dimension of 10, which corresponds to the length of the binary encoding of the input data. The activation functions for the two dense layers are 'relu' and 'softmax', respectively.\n",
    "\n",
    "The code then compiles the model using the categorical cross-entropy loss function, the Adam optimizer, and the accuracy metric.\n",
    "\n",
    "The code trains the model using the `fit()` method with the training data `x_train` and `y_train`. The model is trained for 100 epochs with a batch size of 20.\n"
   ]
  },
  {
   "cell_type": "code",
   "execution_count": null,
   "metadata": {},
   "outputs": [],
   "source": [
    "result = model.evaluate(x_test,y_test,batch_size=1000)\n",
    "x_val,_ = fizzbuzz(3,8)\n",
    "y_val = model.predict(x_val)\n",
    "print(y_val)\n",
    "print('Acc：',result[1])"
   ]
  },
  {
   "cell_type": "markdown",
   "metadata": {},
   "source": [
    "The code evaluates the trained neural network model using the `evaluate()` method with the test data `x_test` and `y_test`. The batch size for evaluation is set to 1000. The results of the evaluation are stored in the variable `result`, which is a list containing the loss value and the accuracy value.\n",
    "\n",
    "The code then generates validation data using the `fizzbuzz()` function for the integers from 3 to 8. The binary encodings of the integers are stored in the variable `x_val`, and the corresponding FizzBuzz game rules are not used and are discarded.\n",
    "\n",
    "The code then uses the trained model to make predictions for the validation data using the `predict()` method. The predicted output is stored in the variable `y_val`.\n",
    "\n",
    "The code then prints the predicted output `y_val` and the accuracy value `result[1]` to the console using the `print()` function.\n"
   ]
  }
 ],
 "metadata": {
  "language_info": {
   "name": "python"
  }
 },
 "nbformat": 4,
 "nbformat_minor": 2
}
