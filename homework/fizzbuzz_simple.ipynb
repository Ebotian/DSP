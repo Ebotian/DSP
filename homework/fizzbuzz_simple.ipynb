{
 "cells": [
  {
   "cell_type": "code",
   "execution_count": null,
   "metadata": {},
   "outputs": [],
   "source": [
    "def main():\n",
    "    for i in range(1,101):\n",
    "        if i%3==0 and i%5==0:\n",
    "            print(\"FizzBuzz\")\n",
    "            continue\n",
    "        if i%3==0:\n",
    "            print(\"Fizz\")\n",
    "            continue\n",
    "        if i%5==0:\n",
    "            print(\"Buzz\")\n",
    "            continue\n",
    "        print(i)\n",
    "\n",
    "\n",
    "main()"
   ]
  },
  {
   "cell_type": "markdown",
   "metadata": {},
   "source": [
    "This is a Python script that implements the FizzBuzz game. The `main()` function contains a loop that iterates over the numbers from 1 to 100. For each number, the script checks if it is divisible by 3 and 5, and if so, it prints \"FizzBuzz\". If the number is only divisible by 3, it prints \"Fizz\". If the number is only divisible by 5, it prints \"Buzz\". If the number is not divisible by either 3 or 5, it prints the number itself. Finally, the `main()` function is called to execute the script.\n"
   ]
  }
 ],
 "metadata": {
  "language_info": {
   "name": "python"
  }
 },
 "nbformat": 4,
 "nbformat_minor": 2
}
